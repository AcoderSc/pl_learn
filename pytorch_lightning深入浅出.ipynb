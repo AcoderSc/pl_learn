{
 "cells": [
  {
   "cell_type": "markdown",
   "id": "c29f0eec",
   "metadata": {
    "slideshow": {
     "slide_type": "slide"
    }
   },
   "source": [
    "# pytorch_lightning深入浅出"
   ]
  },
  {
   "cell_type": "markdown",
   "id": "508621a3",
   "metadata": {
    "slideshow": {
     "slide_type": "subslide"
    }
   },
   "source": [
    "pytorch-lightning 是建立在pytorch之上的高层次模型接口。\n",
    "\n",
    "pytorch-lightning 之于 pytorch，就如同keras之于 tensorflow.\n",
    "\n",
    "pytorch-lightning 有以下一些引人注目的功能：\n",
    "\n",
    "* 可以不必编写自定义循环，只要指定loss计算方法即可。\n",
    "\n",
    "* 可以通过callbacks非常方便地添加CheckPoint参数保存、early_stopping 等功能。\n",
    "\n",
    "* 可以非常方便地在单CPU、多CPU、单GPU、多GPU乃至多TPU上训练模型。\n",
    "\n",
    "* 可以通过调用torchmetrics库，非常方便地添加Accuracy,AUC,Precision等各种常用评估指标。\n",
    "\n",
    "* 可以非常方便地实施多批次梯度累加、半精度混合精度训练、最大batch_size自动搜索等技巧，加快训练过程。\n",
    "\n",
    "* 可以非常方便地使用SWA(随机参数平均)、CyclicLR(学习率周期性调度策略)与auto_lr_find(最优学习率发现)等技巧 实现模型涨点。\n"
   ]
  },
  {
   "cell_type": "markdown",
   "id": "4b7b69e2",
   "metadata": {
    "slideshow": {
     "slide_type": "slide"
    }
   },
   "source": [
    "一般按照如下方式 安装和 引入 pytorch-lightning 库。\n",
    "\n",
    "```bash\n",
    "#安装\n",
    "pip install pytorch-lightning\n",
    "```\n",
    "\n",
    "```python \n",
    "#引入\n",
    "import pytorch_lightning as pl \n",
    "```\n",
    "\n",
    "顾名思义，它可以帮助我们漂亮(pl)地进行深度学习研究。😋😋 \n",
    "You do the research. Lightning will do everything else.⭐️⭐️ \n",
    "\n",
    "\n",
    "参考文档：\n",
    "\n",
    "* pl_docs: https://pytorch-lightning.readthedocs.io/en/latest/starter/introduction.html\n",
    "* pl_template:https://github.com/PyTorchLightning/deep-learning-project-template\n",
    "* torchmetrics: https://torchmetrics.readthedocs.io/en/latest/pages/lightning.html"
   ]
  },
  {
   "cell_type": "code",
   "execution_count": null,
   "id": "6474aac3",
   "metadata": {
    "slideshow": {
     "slide_type": "skip"
    }
   },
   "outputs": [],
   "source": []
  },
  {
   "cell_type": "markdown",
   "id": "7f3edf91",
   "metadata": {
    "slideshow": {
     "slide_type": "slide"
    }
   },
   "source": [
    "## 一，pytorch-lightning的设计哲学"
   ]
  },
  {
   "cell_type": "markdown",
   "id": "85b6ceda",
   "metadata": {
    "slideshow": {
     "slide_type": "subslide"
    }
   },
   "source": [
    "pytorch-lightning 的核心设计哲学是将 深度学习项目中的 研究代码(定义模型) 和 工程代码 (训练模型) 相互分离。\n",
    "\n",
    "用户只需专注于研究代码(pl.LightningModule)的实现，而工程代码借助训练工具类(pl.Trainer)统一实现。\n",
    "\n",
    "更详细地说，深度学习项目代码可以分成如下4部分：\n",
    "\n",
    "* 研究代码 (Research code)，用户继承LightningModule实现。\n",
    "* 工程代码 (Engineering code)，用户无需关注通过调用Trainer实现。\n",
    "* 非必要代码 （Non-essential research code，logging, etc...），用户通过调用Callbacks实现。\n",
    "* 数据 (Data)，用户通过torch.utils.data.DataLoader实现，也可以封装成pl.LightningDataModule。\n",
    "\n"
   ]
  },
  {
   "cell_type": "code",
   "execution_count": null,
   "id": "20e2fb73",
   "metadata": {
    "slideshow": {
     "slide_type": "skip"
    }
   },
   "outputs": [],
   "source": []
  },
  {
   "cell_type": "markdown",
   "id": "593da4a2",
   "metadata": {
    "slideshow": {
     "slide_type": "slide"
    }
   },
   "source": [
    "## 二，pytorch-lightning使用范例"
   ]
  },
  {
   "cell_type": "markdown",
   "id": "f10313c6",
   "metadata": {
    "slideshow": {
     "slide_type": "subslide"
    }
   },
   "source": [
    "下面我们使用minist图片分类问题为例，演示pytorch-lightning的最佳实践。\n"
   ]
  },
  {
   "cell_type": "markdown",
   "id": "5d97bae4",
   "metadata": {
    "slideshow": {
     "slide_type": "slide"
    }
   },
   "source": [
    "### 1，准备数据"
   ]
  },
  {
   "cell_type": "code",
   "execution_count": 1,
   "id": "4cf42760",
   "metadata": {
    "slideshow": {
     "slide_type": "subslide"
    }
   },
   "outputs": [],
   "source": [
    "import torch \n",
    "from torch import nn \n",
    "from torchvision import transforms as T\n",
    "from torchvision.datasets import MNIST\n",
    "from torch.utils.data import DataLoader,random_split\n",
    "import pytorch_lightning as pl \n",
    "from torchmetrics import Accuracy \n"
   ]
  },
  {
   "cell_type": "code",
   "execution_count": 2,
   "id": "88231de3",
   "metadata": {
    "slideshow": {
     "slide_type": "subslide"
    }
   },
   "outputs": [],
   "source": [
    "class MNISTDataModule(pl.LightningDataModule):\n",
    "    def __init__(self, data_dir: str = \"./minist/\", \n",
    "                 batch_size: int = 32,\n",
    "                 num_workers: int =4):\n",
    "        super().__init__()\n",
    "        self.data_dir = data_dir\n",
    "        self.batch_size = batch_size\n",
    "        self.num_workers = num_workers\n",
    "\n",
    "    def setup(self, stage = None):\n",
    "        transform = T.Compose([T.ToTensor()])\n",
    "        self.ds_test = MNIST(self.data_dir, train=False,transform=transform,download=True)\n",
    "        self.ds_predict = MNIST(self.data_dir, train=False,transform=transform,download=True)\n",
    "        ds_full = MNIST(self.data_dir, train=True,transform=transform,download=True)\n",
    "        self.ds_train, self.ds_val = random_split(ds_full, [55000, 5000])\n",
    "\n",
    "    def train_dataloader(self):\n",
    "        return DataLoader(self.ds_train, batch_size=self.batch_size,\n",
    "                          shuffle=True, num_workers=self.num_workers,\n",
    "                          pin_memory=True)\n",
    "\n",
    "    def val_dataloader(self):\n",
    "        return DataLoader(self.ds_val, batch_size=self.batch_size,\n",
    "                          shuffle=False, num_workers=self.num_workers,\n",
    "                          pin_memory=True)\n",
    "\n",
    "    def test_dataloader(self):\n",
    "        return DataLoader(self.ds_test, batch_size=self.batch_size,\n",
    "                          shuffle=False, num_workers=self.num_workers,\n",
    "                          pin_memory=True)\n",
    "\n",
    "    def predict_dataloader(self):\n",
    "        return DataLoader(self.ds_predict, batch_size=self.batch_size,\n",
    "                          shuffle=False, num_workers=self.num_workers,\n",
    "                          pin_memory=True)\n",
    "    "
   ]
  },
  {
   "cell_type": "code",
   "execution_count": 3,
   "id": "b3833b60",
   "metadata": {
    "slideshow": {
     "slide_type": "slide"
    }
   },
   "outputs": [],
   "source": [
    "data_mnist = MNISTDataModule()\n",
    "data_mnist.setup()"
   ]
  },
  {
   "cell_type": "code",
   "execution_count": 4,
   "id": "caa5a7df",
   "metadata": {
    "slideshow": {
     "slide_type": "subslide"
    }
   },
   "outputs": [
    {
     "name": "stdout",
     "output_type": "stream",
     "text": [
      "torch.Size([32, 1, 28, 28])\n",
      "torch.Size([32])\n"
     ]
    }
   ],
   "source": [
    "for features,labels in data_mnist.train_dataloader():\n",
    "    print(features.shape)\n",
    "    print(labels.shape)\n",
    "    break "
   ]
  },
  {
   "cell_type": "markdown",
   "id": "910732e7",
   "metadata": {},
   "source": [
    "```\n",
    "torch.Size([32, 1, 28, 28])\n",
    "torch.Size([32])\n",
    "```"
   ]
  },
  {
   "cell_type": "code",
   "execution_count": null,
   "id": "42c7dc3f",
   "metadata": {
    "slideshow": {
     "slide_type": "skip"
    }
   },
   "outputs": [],
   "source": []
  },
  {
   "cell_type": "markdown",
   "id": "dedc209e",
   "metadata": {
    "slideshow": {
     "slide_type": "slide"
    }
   },
   "source": [
    "### 2，定义模型"
   ]
  },
  {
   "cell_type": "code",
   "execution_count": 5,
   "id": "3f76a21d",
   "metadata": {
    "slideshow": {
     "slide_type": "notes"
    }
   },
   "outputs": [
    {
     "name": "stdout",
     "output_type": "stream",
     "text": [
      "model_size = 0.21888 M \n",
      "\n",
      "   | Name      | Type               | Params | In sizes         | Out sizes       \n",
      "----------------------------------------------------------------------------------------\n",
      "0  | net       | Sequential         | 54.0 K | [32, 1, 28, 28]  | [32, 10]        \n",
      "1  | net.0     | Conv2d             | 320    | [32, 1, 28, 28]  | [32, 32, 26, 26]\n",
      "2  | net.1     | MaxPool2d          | 0      | [32, 32, 26, 26] | [32, 32, 13, 13]\n",
      "3  | net.2     | Conv2d             | 51.3 K | [32, 32, 13, 13] | [32, 64, 9, 9]  \n",
      "4  | net.3     | MaxPool2d          | 0      | [32, 64, 9, 9]   | [32, 64, 4, 4]  \n",
      "5  | net.4     | Dropout2d          | 0      | [32, 64, 4, 4]   | [32, 64, 4, 4]  \n",
      "6  | net.5     | AdaptiveMaxPool2d  | 0      | [32, 64, 4, 4]   | [32, 64, 1, 1]  \n",
      "7  | net.6     | Flatten            | 0      | [32, 64, 1, 1]   | [32, 64]        \n",
      "8  | net.7     | Linear             | 2.1 K  | [32, 64]         | [32, 32]        \n",
      "9  | net.8     | ReLU               | 0      | [32, 32]         | [32, 32]        \n",
      "10 | net.9     | Linear             | 330    | [32, 32]         | [32, 10]        \n",
      "11 | train_acc | MulticlassAccuracy | 0      | ?                | ?               \n",
      "12 | val_acc   | MulticlassAccuracy | 0      | ?                | ?               \n",
      "13 | test_acc  | MulticlassAccuracy | 0      | ?                | ?               \n",
      "----------------------------------------------------------------------------------------\n",
      "54.0 K    Trainable params\n",
      "0         Non-trainable params\n",
      "54.0 K    Total params\n",
      "0.216     Total estimated model params size (MB)\n"
     ]
    },
    {
     "name": "stderr",
     "output_type": "stream",
     "text": [
      "D:\\Anaconda3\\envs\\satmvs\\lib\\site-packages\\pytorch_lightning\\utilities\\parsing.py:262: UserWarning: Attribute 'net' is an instance of `nn.Module` and is already saved during checkpointing. It is recommended to ignore them using `self.save_hyperparameters(ignore=['net'])`.\n",
      "  rank_zero_warn(\n"
     ]
    }
   ],
   "source": [
    "net = nn.Sequential(\n",
    "    nn.Conv2d(in_channels=1,out_channels=32,kernel_size = 3),\n",
    "    nn.MaxPool2d(kernel_size = 2,stride = 2),\n",
    "    nn.Conv2d(in_channels=32,out_channels=64,kernel_size = 5),\n",
    "    nn.MaxPool2d(kernel_size = 2,stride = 2),\n",
    "    nn.Dropout2d(p = 0.1),\n",
    "    nn.AdaptiveMaxPool2d((1,1)),\n",
    "    nn.Flatten(),\n",
    "    nn.Linear(64,32),\n",
    "    nn.ReLU(),\n",
    "    nn.Linear(32,10)\n",
    ")\n",
    "\n",
    "class Model(pl.LightningModule):\n",
    "    \n",
    "    def __init__(self,net,learning_rate=1e-3):\n",
    "        super().__init__()\n",
    "        self.save_hyperparameters()\n",
    "        self.net = net\n",
    "        self.train_acc = Accuracy(num_classes=10, average='macro', multiclass=True,task='multiclass')\n",
    "        self.val_acc = Accuracy(num_classes=10, average='macro', multiclass=True,task='multiclass')\n",
    "        self.test_acc = Accuracy(num_classes=10, average='macro', multiclass=True,task='multiclass')\n",
    "        \n",
    "        \n",
    "    def forward(self,x):\n",
    "        x = self.net(x)\n",
    "        return x\n",
    "    \n",
    "    \n",
    "    #定义loss\n",
    "    def training_step(self, batch, batch_idx):\n",
    "        x, y = batch\n",
    "        preds = self(x)\n",
    "        loss = nn.CrossEntropyLoss()(preds,y)\n",
    "        return {\"loss\":loss,\"preds\":preds.detach(),\"y\":y.detach()}\n",
    "    \n",
    "    #定义各种metrics\n",
    "    def training_step_end(self,outputs):\n",
    "        train_acc = self.train_acc(outputs['preds'], outputs['y']).item()    \n",
    "        self.log(\"train_acc\",train_acc,prog_bar=True)\n",
    "        return {\"loss\":outputs[\"loss\"].mean()}\n",
    "    \n",
    "    #定义optimizer,以及可选的lr_scheduler\n",
    "    def configure_optimizers(self):\n",
    "        return torch.optim.Adam(self.parameters(), lr=self.hparams.learning_rate)\n",
    "    \n",
    "    def validation_step(self, batch, batch_idx):\n",
    "        x, y = batch\n",
    "        preds = self(x)\n",
    "        loss = nn.CrossEntropyLoss()(preds,y)\n",
    "        return {\"loss\":loss,\"preds\":preds.detach(),\"y\":y.detach()}\n",
    "\n",
    "    def validation_step_end(self,outputs):\n",
    "        val_acc = self.val_acc(outputs['preds'], outputs['y']).item()    \n",
    "        self.log(\"val_loss\",outputs[\"loss\"].mean(),on_epoch=True,on_step=False)\n",
    "        self.log(\"val_acc\",val_acc,prog_bar=True,on_epoch=True,on_step=False)\n",
    "    \n",
    "    def test_step(self, batch, batch_idx):\n",
    "        x, y = batch\n",
    "        preds = self(x)\n",
    "        loss = nn.CrossEntropyLoss()(preds,y)\n",
    "        return {\"loss\":loss,\"preds\":preds.detach(),\"y\":y.detach()}\n",
    "    \n",
    "    def test_step_end(self,outputs):\n",
    "        test_acc = self.test_acc(outputs['preds'], outputs['y']).item()    \n",
    "        self.log(\"test_acc\",test_acc,on_epoch=True,on_step=False)\n",
    "        self.log(\"test_loss\",outputs[\"loss\"].mean(),on_epoch=True,on_step=False)\n",
    "    \n",
    "model = Model(net)\n",
    "\n",
    "#查看模型大小\n",
    "model_size = pl.utilities.memory.get_model_size_mb(model)\n",
    "print(\"model_size = {} M \\n\".format(model_size))\n",
    "model.example_input_array = [features]\n",
    "summary = pl.utilities.model_summary.ModelSummary(model,max_depth=-1)\n",
    "print(summary) \n"
   ]
  },
  {
   "cell_type": "markdown",
   "id": "93757e61",
   "metadata": {},
   "source": [
    "```\n",
    "model_size = 0.218447 M \n",
    "\n",
    "   | Name      | Type              | Params | In sizes         | Out sizes       \n",
    "---------------------------------------------------------------------------------------\n",
    "0  | net       | Sequential        | 54.0 K | [32, 1, 28, 28]  | [32, 10]        \n",
    "1  | net.0     | Conv2d            | 320    | [32, 1, 28, 28]  | [32, 32, 26, 26]\n",
    "2  | net.1     | MaxPool2d         | 0      | [32, 32, 26, 26] | [32, 32, 13, 13]\n",
    "3  | net.2     | Conv2d            | 51.3 K | [32, 32, 13, 13] | [32, 64, 9, 9]  \n",
    "4  | net.3     | MaxPool2d         | 0      | [32, 64, 9, 9]   | [32, 64, 4, 4]  \n",
    "5  | net.4     | Dropout2d         | 0      | [32, 64, 4, 4]   | [32, 64, 4, 4]  \n",
    "6  | net.5     | AdaptiveMaxPool2d | 0      | [32, 64, 4, 4]   | [32, 64, 1, 1]  \n",
    "7  | net.6     | Flatten           | 0      | [32, 64, 1, 1]   | [32, 64]        \n",
    "8  | net.7     | Linear            | 2.1 K  | [32, 64]         | [32, 32]        \n",
    "9  | net.8     | ReLU              | 0      | [32, 32]         | [32, 32]        \n",
    "10 | net.9     | Linear            | 330    | [32, 32]         | [32, 10]        \n",
    "11 | train_acc | Accuracy          | 0      | ?                | ?               \n",
    "12 | val_acc   | Accuracy          | 0      | ?                | ?               \n",
    "13 | test_acc  | Accuracy          | 0      | ?                | ?               \n",
    "---------------------------------------------------------------------------------------\n",
    "54.0 K    Trainable params\n",
    "0         Non-trainable params\n",
    "54.0 K    Total params\n",
    "0.216     Total estimated model params size (MB)\n",
    "```"
   ]
  },
  {
   "cell_type": "code",
   "execution_count": null,
   "id": "66a49029",
   "metadata": {},
   "outputs": [],
   "source": []
  },
  {
   "cell_type": "markdown",
   "id": "1f714ad6",
   "metadata": {
    "slideshow": {
     "slide_type": "slide"
    }
   },
   "source": [
    "### 3，训练模型"
   ]
  },
  {
   "cell_type": "code",
   "execution_count": 6,
   "id": "0eb33a5f-5f26-417b-8cd5-1d5259677bd1",
   "metadata": {
    "slideshow": {
     "slide_type": "fragment"
    }
   },
   "outputs": [
    {
     "name": "stderr",
     "output_type": "stream",
     "text": [
      "Global seed set to 1234\n",
      "D:\\Anaconda3\\envs\\satmvs\\lib\\site-packages\\pytorch_lightning\\trainer\\connectors\\accelerator_connector.py:446: LightningDeprecationWarning: Setting `Trainer(gpus=0)` is deprecated in v1.7 and will be removed in v2.0. Please use `Trainer(accelerator='gpu', devices=0)` instead.\n",
      "  rank_zero_deprecation(\n",
      "GPU available: True (cuda), used: False\n",
      "TPU available: False, using: 0 TPU cores\n",
      "IPU available: False, using: 0 IPUs\n",
      "HPU available: False, using: 0 HPUs\n",
      "D:\\Anaconda3\\envs\\satmvs\\lib\\site-packages\\pytorch_lightning\\trainer\\setup.py:175: PossibleUserWarning: GPU available but not used. Set `accelerator` and `devices` using `Trainer(accelerator='gpu', devices=1)`.\n",
      "  rank_zero_warn(\n",
      "\n",
      "  | Name      | Type               | Params | In sizes        | Out sizes\n",
      "-------------------------------------------------------------------------------\n",
      "0 | net       | Sequential         | 54.0 K | [32, 1, 28, 28] | [32, 10] \n",
      "1 | train_acc | MulticlassAccuracy | 0      | ?               | ?        \n",
      "2 | val_acc   | MulticlassAccuracy | 0      | ?               | ?        \n",
      "3 | test_acc  | MulticlassAccuracy | 0      | ?               | ?        \n",
      "-------------------------------------------------------------------------------\n",
      "54.0 K    Trainable params\n",
      "0         Non-trainable params\n",
      "54.0 K    Total params\n",
      "0.216     Total estimated model params size (MB)\n"
     ]
    },
    {
     "data": {
      "application/vnd.jupyter.widget-view+json": {
       "model_id": "",
       "version_major": 2,
       "version_minor": 0
      },
      "text/plain": [
       "Sanity Checking: 0it [00:00, ?it/s]"
      ]
     },
     "metadata": {},
     "output_type": "display_data"
    },
    {
     "data": {
      "application/vnd.jupyter.widget-view+json": {
       "model_id": "9248509397a74b3ba3a75ee6fdb02b06",
       "version_major": 2,
       "version_minor": 0
      },
      "text/plain": [
       "Training: 0it [00:00, ?it/s]"
      ]
     },
     "metadata": {},
     "output_type": "display_data"
    },
    {
     "data": {
      "application/vnd.jupyter.widget-view+json": {
       "model_id": "",
       "version_major": 2,
       "version_minor": 0
      },
      "text/plain": [
       "Validation: 0it [00:00, ?it/s]"
      ]
     },
     "metadata": {},
     "output_type": "display_data"
    },
    {
     "data": {
      "application/vnd.jupyter.widget-view+json": {
       "model_id": "",
       "version_major": 2,
       "version_minor": 0
      },
      "text/plain": [
       "Validation: 0it [00:00, ?it/s]"
      ]
     },
     "metadata": {},
     "output_type": "display_data"
    },
    {
     "data": {
      "application/vnd.jupyter.widget-view+json": {
       "model_id": "",
       "version_major": 2,
       "version_minor": 0
      },
      "text/plain": [
       "Validation: 0it [00:00, ?it/s]"
      ]
     },
     "metadata": {},
     "output_type": "display_data"
    },
    {
     "data": {
      "application/vnd.jupyter.widget-view+json": {
       "model_id": "",
       "version_major": 2,
       "version_minor": 0
      },
      "text/plain": [
       "Validation: 0it [00:00, ?it/s]"
      ]
     },
     "metadata": {},
     "output_type": "display_data"
    },
    {
     "data": {
      "application/vnd.jupyter.widget-view+json": {
       "model_id": "",
       "version_major": 2,
       "version_minor": 0
      },
      "text/plain": [
       "Validation: 0it [00:00, ?it/s]"
      ]
     },
     "metadata": {},
     "output_type": "display_data"
    },
    {
     "data": {
      "application/vnd.jupyter.widget-view+json": {
       "model_id": "",
       "version_major": 2,
       "version_minor": 0
      },
      "text/plain": [
       "Validation: 0it [00:00, ?it/s]"
      ]
     },
     "metadata": {},
     "output_type": "display_data"
    },
    {
     "data": {
      "application/vnd.jupyter.widget-view+json": {
       "model_id": "",
       "version_major": 2,
       "version_minor": 0
      },
      "text/plain": [
       "Validation: 0it [00:00, ?it/s]"
      ]
     },
     "metadata": {},
     "output_type": "display_data"
    },
    {
     "data": {
      "application/vnd.jupyter.widget-view+json": {
       "model_id": "",
       "version_major": 2,
       "version_minor": 0
      },
      "text/plain": [
       "Validation: 0it [00:00, ?it/s]"
      ]
     },
     "metadata": {},
     "output_type": "display_data"
    },
    {
     "data": {
      "application/vnd.jupyter.widget-view+json": {
       "model_id": "",
       "version_major": 2,
       "version_minor": 0
      },
      "text/plain": [
       "Validation: 0it [00:00, ?it/s]"
      ]
     },
     "metadata": {},
     "output_type": "display_data"
    },
    {
     "data": {
      "application/vnd.jupyter.widget-view+json": {
       "model_id": "",
       "version_major": 2,
       "version_minor": 0
      },
      "text/plain": [
       "Validation: 0it [00:00, ?it/s]"
      ]
     },
     "metadata": {},
     "output_type": "display_data"
    },
    {
     "data": {
      "application/vnd.jupyter.widget-view+json": {
       "model_id": "",
       "version_major": 2,
       "version_minor": 0
      },
      "text/plain": [
       "Validation: 0it [00:00, ?it/s]"
      ]
     },
     "metadata": {},
     "output_type": "display_data"
    },
    {
     "data": {
      "application/vnd.jupyter.widget-view+json": {
       "model_id": "",
       "version_major": 2,
       "version_minor": 0
      },
      "text/plain": [
       "Validation: 0it [00:00, ?it/s]"
      ]
     },
     "metadata": {},
     "output_type": "display_data"
    },
    {
     "data": {
      "application/vnd.jupyter.widget-view+json": {
       "model_id": "",
       "version_major": 2,
       "version_minor": 0
      },
      "text/plain": [
       "Validation: 0it [00:00, ?it/s]"
      ]
     },
     "metadata": {},
     "output_type": "display_data"
    },
    {
     "data": {
      "application/vnd.jupyter.widget-view+json": {
       "model_id": "",
       "version_major": 2,
       "version_minor": 0
      },
      "text/plain": [
       "Validation: 0it [00:00, ?it/s]"
      ]
     },
     "metadata": {},
     "output_type": "display_data"
    },
    {
     "name": "stderr",
     "output_type": "stream",
     "text": [
      "FIT Profiler Report\n",
      "\n",
      "-------------------------------------------------------------------------------------------------------------------------------------------------------------------------------------------------------------------------------------------------------------------------------------------------------------------\n",
      "|  Action                                                                                                                                                                                                \t|  Mean duration (s)\t|  Num calls      \t|  Total time (s) \t|  Percentage %   \t|\n",
      "-------------------------------------------------------------------------------------------------------------------------------------------------------------------------------------------------------------------------------------------------------------------------------------------------------------------\n",
      "|  Total                                                                                                                                                                                                 \t|  -              \t|  1248031        \t|  527.53         \t|  100 %          \t|\n",
      "-------------------------------------------------------------------------------------------------------------------------------------------------------------------------------------------------------------------------------------------------------------------------------------------------------------------\n",
      "|  run_training_epoch                                                                                                                                                                                    \t|  37.398         \t|  14             \t|  523.57         \t|  99.248         \t|\n",
      "|  run_training_batch                                                                                                                                                                                    \t|  0.010611       \t|  24066          \t|  255.37         \t|  48.409         \t|\n",
      "|  [LightningModule]Model.optimizer_step                                                                                                                                                                 \t|  0.010356       \t|  24066          \t|  249.23         \t|  47.244         \t|\n",
      "|  [Strategy]SingleDeviceStrategy.backward                                                                                                                                                               \t|  0.0041782      \t|  24066          \t|  100.55         \t|  19.061         \t|\n",
      "|  [Strategy]SingleDeviceStrategy.training_step                                                                                                                                                          \t|  0.0030067      \t|  24066          \t|  72.36          \t|  13.717         \t|\n",
      "|  [EvaluationEpochLoop].val_dataloader_idx_0_next                                                                                                                                                       \t|  0.019829       \t|  2198           \t|  43.584         \t|  8.2619         \t|\n",
      "|  [Callback]TQDMProgressBar.on_train_batch_end                                                                                                                                                          \t|  0.0014863      \t|  24066          \t|  35.769         \t|  6.7805         \t|\n",
      "|  [LightningModule]Model.training_step_end                                                                                                                                                              \t|  0.00099938     \t|  24066          \t|  24.051         \t|  4.5592         \t|\n",
      "|  [LightningModule]Model.optimizer_zero_grad                                                                                                                                                            \t|  0.0004046      \t|  24066          \t|  9.737          \t|  1.8458         \t|\n",
      "|  [Strategy]SingleDeviceStrategy.validation_step                                                                                                                                                        \t|  0.0029741      \t|  2200           \t|  6.543          \t|  1.2403         \t|\n",
      "|  [TrainingEpochLoop].train_dataloader_next                                                                                                                                                             \t|  0.00020224     \t|  24066          \t|  4.867          \t|  0.9226         \t|\n",
      "|  [Callback]TQDMProgressBar.on_validation_batch_end                                                                                                                                                     \t|  0.0013877      \t|  2200           \t|  3.053          \t|  0.57873        \t|\n",
      "|  [EvaluationEpochLoop].None_dataloader_idx_0_next                                                                                                                                                      \t|  1.242          \t|  2              \t|  2.484          \t|  0.47087        \t|\n",
      "|  [LightningModule]Model.validation_step_end                                                                                                                                                            \t|  0.0011282      \t|  2200           \t|  2.482          \t|  0.47049        \t|\n",
      "|  [Strategy]SingleDeviceStrategy.batch_to_device                                                                                                                                                        \t|  8.0104e-05     \t|  26266          \t|  2.104          \t|  0.39884        \t|\n",
      "|  [LightningModule]Model.transfer_batch_to_device                                                                                                                                                       \t|  4.2411e-05     \t|  26267          \t|  1.114          \t|  0.21117        \t|\n",
      "|  [Callback]ModelCheckpoint{'monitor': 'val_loss', 'mode': 'min', 'every_n_train_steps': 0, 'every_n_epochs': 1, 'train_time_interval': None, 'save_on_train_epoch_end': True}.on_train_batch_end       \t|  3.2494e-05     \t|  24066          \t|  0.782          \t|  0.14824        \t|\n",
      "|  [LightningModule]Model.configure_gradient_clipping                                                                                                                                                    \t|  1.9987e-05     \t|  24066          \t|  0.481          \t|  0.091179       \t|\n",
      "|  [Callback]TQDMProgressBar.on_validation_start                                                                                                                                                         \t|  0.010467       \t|  15             \t|  0.157          \t|  0.029761       \t|\n",
      "|  [Callback]ModelSummary.on_train_batch_end                                                                                                                                                             \t|  5.2356e-06     \t|  24066          \t|  0.126          \t|  0.023885       \t|\n",
      "|  [Callback]ModelSummary.on_before_zero_grad                                                                                                                                                            \t|  4.5708e-06     \t|  24066          \t|  0.11           \t|  0.020852       \t|\n",
      "|  [Callback]EarlyStopping{'monitor': 'val_loss', 'mode': 'min'}.on_before_zero_grad                                                                                                                     \t|  4.5292e-06     \t|  24066          \t|  0.109          \t|  0.020662       \t|\n",
      "|  [Callback]EarlyStopping{'monitor': 'val_loss', 'mode': 'min'}.on_after_backward                                                                                                                       \t|  4.5292e-06     \t|  24066          \t|  0.109          \t|  0.020662       \t|\n",
      "|  [Callback]EarlyStopping{'monitor': 'val_loss', 'mode': 'min'}.on_train_batch_end                                                                                                                      \t|  3.9059e-06     \t|  24066          \t|  0.094          \t|  0.017819       \t|\n",
      "|  [Callback]ModelCheckpoint{'monitor': 'val_loss', 'mode': 'min', 'every_n_train_steps': 0, 'every_n_epochs': 1, 'train_time_interval': None, 'save_on_train_epoch_end': True}.on_train_epoch_end       \t|  0.0054286      \t|  14             \t|  0.076          \t|  0.014407       \t|\n",
      "|  [Callback]EarlyStopping{'monitor': 'val_loss', 'mode': 'min'}.on_before_backward                                                                                                                      \t|  2.5762e-06     \t|  24066          \t|  0.062          \t|  0.011753       \t|\n",
      "|  [Strategy]SingleDeviceStrategy.on_train_batch_start                                                                                                                                                   \t|  1.9945e-06     \t|  24066          \t|  0.048          \t|  0.009099       \t|\n",
      "|  [Callback]EarlyStopping{'monitor': 'val_loss', 'mode': 'min'}.on_train_batch_start                                                                                                                    \t|  1.953e-06      \t|  24066          \t|  0.047          \t|  0.0089094      \t|\n",
      "|  [Callback]GradientAccumulationScheduler.on_train_batch_end                                                                                                                                            \t|  1.9114e-06     \t|  24066          \t|  0.046          \t|  0.0087199      \t|\n",
      "|  [LightningModule]Model.on_before_batch_transfer                                                                                                                                                       \t|  1.2183e-06     \t|  26267          \t|  0.032          \t|  0.006066       \t|\n",
      "|  [Callback]TQDMProgressBar.on_after_backward                                                                                                                                                           \t|  1.3297e-06     \t|  24066          \t|  0.032          \t|  0.006066       \t|\n",
      "|  [Callback]ModelCheckpoint{'monitor': 'val_loss', 'mode': 'min', 'every_n_train_steps': 0, 'every_n_epochs': 1, 'train_time_interval': None, 'save_on_train_epoch_end': True}.on_train_batch_start     \t|  1.3297e-06     \t|  24066          \t|  0.032          \t|  0.006066       \t|\n",
      "|  [LightningModule]Model.on_train_batch_start                                                                                                                                                           \t|  1.3297e-06     \t|  24066          \t|  0.032          \t|  0.006066       \t|\n",
      "|  [LightningModule]Model.on_before_backward                                                                                                                                                             \t|  1.3297e-06     \t|  24066          \t|  0.032          \t|  0.006066       \t|\n",
      "|  [Callback]TQDMProgressBar.on_validation_batch_start                                                                                                                                                   \t|  1.4091e-05     \t|  2200           \t|  0.031          \t|  0.0058764      \t|\n",
      "|  [LightningDataModule]MNISTDataModule.setup                                                                                                                                                            \t|  0.031          \t|  1              \t|  0.031          \t|  0.0058764      \t|\n",
      "|  [LightningModule]Model.on_after_batch_transfer                                                                                                                                                        \t|  1.1802e-06     \t|  26267          \t|  0.031          \t|  0.0058764      \t|\n",
      "|  [Callback]GradientAccumulationScheduler.on_before_zero_grad                                                                                                                                           \t|  1.2881e-06     \t|  24066          \t|  0.031          \t|  0.0058764      \t|\n",
      "|  [Callback]ModelCheckpoint{'monitor': 'val_loss', 'mode': 'min', 'every_n_train_steps': 0, 'every_n_epochs': 1, 'train_time_interval': None, 'save_on_train_epoch_end': True}.on_before_zero_grad      \t|  1.2881e-06     \t|  24066          \t|  0.031          \t|  0.0058764      \t|\n",
      "|  [Callback]TQDMProgressBar.on_before_backward                                                                                                                                                          \t|  1.2881e-06     \t|  24066          \t|  0.031          \t|  0.0058764      \t|\n",
      "|  [Callback]GradientAccumulationScheduler.on_before_backward                                                                                                                                            \t|  1.2881e-06     \t|  24066          \t|  0.031          \t|  0.0058764      \t|\n",
      "|  [Callback]ModelCheckpoint{'monitor': 'val_loss', 'mode': 'min', 'every_n_train_steps': 0, 'every_n_epochs': 1, 'train_time_interval': None, 'save_on_train_epoch_end': True}.on_after_backward        \t|  1.2881e-06     \t|  24066          \t|  0.031          \t|  0.0058764      \t|\n",
      "|  [Callback]ModelCheckpoint{'monitor': 'val_loss', 'mode': 'min', 'every_n_train_steps': 0, 'every_n_epochs': 1, 'train_time_interval': None, 'save_on_train_epoch_end': True}.on_before_backward       \t|  1.2466e-06     \t|  24066          \t|  0.03           \t|  0.0056869      \t|\n",
      "|  [Callback]ModelSummary.on_validation_batch_end                                                                                                                                                        \t|  7.2727e-06     \t|  2200           \t|  0.016          \t|  0.003033       \t|\n",
      "|  [LightningModule]Model.on_before_zero_grad                                                                                                                                                            \t|  6.6484e-07     \t|  24066          \t|  0.016          \t|  0.003033       \t|\n",
      "|  [LightningModule]Model.on_after_backward                                                                                                                                                              \t|  6.6484e-07     \t|  24066          \t|  0.016          \t|  0.003033       \t|\n",
      "|  [Callback]ModelSummary.on_before_optimizer_step                                                                                                                                                       \t|  6.6484e-07     \t|  24066          \t|  0.016          \t|  0.003033       \t|\n",
      "|  [Callback]EarlyStopping{'monitor': 'val_loss', 'mode': 'min'}.on_validation_batch_end                                                                                                                 \t|  7.2727e-06     \t|  2200           \t|  0.016          \t|  0.003033       \t|\n",
      "|  [Callback]ModelSummary.on_before_backward                                                                                                                                                             \t|  6.6484e-07     \t|  24066          \t|  0.016          \t|  0.003033       \t|\n",
      "|  [Callback]TQDMProgressBar.on_before_optimizer_step                                                                                                                                                    \t|  6.6484e-07     \t|  24066          \t|  0.016          \t|  0.003033       \t|\n",
      "|  [Callback]ModelCheckpoint{'monitor': 'val_loss', 'mode': 'min', 'every_n_train_steps': 0, 'every_n_epochs': 1, 'train_time_interval': None, 'save_on_train_epoch_end': True}.on_before_optimizer_step \t|  6.6484e-07     \t|  24066          \t|  0.016          \t|  0.003033       \t|\n",
      "|  [Callback]TQDMProgressBar.on_train_epoch_start                                                                                                                                                        \t|  0.0010714      \t|  14             \t|  0.015          \t|  0.0028434      \t|\n",
      "|  [Callback]ModelSummary.on_train_batch_start                                                                                                                                                           \t|  6.2329e-07     \t|  24066          \t|  0.015          \t|  0.0028434      \t|\n",
      "|  [Callback]GradientAccumulationScheduler.on_train_batch_start                                                                                                                                          \t|  6.2329e-07     \t|  24066          \t|  0.015          \t|  0.0028434      \t|\n",
      "|  [Strategy]SingleDeviceStrategy.training_step_end                                                                                                                                                      \t|  6.2329e-07     \t|  24066          \t|  0.015          \t|  0.0028434      \t|\n",
      "|  [Callback]TQDMProgressBar.on_before_zero_grad                                                                                                                                                         \t|  6.2329e-07     \t|  24066          \t|  0.015          \t|  0.0028434      \t|\n",
      "|  [Callback]EarlyStopping{'monitor': 'val_loss', 'mode': 'min'}.on_before_optimizer_step                                                                                                                \t|  6.2329e-07     \t|  24066          \t|  0.015          \t|  0.0028434      \t|\n",
      "|  [LightningModule]Model.configure_callbacks                                                                                                                                                            \t|  0.0            \t|  1              \t|  0.0            \t|  0.0            \t|\n",
      "|  [LightningDataModule]MNISTDataModule.prepare_data                                                                                                                                                     \t|  0.0            \t|  1              \t|  0.0            \t|  0.0            \t|\n",
      "|  [LightningModule]Model.prepare_data                                                                                                                                                                   \t|  0.0            \t|  1              \t|  0.0            \t|  0.0            \t|\n",
      "|  [Callback]EarlyStopping{'monitor': 'val_loss', 'mode': 'min'}.setup                                                                                                                                   \t|  0.0            \t|  1              \t|  0.0            \t|  0.0            \t|\n",
      "|  [Callback]TQDMProgressBar.setup                                                                                                                                                                       \t|  0.0            \t|  1              \t|  0.0            \t|  0.0            \t|\n",
      "|  [Callback]ModelSummary.setup                                                                                                                                                                          \t|  0.0            \t|  1              \t|  0.0            \t|  0.0            \t|\n",
      "|  [Callback]GradientAccumulationScheduler.setup                                                                                                                                                         \t|  0.0            \t|  1              \t|  0.0            \t|  0.0            \t|\n",
      "|  [Callback]ModelCheckpoint{'monitor': 'val_loss', 'mode': 'min', 'every_n_train_steps': 0, 'every_n_epochs': 1, 'train_time_interval': None, 'save_on_train_epoch_end': None}.setup                    \t|  0.0            \t|  1              \t|  0.0            \t|  0.0            \t|\n",
      "|  [LightningModule]Model.setup                                                                                                                                                                          \t|  0.0            \t|  1              \t|  0.0            \t|  0.0            \t|\n",
      "|  [LightningModule]Model.configure_sharded_model                                                                                                                                                        \t|  0.0            \t|  1              \t|  0.0            \t|  0.0            \t|\n",
      "|  [LightningModule]Model.configure_optimizers                                                                                                                                                           \t|  0.0            \t|  1              \t|  0.0            \t|  0.0            \t|\n",
      "|  [Callback]EarlyStopping{'monitor': 'val_loss', 'mode': 'min'}.on_fit_start                                                                                                                            \t|  0.0            \t|  1              \t|  0.0            \t|  0.0            \t|\n",
      "|  [Callback]TQDMProgressBar.on_fit_start                                                                                                                                                                \t|  0.0            \t|  1              \t|  0.0            \t|  0.0            \t|\n",
      "|  [Callback]ModelSummary.on_fit_start                                                                                                                                                                   \t|  0.0            \t|  1              \t|  0.0            \t|  0.0            \t|\n",
      "|  [Callback]GradientAccumulationScheduler.on_fit_start                                                                                                                                                  \t|  0.0            \t|  1              \t|  0.0            \t|  0.0            \t|\n",
      "|  [Callback]ModelCheckpoint{'monitor': 'val_loss', 'mode': 'min', 'every_n_train_steps': 0, 'every_n_epochs': 1, 'train_time_interval': None, 'save_on_train_epoch_end': True}.on_fit_start             \t|  0.0            \t|  1              \t|  0.0            \t|  0.0            \t|\n",
      "|  [LightningModule]Model.on_fit_start                                                                                                                                                                   \t|  0.0            \t|  1              \t|  0.0            \t|  0.0            \t|\n",
      "|  [Callback]EarlyStopping{'monitor': 'val_loss', 'mode': 'min'}.on_sanity_check_start                                                                                                                   \t|  0.0            \t|  1              \t|  0.0            \t|  0.0            \t|\n",
      "|  [Callback]TQDMProgressBar.on_sanity_check_start                                                                                                                                                       \t|  0.0            \t|  1              \t|  0.0            \t|  0.0            \t|\n",
      "|  [Callback]ModelSummary.on_sanity_check_start                                                                                                                                                          \t|  0.0            \t|  1              \t|  0.0            \t|  0.0            \t|\n",
      "|  [Callback]GradientAccumulationScheduler.on_sanity_check_start                                                                                                                                         \t|  0.0            \t|  1              \t|  0.0            \t|  0.0            \t|\n",
      "|  [Callback]ModelCheckpoint{'monitor': 'val_loss', 'mode': 'min', 'every_n_train_steps': 0, 'every_n_epochs': 1, 'train_time_interval': None, 'save_on_train_epoch_end': True}.on_sanity_check_start    \t|  0.0            \t|  1              \t|  0.0            \t|  0.0            \t|\n",
      "|  [LightningModule]Model.on_validation_model_eval                                                                                                                                                       \t|  0.0            \t|  15             \t|  0.0            \t|  0.0            \t|\n",
      "|  [Callback]EarlyStopping{'monitor': 'val_loss', 'mode': 'min'}.on_validation_start                                                                                                                     \t|  0.0            \t|  15             \t|  0.0            \t|  0.0            \t|\n",
      "|  [Callback]ModelSummary.on_validation_start                                                                                                                                                            \t|  0.0            \t|  15             \t|  0.0            \t|  0.0            \t|\n",
      "|  [Callback]GradientAccumulationScheduler.on_validation_start                                                                                                                                           \t|  0.0            \t|  15             \t|  0.0            \t|  0.0            \t|\n",
      "|  [Callback]ModelCheckpoint{'monitor': 'val_loss', 'mode': 'min', 'every_n_train_steps': 0, 'every_n_epochs': 1, 'train_time_interval': None, 'save_on_train_epoch_end': True}.on_validation_start      \t|  0.0            \t|  15             \t|  0.0            \t|  0.0            \t|\n",
      "|  [LightningModule]Model.on_validation_start                                                                                                                                                            \t|  0.0            \t|  15             \t|  0.0            \t|  0.0            \t|\n",
      "|  [Strategy]SingleDeviceStrategy.on_validation_start                                                                                                                                                    \t|  0.0            \t|  15             \t|  0.0            \t|  0.0            \t|\n",
      "|  [Callback]EarlyStopping{'monitor': 'val_loss', 'mode': 'min'}.on_validation_epoch_start                                                                                                               \t|  0.0            \t|  15             \t|  0.0            \t|  0.0            \t|\n",
      "|  [Callback]TQDMProgressBar.on_validation_epoch_start                                                                                                                                                   \t|  0.0            \t|  15             \t|  0.0            \t|  0.0            \t|\n",
      "|  [Callback]ModelSummary.on_validation_epoch_start                                                                                                                                                      \t|  0.0            \t|  15             \t|  0.0            \t|  0.0            \t|\n",
      "|  [Callback]GradientAccumulationScheduler.on_validation_epoch_start                                                                                                                                     \t|  0.0            \t|  15             \t|  0.0            \t|  0.0            \t|\n",
      "|  [Callback]ModelCheckpoint{'monitor': 'val_loss', 'mode': 'min', 'every_n_train_steps': 0, 'every_n_epochs': 1, 'train_time_interval': None, 'save_on_train_epoch_end': True}.on_validation_epoch_start\t|  0.0            \t|  15             \t|  0.0            \t|  0.0            \t|\n",
      "|  [LightningModule]Model.on_validation_epoch_start                                                                                                                                                      \t|  0.0            \t|  15             \t|  0.0            \t|  0.0            \t|\n",
      "|  [Callback]EarlyStopping{'monitor': 'val_loss', 'mode': 'min'}.on_validation_batch_start                                                                                                               \t|  0.0            \t|  2200           \t|  0.0            \t|  0.0            \t|\n",
      "|  [Callback]ModelSummary.on_validation_batch_start                                                                                                                                                      \t|  0.0            \t|  2200           \t|  0.0            \t|  0.0            \t|\n",
      "|  [Callback]GradientAccumulationScheduler.on_validation_batch_start                                                                                                                                     \t|  0.0            \t|  2200           \t|  0.0            \t|  0.0            \t|\n",
      "|  [Callback]ModelCheckpoint{'monitor': 'val_loss', 'mode': 'min', 'every_n_train_steps': 0, 'every_n_epochs': 1, 'train_time_interval': None, 'save_on_train_epoch_end': True}.on_validation_batch_start\t|  0.0            \t|  2200           \t|  0.0            \t|  0.0            \t|\n",
      "|  [LightningModule]Model.on_validation_batch_start                                                                                                                                                      \t|  0.0            \t|  2200           \t|  0.0            \t|  0.0            \t|\n",
      "|  [Strategy]SingleDeviceStrategy.validation_step_end                                                                                                                                                    \t|  0.0            \t|  2200           \t|  0.0            \t|  0.0            \t|\n",
      "|  [Callback]GradientAccumulationScheduler.on_validation_batch_end                                                                                                                                       \t|  0.0            \t|  2200           \t|  0.0            \t|  0.0            \t|\n",
      "|  [Callback]ModelCheckpoint{'monitor': 'val_loss', 'mode': 'min', 'every_n_train_steps': 0, 'every_n_epochs': 1, 'train_time_interval': None, 'save_on_train_epoch_end': True}.on_validation_batch_end  \t|  0.0            \t|  2200           \t|  0.0            \t|  0.0            \t|\n",
      "|  [LightningModule]Model.on_validation_batch_end                                                                                                                                                        \t|  0.0            \t|  2200           \t|  0.0            \t|  0.0            \t|\n",
      "|  [LightningModule]Model.validation_epoch_end                                                                                                                                                           \t|  0.0            \t|  15             \t|  0.0            \t|  0.0            \t|\n",
      "|  [Callback]EarlyStopping{'monitor': 'val_loss', 'mode': 'min'}.on_validation_epoch_end                                                                                                                 \t|  0.0            \t|  15             \t|  0.0            \t|  0.0            \t|\n",
      "|  [Callback]TQDMProgressBar.on_validation_epoch_end                                                                                                                                                     \t|  0.0            \t|  15             \t|  0.0            \t|  0.0            \t|\n",
      "|  [Callback]ModelSummary.on_validation_epoch_end                                                                                                                                                        \t|  0.0            \t|  15             \t|  0.0            \t|  0.0            \t|\n",
      "|  [Callback]GradientAccumulationScheduler.on_validation_epoch_end                                                                                                                                       \t|  0.0            \t|  15             \t|  0.0            \t|  0.0            \t|\n",
      "|  [Callback]ModelCheckpoint{'monitor': 'val_loss', 'mode': 'min', 'every_n_train_steps': 0, 'every_n_epochs': 1, 'train_time_interval': None, 'save_on_train_epoch_end': True}.on_validation_epoch_end  \t|  0.0            \t|  15             \t|  0.0            \t|  0.0            \t|\n",
      "|  [LightningModule]Model.on_validation_epoch_end                                                                                                                                                        \t|  0.0            \t|  15             \t|  0.0            \t|  0.0            \t|\n",
      "|  [Callback]EarlyStopping{'monitor': 'val_loss', 'mode': 'min'}.on_validation_end                                                                                                                       \t|  0.0            \t|  15             \t|  0.0            \t|  0.0            \t|\n",
      "|  [Callback]TQDMProgressBar.on_validation_end                                                                                                                                                           \t|  0.0            \t|  15             \t|  0.0            \t|  0.0            \t|\n",
      "|  [Callback]ModelSummary.on_validation_end                                                                                                                                                              \t|  0.0            \t|  15             \t|  0.0            \t|  0.0            \t|\n",
      "|  [Callback]GradientAccumulationScheduler.on_validation_end                                                                                                                                             \t|  0.0            \t|  15             \t|  0.0            \t|  0.0            \t|\n",
      "|  [Callback]ModelCheckpoint{'monitor': 'val_loss', 'mode': 'min', 'every_n_train_steps': 0, 'every_n_epochs': 1, 'train_time_interval': None, 'save_on_train_epoch_end': True}.on_validation_end        \t|  0.0            \t|  15             \t|  0.0            \t|  0.0            \t|\n",
      "|  [LightningModule]Model.on_validation_end                                                                                                                                                              \t|  0.0            \t|  15             \t|  0.0            \t|  0.0            \t|\n",
      "|  [Strategy]SingleDeviceStrategy.on_validation_end                                                                                                                                                      \t|  0.0            \t|  15             \t|  0.0            \t|  0.0            \t|\n",
      "|  [LightningModule]Model.on_validation_model_train                                                                                                                                                      \t|  0.0            \t|  15             \t|  0.0            \t|  0.0            \t|\n",
      "|  [Callback]EarlyStopping{'monitor': 'val_loss', 'mode': 'min'}.on_sanity_check_end                                                                                                                     \t|  0.0            \t|  1              \t|  0.0            \t|  0.0            \t|\n",
      "|  [Callback]TQDMProgressBar.on_sanity_check_end                                                                                                                                                         \t|  0.0            \t|  1              \t|  0.0            \t|  0.0            \t|\n",
      "|  [Callback]ModelSummary.on_sanity_check_end                                                                                                                                                            \t|  0.0            \t|  1              \t|  0.0            \t|  0.0            \t|\n",
      "|  [Callback]GradientAccumulationScheduler.on_sanity_check_end                                                                                                                                           \t|  0.0            \t|  1              \t|  0.0            \t|  0.0            \t|\n",
      "|  [Callback]ModelCheckpoint{'monitor': 'val_loss', 'mode': 'min', 'every_n_train_steps': 0, 'every_n_epochs': 1, 'train_time_interval': None, 'save_on_train_epoch_end': True}.on_sanity_check_end      \t|  0.0            \t|  1              \t|  0.0            \t|  0.0            \t|\n",
      "|  [Callback]EarlyStopping{'monitor': 'val_loss', 'mode': 'min'}.on_train_start                                                                                                                          \t|  0.0            \t|  1              \t|  0.0            \t|  0.0            \t|\n",
      "|  [Callback]TQDMProgressBar.on_train_start                                                                                                                                                              \t|  0.0            \t|  1              \t|  0.0            \t|  0.0            \t|\n",
      "|  [Callback]ModelSummary.on_train_start                                                                                                                                                                 \t|  0.0            \t|  1              \t|  0.0            \t|  0.0            \t|\n",
      "|  [Callback]GradientAccumulationScheduler.on_train_start                                                                                                                                                \t|  0.0            \t|  1              \t|  0.0            \t|  0.0            \t|\n",
      "|  [Callback]ModelCheckpoint{'monitor': 'val_loss', 'mode': 'min', 'every_n_train_steps': 0, 'every_n_epochs': 1, 'train_time_interval': None, 'save_on_train_epoch_end': True}.on_train_start           \t|  0.0            \t|  1              \t|  0.0            \t|  0.0            \t|\n",
      "|  [LightningModule]Model.on_train_start                                                                                                                                                                 \t|  0.0            \t|  1              \t|  0.0            \t|  0.0            \t|\n",
      "|  [Strategy]SingleDeviceStrategy.on_train_start                                                                                                                                                         \t|  0.0            \t|  1              \t|  0.0            \t|  0.0            \t|\n",
      "|  [Callback]EarlyStopping{'monitor': 'val_loss', 'mode': 'min'}.on_train_epoch_start                                                                                                                    \t|  0.0            \t|  14             \t|  0.0            \t|  0.0            \t|\n",
      "|  [Callback]ModelSummary.on_train_epoch_start                                                                                                                                                           \t|  0.0            \t|  14             \t|  0.0            \t|  0.0            \t|\n",
      "|  [Callback]GradientAccumulationScheduler.on_train_epoch_start                                                                                                                                          \t|  0.0            \t|  14             \t|  0.0            \t|  0.0            \t|\n",
      "|  [Callback]ModelCheckpoint{'monitor': 'val_loss', 'mode': 'min', 'every_n_train_steps': 0, 'every_n_epochs': 1, 'train_time_interval': None, 'save_on_train_epoch_end': True}.on_train_epoch_start     \t|  0.0            \t|  14             \t|  0.0            \t|  0.0            \t|\n",
      "|  [LightningModule]Model.on_train_epoch_start                                                                                                                                                           \t|  0.0            \t|  14             \t|  0.0            \t|  0.0            \t|\n",
      "|  [Callback]TQDMProgressBar.on_train_batch_start                                                                                                                                                        \t|  0.0            \t|  24066          \t|  0.0            \t|  0.0            \t|\n",
      "|  [Callback]ModelSummary.on_after_backward                                                                                                                                                              \t|  0.0            \t|  24066          \t|  0.0            \t|  0.0            \t|\n",
      "|  [Callback]GradientAccumulationScheduler.on_after_backward                                                                                                                                             \t|  0.0            \t|  24066          \t|  0.0            \t|  0.0            \t|\n",
      "|  [Callback]GradientAccumulationScheduler.on_before_optimizer_step                                                                                                                                      \t|  0.0            \t|  24066          \t|  0.0            \t|  0.0            \t|\n",
      "|  [LightningModule]Model.on_before_optimizer_step                                                                                                                                                       \t|  0.0            \t|  24066          \t|  0.0            \t|  0.0            \t|\n",
      "|  [LightningModule]Model.on_train_batch_end                                                                                                                                                             \t|  0.0            \t|  24066          \t|  0.0            \t|  0.0            \t|\n",
      "|  [Callback]EarlyStopping{'monitor': 'val_loss', 'mode': 'min'}.on_train_epoch_end                                                                                                                      \t|  0.0            \t|  14             \t|  0.0            \t|  0.0            \t|\n",
      "|  [Callback]TQDMProgressBar.on_train_epoch_end                                                                                                                                                          \t|  0.0            \t|  14             \t|  0.0            \t|  0.0            \t|\n",
      "|  [Callback]ModelSummary.on_train_epoch_end                                                                                                                                                             \t|  0.0            \t|  14             \t|  0.0            \t|  0.0            \t|\n",
      "|  [Callback]GradientAccumulationScheduler.on_train_epoch_end                                                                                                                                            \t|  0.0            \t|  14             \t|  0.0            \t|  0.0            \t|\n",
      "|  [LightningDataModule]MNISTDataModule.state_dict                                                                                                                                                       \t|  0.0            \t|  8              \t|  0.0            \t|  0.0            \t|\n",
      "|  [Callback]EarlyStopping{'monitor': 'val_loss', 'mode': 'min'}.on_save_checkpoint                                                                                                                      \t|  0.0            \t|  8              \t|  0.0            \t|  0.0            \t|\n",
      "|  [Callback]TQDMProgressBar.on_save_checkpoint                                                                                                                                                          \t|  0.0            \t|  8              \t|  0.0            \t|  0.0            \t|\n",
      "|  [Callback]ModelSummary.on_save_checkpoint                                                                                                                                                             \t|  0.0            \t|  8              \t|  0.0            \t|  0.0            \t|\n",
      "|  [Callback]GradientAccumulationScheduler.on_save_checkpoint                                                                                                                                            \t|  0.0            \t|  8              \t|  0.0            \t|  0.0            \t|\n",
      "|  [Callback]ModelCheckpoint{'monitor': 'val_loss', 'mode': 'min', 'every_n_train_steps': 0, 'every_n_epochs': 1, 'train_time_interval': None, 'save_on_train_epoch_end': True}.on_save_checkpoint       \t|  0.0            \t|  8              \t|  0.0            \t|  0.0            \t|\n",
      "|  [LightningModule]Model.on_save_checkpoint                                                                                                                                                             \t|  0.0            \t|  8              \t|  0.0            \t|  0.0            \t|\n",
      "|  [LightningModule]Model.on_train_epoch_end                                                                                                                                                             \t|  0.0            \t|  14             \t|  0.0            \t|  0.0            \t|\n",
      "|  [Callback]EarlyStopping{'monitor': 'val_loss', 'mode': 'min'}.on_train_end                                                                                                                            \t|  0.0            \t|  1              \t|  0.0            \t|  0.0            \t|\n",
      "|  [Callback]TQDMProgressBar.on_train_end                                                                                                                                                                \t|  0.0            \t|  1              \t|  0.0            \t|  0.0            \t|\n",
      "|  [Callback]ModelSummary.on_train_end                                                                                                                                                                   \t|  0.0            \t|  1              \t|  0.0            \t|  0.0            \t|\n",
      "|  [Callback]GradientAccumulationScheduler.on_train_end                                                                                                                                                  \t|  0.0            \t|  1              \t|  0.0            \t|  0.0            \t|\n",
      "|  [Callback]ModelCheckpoint{'monitor': 'val_loss', 'mode': 'min', 'every_n_train_steps': 0, 'every_n_epochs': 1, 'train_time_interval': None, 'save_on_train_epoch_end': True}.on_train_end             \t|  0.0            \t|  1              \t|  0.0            \t|  0.0            \t|\n",
      "|  [LightningModule]Model.on_train_end                                                                                                                                                                   \t|  0.0            \t|  1              \t|  0.0            \t|  0.0            \t|\n",
      "|  [Strategy]SingleDeviceStrategy.on_train_end                                                                                                                                                           \t|  0.0            \t|  1              \t|  0.0            \t|  0.0            \t|\n",
      "|  [Callback]EarlyStopping{'monitor': 'val_loss', 'mode': 'min'}.on_fit_end                                                                                                                              \t|  0.0            \t|  1              \t|  0.0            \t|  0.0            \t|\n",
      "|  [Callback]TQDMProgressBar.on_fit_end                                                                                                                                                                  \t|  0.0            \t|  1              \t|  0.0            \t|  0.0            \t|\n",
      "|  [Callback]ModelSummary.on_fit_end                                                                                                                                                                     \t|  0.0            \t|  1              \t|  0.0            \t|  0.0            \t|\n",
      "|  [Callback]GradientAccumulationScheduler.on_fit_end                                                                                                                                                    \t|  0.0            \t|  1              \t|  0.0            \t|  0.0            \t|\n",
      "|  [Callback]ModelCheckpoint{'monitor': 'val_loss', 'mode': 'min', 'every_n_train_steps': 0, 'every_n_epochs': 1, 'train_time_interval': None, 'save_on_train_epoch_end': True}.on_fit_end               \t|  0.0            \t|  1              \t|  0.0            \t|  0.0            \t|\n",
      "|  [LightningModule]Model.on_fit_end                                                                                                                                                                     \t|  0.0            \t|  1              \t|  0.0            \t|  0.0            \t|\n",
      "|  [LightningDataModule]MNISTDataModule.teardown                                                                                                                                                         \t|  0.0            \t|  1              \t|  0.0            \t|  0.0            \t|\n",
      "|  [Callback]EarlyStopping{'monitor': 'val_loss', 'mode': 'min'}.teardown                                                                                                                                \t|  0.0            \t|  1              \t|  0.0            \t|  0.0            \t|\n",
      "|  [Callback]TQDMProgressBar.teardown                                                                                                                                                                    \t|  0.0            \t|  1              \t|  0.0            \t|  0.0            \t|\n",
      "|  [Callback]ModelSummary.teardown                                                                                                                                                                       \t|  0.0            \t|  1              \t|  0.0            \t|  0.0            \t|\n",
      "|  [Callback]GradientAccumulationScheduler.teardown                                                                                                                                                      \t|  0.0            \t|  1              \t|  0.0            \t|  0.0            \t|\n",
      "|  [Callback]ModelCheckpoint{'monitor': 'val_loss', 'mode': 'min', 'every_n_train_steps': 0, 'every_n_epochs': 1, 'train_time_interval': None, 'save_on_train_epoch_end': True}.teardown                 \t|  0.0            \t|  1              \t|  0.0            \t|  0.0            \t|\n",
      "|  [LightningModule]Model.teardown                                                                                                                                                                       \t|  0.0            \t|  1              \t|  0.0            \t|  0.0            \t|\n",
      "-------------------------------------------------------------------------------------------------------------------------------------------------------------------------------------------------------------------------------------------------------------------------------------------------------------------\n",
      "\n"
     ]
    }
   ],
   "source": [
    "pl.seed_everything(1234)\n",
    "\n",
    "ckpt_callback = pl.callbacks.ModelCheckpoint(\n",
    "    monitor='val_loss',\n",
    "    save_top_k=1,\n",
    "    mode='min'\n",
    ")\n",
    "early_stopping = pl.callbacks.EarlyStopping(monitor = 'val_loss',\n",
    "               patience=3,\n",
    "               mode = 'min')\n",
    "\n",
    "# gpus=0 则使用cpu训练，gpus=1则使用1个gpu训练，gpus=2则使用2个gpu训练，gpus=-1则使用所有gpu训练，\n",
    "# gpus=[0,1]则指定使用0号和1号gpu训练， gpus=\"0,1,2,3\"则使用0,1,2,3号gpu训练\n",
    "# tpus=1 则使用1个tpu训练\n",
    "\n",
    "trainer = pl.Trainer(max_epochs=20,   \n",
    "     #gpus=0, #单CPU模式\n",
    "     gpus=0, #单GPU模式\n",
    "     #num_processes=4,strategy=\"ddp_find_unused_parameters_false\", #多CPU(进程)模式\n",
    "     #gpus=[0,1,2,3],strategy=\"dp\", #多GPU的DataParallel(速度提升效果一般)\n",
    "     #gpus=[0,1,2,3],strategy=“ddp_find_unused_parameters_false\" #多GPU的DistributedDataParallel(速度提升效果好)\n",
    "     callbacks = [ckpt_callback,early_stopping],\n",
    "     profiler=\"simple\") \n",
    "\n",
    "#断点续训\n",
    "#trainer = pl.Trainer(resume_from_checkpoint='./lightning_logs/version_31/checkpoints/epoch=02-val_loss=0.05.ckpt')\n",
    "\n",
    "#训练模型\n",
    "trainer.fit(model,data_mnist)\n"
   ]
  },
  {
   "cell_type": "markdown",
   "id": "a2e76bfd",
   "metadata": {},
   "source": [
    "```\n",
    "Epoch 8: 100%\n",
    "1876/1876 [01:44<00:00, 17.93it/s, loss=0.0603, v_num=0, train_acc=1.000, val_acc=0.985]\n",
    "```"
   ]
  },
  {
   "cell_type": "code",
   "execution_count": null,
   "id": "b09b9eb2-05fb-4cab-8889-b78ee8514e10",
   "metadata": {},
   "outputs": [],
   "source": []
  },
  {
   "cell_type": "markdown",
   "id": "75cef2a1",
   "metadata": {
    "slideshow": {
     "slide_type": "subslide"
    }
   },
   "source": [
    "### 4，评估模型"
   ]
  },
  {
   "cell_type": "code",
   "execution_count": 7,
   "id": "c0f856fc-3a0c-45e1-8080-40a63d6b7864",
   "metadata": {},
   "outputs": [
    {
     "name": "stderr",
     "output_type": "stream",
     "text": [
      "Restoring states from the checkpoint path at D:\\GoogleDownLoads\\PythonAiRoad\\lightning_logs\\version_7\\checkpoints\\epoch=10-step=18909.ckpt\n",
      "Loaded model weights from checkpoint at D:\\GoogleDownLoads\\PythonAiRoad\\lightning_logs\\version_7\\checkpoints\\epoch=10-step=18909.ckpt\n",
      "D:\\Anaconda3\\envs\\satmvs\\lib\\site-packages\\pytorch_lightning\\trainer\\connectors\\data_connector.py:488: PossibleUserWarning: Your `test_dataloader`'s sampler has shuffling enabled, it is strongly recommended that you turn shuffling off for val/test/predict dataloaders.\n",
      "  rank_zero_warn(\n"
     ]
    },
    {
     "data": {
      "application/vnd.jupyter.widget-view+json": {
       "model_id": "f8dad005b0bf4016bf58d174d1220580",
       "version_major": 2,
       "version_minor": 0
      },
      "text/plain": [
       "Testing: 0it [00:00, ?it/s]"
      ]
     },
     "metadata": {},
     "output_type": "display_data"
    },
    {
     "name": "stdout",
     "output_type": "stream",
     "text": [
      "─────────────────────────────────────────────────────────────────────────────────────────────────────────────────────────────────────────────────────\n",
      "       Test metric             DataLoader 0\n",
      "─────────────────────────────────────────────────────────────────────────────────────────────────────────────────────────────────────────────────────\n",
      "        test_acc            0.9562644958496094\n",
      "        test_loss          0.013786586932837963\n",
      "─────────────────────────────────────────────────────────────────────────────────────────────────────────────────────────────────────────────────────\n"
     ]
    },
    {
     "name": "stderr",
     "output_type": "stream",
     "text": [
      "TEST Profiler Report\n",
      "\n",
      "-------------------------------------------------------------------------------------------------------------------------------------------------------------------------------------------------------------------------------------------------------------------------------------------------------------------\n",
      "|  Action                                                                                                                                                                                                \t|  Mean duration (s)\t|  Num calls      \t|  Total time (s) \t|  Percentage %   \t|\n",
      "-------------------------------------------------------------------------------------------------------------------------------------------------------------------------------------------------------------------------------------------------------------------------------------------------------------------\n",
      "|  Total                                                                                                                                                                                                 \t|  -              \t|  1282460        \t|  546.02         \t|  100 %          \t|\n",
      "-------------------------------------------------------------------------------------------------------------------------------------------------------------------------------------------------------------------------------------------------------------------------------------------------------------------\n",
      "|  run_training_epoch                                                                                                                                                                                    \t|  37.398         \t|  14             \t|  523.57         \t|  95.888         \t|\n",
      "|  run_training_batch                                                                                                                                                                                    \t|  0.010611       \t|  24066          \t|  255.37         \t|  46.77          \t|\n",
      "|  [LightningModule]Model.optimizer_step                                                                                                                                                                 \t|  0.010356       \t|  24066          \t|  249.23         \t|  45.645         \t|\n",
      "|  [Strategy]SingleDeviceStrategy.backward                                                                                                                                                               \t|  0.0041782      \t|  24066          \t|  100.55         \t|  18.416         \t|\n",
      "|  [Strategy]SingleDeviceStrategy.training_step                                                                                                                                                          \t|  0.0030067      \t|  24066          \t|  72.36          \t|  13.252         \t|\n",
      "|  [EvaluationEpochLoop].val_dataloader_idx_0_next                                                                                                                                                       \t|  0.019829       \t|  2198           \t|  43.584         \t|  7.9822         \t|\n",
      "|  [Callback]TQDMProgressBar.on_train_batch_end                                                                                                                                                          \t|  0.0014863      \t|  24066          \t|  35.769         \t|  6.5509         \t|\n",
      "|  [LightningModule]Model.training_step_end                                                                                                                                                              \t|  0.00099938     \t|  24066          \t|  24.051         \t|  4.4048         \t|\n",
      "|  run_test_evaluation                                                                                                                                                                                   \t|  18.0           \t|  1              \t|  18.0           \t|  3.2966         \t|\n",
      "|  [LightningModule]Model.optimizer_zero_grad                                                                                                                                                            \t|  0.0004046      \t|  24066          \t|  9.737          \t|  1.7833         \t|\n",
      "|  [Strategy]SingleDeviceStrategy.validation_step                                                                                                                                                        \t|  0.0029741      \t|  2200           \t|  6.543          \t|  1.1983         \t|\n",
      "|  [TrainingEpochLoop].train_dataloader_next                                                                                                                                                             \t|  0.00020224     \t|  24066          \t|  4.867          \t|  0.89137        \t|\n",
      "|  [Strategy]SingleDeviceStrategy.test_step                                                                                                                                                              \t|  0.0027237      \t|  1719           \t|  4.682          \t|  0.85748        \t|\n",
      "|  [Callback]TQDMProgressBar.on_validation_batch_end                                                                                                                                                     \t|  0.0013877      \t|  2200           \t|  3.053          \t|  0.55914        \t|\n",
      "|  [EvaluationEpochLoop].None_dataloader_idx_0_next                                                                                                                                                      \t|  1.242          \t|  2              \t|  2.484          \t|  0.45493        \t|\n",
      "|  [LightningModule]Model.validation_step_end                                                                                                                                                            \t|  0.0011282      \t|  2200           \t|  2.482          \t|  0.45457        \t|\n",
      "|  [Strategy]SingleDeviceStrategy.batch_to_device                                                                                                                                                        \t|  8.0186e-05     \t|  27985          \t|  2.244          \t|  0.41098        \t|\n",
      "|  [LightningModule]Model.test_step_end                                                                                                                                                                  \t|  0.00081617     \t|  1719           \t|  1.403          \t|  0.25695        \t|\n",
      "|  [LightningModule]Model.transfer_batch_to_device                                                                                                                                                       \t|  4.3129e-05     \t|  27986          \t|  1.207          \t|  0.22106        \t|\n",
      "|  [Callback]TQDMProgressBar.on_test_batch_end                                                                                                                                                           \t|  0.00068645     \t|  1719           \t|  1.18           \t|  0.21611        \t|\n",
      "|  [Callback]ModelCheckpoint{'monitor': 'val_loss', 'mode': 'min', 'every_n_train_steps': 0, 'every_n_epochs': 1, 'train_time_interval': None, 'save_on_train_epoch_end': True}.on_train_batch_end       \t|  3.2494e-05     \t|  24066          \t|  0.782          \t|  0.14322        \t|\n",
      "|  [LightningModule]Model.configure_gradient_clipping                                                                                                                                                    \t|  1.9987e-05     \t|  24066          \t|  0.481          \t|  0.088093       \t|\n",
      "|  [EvaluationEpochLoop].test_dataloader_idx_0_next                                                                                                                                                      \t|  0.0002071      \t|  1719           \t|  0.356          \t|  0.0652         \t|\n",
      "|  [Callback]TQDMProgressBar.on_validation_start                                                                                                                                                         \t|  0.010467       \t|  15             \t|  0.157          \t|  0.028754       \t|\n",
      "|  [Callback]ModelSummary.on_train_batch_end                                                                                                                                                             \t|  5.2356e-06     \t|  24066          \t|  0.126          \t|  0.023076       \t|\n",
      "|  [Callback]ModelSummary.on_before_zero_grad                                                                                                                                                            \t|  4.5708e-06     \t|  24066          \t|  0.11           \t|  0.020146       \t|\n",
      "|  [Callback]EarlyStopping{'monitor': 'val_loss', 'mode': 'min'}.on_before_zero_grad                                                                                                                     \t|  4.5292e-06     \t|  24066          \t|  0.109          \t|  0.019963       \t|\n",
      "|  [Callback]EarlyStopping{'monitor': 'val_loss', 'mode': 'min'}.on_after_backward                                                                                                                       \t|  4.5292e-06     \t|  24066          \t|  0.109          \t|  0.019963       \t|\n",
      "|  [Callback]EarlyStopping{'monitor': 'val_loss', 'mode': 'min'}.on_train_batch_end                                                                                                                      \t|  3.9059e-06     \t|  24066          \t|  0.094          \t|  0.017216       \t|\n",
      "|  [Callback]ModelCheckpoint{'monitor': 'val_loss', 'mode': 'min', 'every_n_train_steps': 0, 'every_n_epochs': 1, 'train_time_interval': None, 'save_on_train_epoch_end': True}.on_train_epoch_end       \t|  0.0054286      \t|  14             \t|  0.076          \t|  0.013919       \t|\n",
      "|  [LightningDataModule]MNISTDataModule.setup                                                                                                                                                            \t|  0.031          \t|  2              \t|  0.062          \t|  0.011355       \t|\n",
      "|  [Callback]EarlyStopping{'monitor': 'val_loss', 'mode': 'min'}.on_before_backward                                                                                                                      \t|  2.5762e-06     \t|  24066          \t|  0.062          \t|  0.011355       \t|\n",
      "|  [Strategy]SingleDeviceStrategy.on_train_batch_start                                                                                                                                                   \t|  1.9945e-06     \t|  24066          \t|  0.048          \t|  0.008791       \t|\n",
      "|  [Callback]EarlyStopping{'monitor': 'val_loss', 'mode': 'min'}.on_train_batch_start                                                                                                                    \t|  1.953e-06      \t|  24066          \t|  0.047          \t|  0.0086078      \t|\n",
      "|  [Callback]GradientAccumulationScheduler.on_train_batch_end                                                                                                                                            \t|  1.9114e-06     \t|  24066          \t|  0.046          \t|  0.0084247      \t|\n",
      "|  [LightningModule]Model.on_before_batch_transfer                                                                                                                                                       \t|  1.1434e-06     \t|  27986          \t|  0.032          \t|  0.0058606      \t|\n",
      "|  [Callback]TQDMProgressBar.on_after_backward                                                                                                                                                           \t|  1.3297e-06     \t|  24066          \t|  0.032          \t|  0.0058606      \t|\n",
      "|  [Callback]ModelCheckpoint{'monitor': 'val_loss', 'mode': 'min', 'every_n_train_steps': 0, 'every_n_epochs': 1, 'train_time_interval': None, 'save_on_train_epoch_end': True}.on_train_batch_start     \t|  1.3297e-06     \t|  24066          \t|  0.032          \t|  0.0058606      \t|\n",
      "|  [LightningModule]Model.on_train_batch_start                                                                                                                                                           \t|  1.3297e-06     \t|  24066          \t|  0.032          \t|  0.0058606      \t|\n",
      "|  [LightningModule]Model.on_before_backward                                                                                                                                                             \t|  1.3297e-06     \t|  24066          \t|  0.032          \t|  0.0058606      \t|\n",
      "|  [Callback]EarlyStopping{'monitor': 'val_loss', 'mode': 'min'}.on_test_batch_end                                                                                                                       \t|  1.8615e-05     \t|  1719           \t|  0.032          \t|  0.0058606      \t|\n",
      "|  [Callback]TQDMProgressBar.on_validation_batch_start                                                                                                                                                   \t|  1.4091e-05     \t|  2200           \t|  0.031          \t|  0.0056775      \t|\n",
      "|  [LightningModule]Model.on_after_batch_transfer                                                                                                                                                        \t|  1.1077e-06     \t|  27986          \t|  0.031          \t|  0.0056775      \t|\n",
      "|  [Callback]GradientAccumulationScheduler.on_before_zero_grad                                                                                                                                           \t|  1.2881e-06     \t|  24066          \t|  0.031          \t|  0.0056775      \t|\n",
      "|  [Callback]ModelCheckpoint{'monitor': 'val_loss', 'mode': 'min', 'every_n_train_steps': 0, 'every_n_epochs': 1, 'train_time_interval': None, 'save_on_train_epoch_end': True}.on_before_zero_grad      \t|  1.2881e-06     \t|  24066          \t|  0.031          \t|  0.0056775      \t|\n",
      "|  [Callback]TQDMProgressBar.on_before_backward                                                                                                                                                          \t|  1.2881e-06     \t|  24066          \t|  0.031          \t|  0.0056775      \t|\n",
      "|  [Callback]GradientAccumulationScheduler.on_before_backward                                                                                                                                            \t|  1.2881e-06     \t|  24066          \t|  0.031          \t|  0.0056775      \t|\n",
      "|  [Callback]ModelCheckpoint{'monitor': 'val_loss', 'mode': 'min', 'every_n_train_steps': 0, 'every_n_epochs': 1, 'train_time_interval': None, 'save_on_train_epoch_end': True}.on_after_backward        \t|  1.2881e-06     \t|  24066          \t|  0.031          \t|  0.0056775      \t|\n",
      "|  [Callback]ModelCheckpoint{'monitor': 'val_loss', 'mode': 'min', 'every_n_train_steps': 0, 'every_n_epochs': 1, 'train_time_interval': None, 'save_on_train_epoch_end': True}.on_before_backward       \t|  1.2466e-06     \t|  24066          \t|  0.03           \t|  0.0054943      \t|\n",
      "|  [Callback]ModelSummary.on_validation_batch_end                                                                                                                                                        \t|  7.2727e-06     \t|  2200           \t|  0.016          \t|  0.0029303      \t|\n",
      "|  [LightningModule]Model.on_before_zero_grad                                                                                                                                                            \t|  6.6484e-07     \t|  24066          \t|  0.016          \t|  0.0029303      \t|\n",
      "|  [LightningModule]Model.on_after_backward                                                                                                                                                              \t|  6.6484e-07     \t|  24066          \t|  0.016          \t|  0.0029303      \t|\n",
      "|  [Callback]ModelSummary.on_before_optimizer_step                                                                                                                                                       \t|  6.6484e-07     \t|  24066          \t|  0.016          \t|  0.0029303      \t|\n",
      "|  [Callback]EarlyStopping{'monitor': 'val_loss', 'mode': 'min'}.on_validation_batch_end                                                                                                                 \t|  7.2727e-06     \t|  2200           \t|  0.016          \t|  0.0029303      \t|\n",
      "|  [Callback]ModelSummary.on_before_backward                                                                                                                                                             \t|  6.6484e-07     \t|  24066          \t|  0.016          \t|  0.0029303      \t|\n",
      "|  [Callback]TQDMProgressBar.on_before_optimizer_step                                                                                                                                                    \t|  6.6484e-07     \t|  24066          \t|  0.016          \t|  0.0029303      \t|\n",
      "|  [Callback]ModelCheckpoint{'monitor': 'val_loss', 'mode': 'min', 'every_n_train_steps': 0, 'every_n_epochs': 1, 'train_time_interval': None, 'save_on_train_epoch_end': True}.on_before_optimizer_step \t|  6.6484e-07     \t|  24066          \t|  0.016          \t|  0.0029303      \t|\n",
      "|  [Callback]TQDMProgressBar.on_train_epoch_start                                                                                                                                                        \t|  0.0010714      \t|  14             \t|  0.015          \t|  0.0027472      \t|\n",
      "|  [Callback]ModelSummary.on_train_batch_start                                                                                                                                                           \t|  6.2329e-07     \t|  24066          \t|  0.015          \t|  0.0027472      \t|\n",
      "|  [Callback]GradientAccumulationScheduler.on_train_batch_start                                                                                                                                          \t|  6.2329e-07     \t|  24066          \t|  0.015          \t|  0.0027472      \t|\n",
      "|  [Strategy]SingleDeviceStrategy.training_step_end                                                                                                                                                      \t|  6.2329e-07     \t|  24066          \t|  0.015          \t|  0.0027472      \t|\n",
      "|  [Callback]TQDMProgressBar.on_before_zero_grad                                                                                                                                                         \t|  6.2329e-07     \t|  24066          \t|  0.015          \t|  0.0027472      \t|\n",
      "|  [Callback]EarlyStopping{'monitor': 'val_loss', 'mode': 'min'}.on_before_optimizer_step                                                                                                                \t|  6.2329e-07     \t|  24066          \t|  0.015          \t|  0.0027472      \t|\n",
      "|  [LightningModule]Model.configure_callbacks                                                                                                                                                            \t|  0.0            \t|  2              \t|  0.0            \t|  0.0            \t|\n",
      "|  [LightningDataModule]MNISTDataModule.prepare_data                                                                                                                                                     \t|  0.0            \t|  2              \t|  0.0            \t|  0.0            \t|\n",
      "|  [LightningModule]Model.prepare_data                                                                                                                                                                   \t|  0.0            \t|  2              \t|  0.0            \t|  0.0            \t|\n",
      "|  [Callback]EarlyStopping{'monitor': 'val_loss', 'mode': 'min'}.setup                                                                                                                                   \t|  0.0            \t|  2              \t|  0.0            \t|  0.0            \t|\n",
      "|  [Callback]TQDMProgressBar.setup                                                                                                                                                                       \t|  0.0            \t|  2              \t|  0.0            \t|  0.0            \t|\n",
      "|  [Callback]ModelSummary.setup                                                                                                                                                                          \t|  0.0            \t|  2              \t|  0.0            \t|  0.0            \t|\n",
      "|  [Callback]GradientAccumulationScheduler.setup                                                                                                                                                         \t|  0.0            \t|  2              \t|  0.0            \t|  0.0            \t|\n",
      "|  [Callback]ModelCheckpoint{'monitor': 'val_loss', 'mode': 'min', 'every_n_train_steps': 0, 'every_n_epochs': 1, 'train_time_interval': None, 'save_on_train_epoch_end': None}.setup                    \t|  0.0            \t|  1              \t|  0.0            \t|  0.0            \t|\n",
      "|  [LightningModule]Model.setup                                                                                                                                                                          \t|  0.0            \t|  2              \t|  0.0            \t|  0.0            \t|\n",
      "|  [LightningModule]Model.configure_sharded_model                                                                                                                                                        \t|  0.0            \t|  2              \t|  0.0            \t|  0.0            \t|\n",
      "|  [LightningModule]Model.configure_optimizers                                                                                                                                                           \t|  0.0            \t|  1              \t|  0.0            \t|  0.0            \t|\n",
      "|  [Callback]EarlyStopping{'monitor': 'val_loss', 'mode': 'min'}.on_fit_start                                                                                                                            \t|  0.0            \t|  1              \t|  0.0            \t|  0.0            \t|\n",
      "|  [Callback]TQDMProgressBar.on_fit_start                                                                                                                                                                \t|  0.0            \t|  1              \t|  0.0            \t|  0.0            \t|\n",
      "|  [Callback]ModelSummary.on_fit_start                                                                                                                                                                   \t|  0.0            \t|  1              \t|  0.0            \t|  0.0            \t|\n",
      "|  [Callback]GradientAccumulationScheduler.on_fit_start                                                                                                                                                  \t|  0.0            \t|  1              \t|  0.0            \t|  0.0            \t|\n",
      "|  [Callback]ModelCheckpoint{'monitor': 'val_loss', 'mode': 'min', 'every_n_train_steps': 0, 'every_n_epochs': 1, 'train_time_interval': None, 'save_on_train_epoch_end': True}.on_fit_start             \t|  0.0            \t|  1              \t|  0.0            \t|  0.0            \t|\n",
      "|  [LightningModule]Model.on_fit_start                                                                                                                                                                   \t|  0.0            \t|  1              \t|  0.0            \t|  0.0            \t|\n",
      "|  [Callback]EarlyStopping{'monitor': 'val_loss', 'mode': 'min'}.on_sanity_check_start                                                                                                                   \t|  0.0            \t|  1              \t|  0.0            \t|  0.0            \t|\n",
      "|  [Callback]TQDMProgressBar.on_sanity_check_start                                                                                                                                                       \t|  0.0            \t|  1              \t|  0.0            \t|  0.0            \t|\n",
      "|  [Callback]ModelSummary.on_sanity_check_start                                                                                                                                                          \t|  0.0            \t|  1              \t|  0.0            \t|  0.0            \t|\n",
      "|  [Callback]GradientAccumulationScheduler.on_sanity_check_start                                                                                                                                         \t|  0.0            \t|  1              \t|  0.0            \t|  0.0            \t|\n",
      "|  [Callback]ModelCheckpoint{'monitor': 'val_loss', 'mode': 'min', 'every_n_train_steps': 0, 'every_n_epochs': 1, 'train_time_interval': None, 'save_on_train_epoch_end': True}.on_sanity_check_start    \t|  0.0            \t|  1              \t|  0.0            \t|  0.0            \t|\n",
      "|  [LightningModule]Model.on_validation_model_eval                                                                                                                                                       \t|  0.0            \t|  15             \t|  0.0            \t|  0.0            \t|\n",
      "|  [Callback]EarlyStopping{'monitor': 'val_loss', 'mode': 'min'}.on_validation_start                                                                                                                     \t|  0.0            \t|  15             \t|  0.0            \t|  0.0            \t|\n",
      "|  [Callback]ModelSummary.on_validation_start                                                                                                                                                            \t|  0.0            \t|  15             \t|  0.0            \t|  0.0            \t|\n",
      "|  [Callback]GradientAccumulationScheduler.on_validation_start                                                                                                                                           \t|  0.0            \t|  15             \t|  0.0            \t|  0.0            \t|\n",
      "|  [Callback]ModelCheckpoint{'monitor': 'val_loss', 'mode': 'min', 'every_n_train_steps': 0, 'every_n_epochs': 1, 'train_time_interval': None, 'save_on_train_epoch_end': True}.on_validation_start      \t|  0.0            \t|  15             \t|  0.0            \t|  0.0            \t|\n",
      "|  [LightningModule]Model.on_validation_start                                                                                                                                                            \t|  0.0            \t|  15             \t|  0.0            \t|  0.0            \t|\n",
      "|  [Strategy]SingleDeviceStrategy.on_validation_start                                                                                                                                                    \t|  0.0            \t|  15             \t|  0.0            \t|  0.0            \t|\n",
      "|  [Callback]EarlyStopping{'monitor': 'val_loss', 'mode': 'min'}.on_validation_epoch_start                                                                                                               \t|  0.0            \t|  15             \t|  0.0            \t|  0.0            \t|\n",
      "|  [Callback]TQDMProgressBar.on_validation_epoch_start                                                                                                                                                   \t|  0.0            \t|  15             \t|  0.0            \t|  0.0            \t|\n",
      "|  [Callback]ModelSummary.on_validation_epoch_start                                                                                                                                                      \t|  0.0            \t|  15             \t|  0.0            \t|  0.0            \t|\n",
      "|  [Callback]GradientAccumulationScheduler.on_validation_epoch_start                                                                                                                                     \t|  0.0            \t|  15             \t|  0.0            \t|  0.0            \t|\n",
      "|  [Callback]ModelCheckpoint{'monitor': 'val_loss', 'mode': 'min', 'every_n_train_steps': 0, 'every_n_epochs': 1, 'train_time_interval': None, 'save_on_train_epoch_end': True}.on_validation_epoch_start\t|  0.0            \t|  15             \t|  0.0            \t|  0.0            \t|\n",
      "|  [LightningModule]Model.on_validation_epoch_start                                                                                                                                                      \t|  0.0            \t|  15             \t|  0.0            \t|  0.0            \t|\n",
      "|  [Callback]EarlyStopping{'monitor': 'val_loss', 'mode': 'min'}.on_validation_batch_start                                                                                                               \t|  0.0            \t|  2200           \t|  0.0            \t|  0.0            \t|\n",
      "|  [Callback]ModelSummary.on_validation_batch_start                                                                                                                                                      \t|  0.0            \t|  2200           \t|  0.0            \t|  0.0            \t|\n",
      "|  [Callback]GradientAccumulationScheduler.on_validation_batch_start                                                                                                                                     \t|  0.0            \t|  2200           \t|  0.0            \t|  0.0            \t|\n",
      "|  [Callback]ModelCheckpoint{'monitor': 'val_loss', 'mode': 'min', 'every_n_train_steps': 0, 'every_n_epochs': 1, 'train_time_interval': None, 'save_on_train_epoch_end': True}.on_validation_batch_start\t|  0.0            \t|  2200           \t|  0.0            \t|  0.0            \t|\n",
      "|  [LightningModule]Model.on_validation_batch_start                                                                                                                                                      \t|  0.0            \t|  2200           \t|  0.0            \t|  0.0            \t|\n",
      "|  [Strategy]SingleDeviceStrategy.validation_step_end                                                                                                                                                    \t|  0.0            \t|  2200           \t|  0.0            \t|  0.0            \t|\n",
      "|  [Callback]GradientAccumulationScheduler.on_validation_batch_end                                                                                                                                       \t|  0.0            \t|  2200           \t|  0.0            \t|  0.0            \t|\n",
      "|  [Callback]ModelCheckpoint{'monitor': 'val_loss', 'mode': 'min', 'every_n_train_steps': 0, 'every_n_epochs': 1, 'train_time_interval': None, 'save_on_train_epoch_end': True}.on_validation_batch_end  \t|  0.0            \t|  2200           \t|  0.0            \t|  0.0            \t|\n",
      "|  [LightningModule]Model.on_validation_batch_end                                                                                                                                                        \t|  0.0            \t|  2200           \t|  0.0            \t|  0.0            \t|\n",
      "|  [LightningModule]Model.validation_epoch_end                                                                                                                                                           \t|  0.0            \t|  15             \t|  0.0            \t|  0.0            \t|\n",
      "|  [Callback]EarlyStopping{'monitor': 'val_loss', 'mode': 'min'}.on_validation_epoch_end                                                                                                                 \t|  0.0            \t|  15             \t|  0.0            \t|  0.0            \t|\n",
      "|  [Callback]TQDMProgressBar.on_validation_epoch_end                                                                                                                                                     \t|  0.0            \t|  15             \t|  0.0            \t|  0.0            \t|\n",
      "|  [Callback]ModelSummary.on_validation_epoch_end                                                                                                                                                        \t|  0.0            \t|  15             \t|  0.0            \t|  0.0            \t|\n",
      "|  [Callback]GradientAccumulationScheduler.on_validation_epoch_end                                                                                                                                       \t|  0.0            \t|  15             \t|  0.0            \t|  0.0            \t|\n",
      "|  [Callback]ModelCheckpoint{'monitor': 'val_loss', 'mode': 'min', 'every_n_train_steps': 0, 'every_n_epochs': 1, 'train_time_interval': None, 'save_on_train_epoch_end': True}.on_validation_epoch_end  \t|  0.0            \t|  15             \t|  0.0            \t|  0.0            \t|\n",
      "|  [LightningModule]Model.on_validation_epoch_end                                                                                                                                                        \t|  0.0            \t|  15             \t|  0.0            \t|  0.0            \t|\n",
      "|  [Callback]EarlyStopping{'monitor': 'val_loss', 'mode': 'min'}.on_validation_end                                                                                                                       \t|  0.0            \t|  15             \t|  0.0            \t|  0.0            \t|\n",
      "|  [Callback]TQDMProgressBar.on_validation_end                                                                                                                                                           \t|  0.0            \t|  15             \t|  0.0            \t|  0.0            \t|\n",
      "|  [Callback]ModelSummary.on_validation_end                                                                                                                                                              \t|  0.0            \t|  15             \t|  0.0            \t|  0.0            \t|\n",
      "|  [Callback]GradientAccumulationScheduler.on_validation_end                                                                                                                                             \t|  0.0            \t|  15             \t|  0.0            \t|  0.0            \t|\n",
      "|  [Callback]ModelCheckpoint{'monitor': 'val_loss', 'mode': 'min', 'every_n_train_steps': 0, 'every_n_epochs': 1, 'train_time_interval': None, 'save_on_train_epoch_end': True}.on_validation_end        \t|  0.0            \t|  15             \t|  0.0            \t|  0.0            \t|\n",
      "|  [LightningModule]Model.on_validation_end                                                                                                                                                              \t|  0.0            \t|  15             \t|  0.0            \t|  0.0            \t|\n",
      "|  [Strategy]SingleDeviceStrategy.on_validation_end                                                                                                                                                      \t|  0.0            \t|  15             \t|  0.0            \t|  0.0            \t|\n",
      "|  [LightningModule]Model.on_validation_model_train                                                                                                                                                      \t|  0.0            \t|  15             \t|  0.0            \t|  0.0            \t|\n",
      "|  [Callback]EarlyStopping{'monitor': 'val_loss', 'mode': 'min'}.on_sanity_check_end                                                                                                                     \t|  0.0            \t|  1              \t|  0.0            \t|  0.0            \t|\n",
      "|  [Callback]TQDMProgressBar.on_sanity_check_end                                                                                                                                                         \t|  0.0            \t|  1              \t|  0.0            \t|  0.0            \t|\n",
      "|  [Callback]ModelSummary.on_sanity_check_end                                                                                                                                                            \t|  0.0            \t|  1              \t|  0.0            \t|  0.0            \t|\n",
      "|  [Callback]GradientAccumulationScheduler.on_sanity_check_end                                                                                                                                           \t|  0.0            \t|  1              \t|  0.0            \t|  0.0            \t|\n",
      "|  [Callback]ModelCheckpoint{'monitor': 'val_loss', 'mode': 'min', 'every_n_train_steps': 0, 'every_n_epochs': 1, 'train_time_interval': None, 'save_on_train_epoch_end': True}.on_sanity_check_end      \t|  0.0            \t|  1              \t|  0.0            \t|  0.0            \t|\n",
      "|  [Callback]EarlyStopping{'monitor': 'val_loss', 'mode': 'min'}.on_train_start                                                                                                                          \t|  0.0            \t|  1              \t|  0.0            \t|  0.0            \t|\n",
      "|  [Callback]TQDMProgressBar.on_train_start                                                                                                                                                              \t|  0.0            \t|  1              \t|  0.0            \t|  0.0            \t|\n",
      "|  [Callback]ModelSummary.on_train_start                                                                                                                                                                 \t|  0.0            \t|  1              \t|  0.0            \t|  0.0            \t|\n",
      "|  [Callback]GradientAccumulationScheduler.on_train_start                                                                                                                                                \t|  0.0            \t|  1              \t|  0.0            \t|  0.0            \t|\n",
      "|  [Callback]ModelCheckpoint{'monitor': 'val_loss', 'mode': 'min', 'every_n_train_steps': 0, 'every_n_epochs': 1, 'train_time_interval': None, 'save_on_train_epoch_end': True}.on_train_start           \t|  0.0            \t|  1              \t|  0.0            \t|  0.0            \t|\n",
      "|  [LightningModule]Model.on_train_start                                                                                                                                                                 \t|  0.0            \t|  1              \t|  0.0            \t|  0.0            \t|\n",
      "|  [Strategy]SingleDeviceStrategy.on_train_start                                                                                                                                                         \t|  0.0            \t|  1              \t|  0.0            \t|  0.0            \t|\n",
      "|  [Callback]EarlyStopping{'monitor': 'val_loss', 'mode': 'min'}.on_train_epoch_start                                                                                                                    \t|  0.0            \t|  14             \t|  0.0            \t|  0.0            \t|\n",
      "|  [Callback]ModelSummary.on_train_epoch_start                                                                                                                                                           \t|  0.0            \t|  14             \t|  0.0            \t|  0.0            \t|\n",
      "|  [Callback]GradientAccumulationScheduler.on_train_epoch_start                                                                                                                                          \t|  0.0            \t|  14             \t|  0.0            \t|  0.0            \t|\n",
      "|  [Callback]ModelCheckpoint{'monitor': 'val_loss', 'mode': 'min', 'every_n_train_steps': 0, 'every_n_epochs': 1, 'train_time_interval': None, 'save_on_train_epoch_end': True}.on_train_epoch_start     \t|  0.0            \t|  14             \t|  0.0            \t|  0.0            \t|\n",
      "|  [LightningModule]Model.on_train_epoch_start                                                                                                                                                           \t|  0.0            \t|  14             \t|  0.0            \t|  0.0            \t|\n",
      "|  [Callback]TQDMProgressBar.on_train_batch_start                                                                                                                                                        \t|  0.0            \t|  24066          \t|  0.0            \t|  0.0            \t|\n",
      "|  [Callback]ModelSummary.on_after_backward                                                                                                                                                              \t|  0.0            \t|  24066          \t|  0.0            \t|  0.0            \t|\n",
      "|  [Callback]GradientAccumulationScheduler.on_after_backward                                                                                                                                             \t|  0.0            \t|  24066          \t|  0.0            \t|  0.0            \t|\n",
      "|  [Callback]GradientAccumulationScheduler.on_before_optimizer_step                                                                                                                                      \t|  0.0            \t|  24066          \t|  0.0            \t|  0.0            \t|\n",
      "|  [LightningModule]Model.on_before_optimizer_step                                                                                                                                                       \t|  0.0            \t|  24066          \t|  0.0            \t|  0.0            \t|\n",
      "|  [LightningModule]Model.on_train_batch_end                                                                                                                                                             \t|  0.0            \t|  24066          \t|  0.0            \t|  0.0            \t|\n",
      "|  [Callback]EarlyStopping{'monitor': 'val_loss', 'mode': 'min'}.on_train_epoch_end                                                                                                                      \t|  0.0            \t|  14             \t|  0.0            \t|  0.0            \t|\n",
      "|  [Callback]TQDMProgressBar.on_train_epoch_end                                                                                                                                                          \t|  0.0            \t|  14             \t|  0.0            \t|  0.0            \t|\n",
      "|  [Callback]ModelSummary.on_train_epoch_end                                                                                                                                                             \t|  0.0            \t|  14             \t|  0.0            \t|  0.0            \t|\n",
      "|  [Callback]GradientAccumulationScheduler.on_train_epoch_end                                                                                                                                            \t|  0.0            \t|  14             \t|  0.0            \t|  0.0            \t|\n",
      "|  [LightningDataModule]MNISTDataModule.state_dict                                                                                                                                                       \t|  0.0            \t|  8              \t|  0.0            \t|  0.0            \t|\n",
      "|  [Callback]EarlyStopping{'monitor': 'val_loss', 'mode': 'min'}.on_save_checkpoint                                                                                                                      \t|  0.0            \t|  8              \t|  0.0            \t|  0.0            \t|\n",
      "|  [Callback]TQDMProgressBar.on_save_checkpoint                                                                                                                                                          \t|  0.0            \t|  8              \t|  0.0            \t|  0.0            \t|\n",
      "|  [Callback]ModelSummary.on_save_checkpoint                                                                                                                                                             \t|  0.0            \t|  8              \t|  0.0            \t|  0.0            \t|\n",
      "|  [Callback]GradientAccumulationScheduler.on_save_checkpoint                                                                                                                                            \t|  0.0            \t|  8              \t|  0.0            \t|  0.0            \t|\n",
      "|  [Callback]ModelCheckpoint{'monitor': 'val_loss', 'mode': 'min', 'every_n_train_steps': 0, 'every_n_epochs': 1, 'train_time_interval': None, 'save_on_train_epoch_end': True}.on_save_checkpoint       \t|  0.0            \t|  8              \t|  0.0            \t|  0.0            \t|\n",
      "|  [LightningModule]Model.on_save_checkpoint                                                                                                                                                             \t|  0.0            \t|  8              \t|  0.0            \t|  0.0            \t|\n",
      "|  [LightningModule]Model.on_train_epoch_end                                                                                                                                                             \t|  0.0            \t|  14             \t|  0.0            \t|  0.0            \t|\n",
      "|  [Callback]EarlyStopping{'monitor': 'val_loss', 'mode': 'min'}.on_train_end                                                                                                                            \t|  0.0            \t|  1              \t|  0.0            \t|  0.0            \t|\n",
      "|  [Callback]TQDMProgressBar.on_train_end                                                                                                                                                                \t|  0.0            \t|  1              \t|  0.0            \t|  0.0            \t|\n",
      "|  [Callback]ModelSummary.on_train_end                                                                                                                                                                   \t|  0.0            \t|  1              \t|  0.0            \t|  0.0            \t|\n",
      "|  [Callback]GradientAccumulationScheduler.on_train_end                                                                                                                                                  \t|  0.0            \t|  1              \t|  0.0            \t|  0.0            \t|\n",
      "|  [Callback]ModelCheckpoint{'monitor': 'val_loss', 'mode': 'min', 'every_n_train_steps': 0, 'every_n_epochs': 1, 'train_time_interval': None, 'save_on_train_epoch_end': True}.on_train_end             \t|  0.0            \t|  1              \t|  0.0            \t|  0.0            \t|\n",
      "|  [LightningModule]Model.on_train_end                                                                                                                                                                   \t|  0.0            \t|  1              \t|  0.0            \t|  0.0            \t|\n",
      "|  [Strategy]SingleDeviceStrategy.on_train_end                                                                                                                                                           \t|  0.0            \t|  1              \t|  0.0            \t|  0.0            \t|\n",
      "|  [Callback]EarlyStopping{'monitor': 'val_loss', 'mode': 'min'}.on_fit_end                                                                                                                              \t|  0.0            \t|  1              \t|  0.0            \t|  0.0            \t|\n",
      "|  [Callback]TQDMProgressBar.on_fit_end                                                                                                                                                                  \t|  0.0            \t|  1              \t|  0.0            \t|  0.0            \t|\n",
      "|  [Callback]ModelSummary.on_fit_end                                                                                                                                                                     \t|  0.0            \t|  1              \t|  0.0            \t|  0.0            \t|\n",
      "|  [Callback]GradientAccumulationScheduler.on_fit_end                                                                                                                                                    \t|  0.0            \t|  1              \t|  0.0            \t|  0.0            \t|\n",
      "|  [Callback]ModelCheckpoint{'monitor': 'val_loss', 'mode': 'min', 'every_n_train_steps': 0, 'every_n_epochs': 1, 'train_time_interval': None, 'save_on_train_epoch_end': True}.on_fit_end               \t|  0.0            \t|  1              \t|  0.0            \t|  0.0            \t|\n",
      "|  [LightningModule]Model.on_fit_end                                                                                                                                                                     \t|  0.0            \t|  1              \t|  0.0            \t|  0.0            \t|\n",
      "|  [LightningDataModule]MNISTDataModule.teardown                                                                                                                                                         \t|  0.0            \t|  2              \t|  0.0            \t|  0.0            \t|\n",
      "|  [Callback]EarlyStopping{'monitor': 'val_loss', 'mode': 'min'}.teardown                                                                                                                                \t|  0.0            \t|  2              \t|  0.0            \t|  0.0            \t|\n",
      "|  [Callback]TQDMProgressBar.teardown                                                                                                                                                                    \t|  0.0            \t|  2              \t|  0.0            \t|  0.0            \t|\n",
      "|  [Callback]ModelSummary.teardown                                                                                                                                                                       \t|  0.0            \t|  2              \t|  0.0            \t|  0.0            \t|\n",
      "|  [Callback]GradientAccumulationScheduler.teardown                                                                                                                                                      \t|  0.0            \t|  2              \t|  0.0            \t|  0.0            \t|\n",
      "|  [Callback]ModelCheckpoint{'monitor': 'val_loss', 'mode': 'min', 'every_n_train_steps': 0, 'every_n_epochs': 1, 'train_time_interval': None, 'save_on_train_epoch_end': True}.teardown                 \t|  0.0            \t|  2              \t|  0.0            \t|  0.0            \t|\n",
      "|  [LightningModule]Model.teardown                                                                                                                                                                       \t|  0.0            \t|  2              \t|  0.0            \t|  0.0            \t|\n",
      "|  [Callback]ModelCheckpoint{'monitor': 'val_loss', 'mode': 'min', 'every_n_train_steps': 0, 'every_n_epochs': 1, 'train_time_interval': None, 'save_on_train_epoch_end': True}.setup                    \t|  0.0            \t|  1              \t|  0.0            \t|  0.0            \t|\n",
      "|  [LightningModule]Model.on_load_checkpoint                                                                                                                                                             \t|  0.0            \t|  1              \t|  0.0            \t|  0.0            \t|\n",
      "|  [LightningModule]Model.on_test_model_eval                                                                                                                                                             \t|  0.0            \t|  1              \t|  0.0            \t|  0.0            \t|\n",
      "|  [Callback]EarlyStopping{'monitor': 'val_loss', 'mode': 'min'}.on_test_start                                                                                                                           \t|  0.0            \t|  1              \t|  0.0            \t|  0.0            \t|\n",
      "|  [Callback]TQDMProgressBar.on_test_start                                                                                                                                                               \t|  0.0            \t|  1              \t|  0.0            \t|  0.0            \t|\n",
      "|  [Callback]ModelSummary.on_test_start                                                                                                                                                                  \t|  0.0            \t|  1              \t|  0.0            \t|  0.0            \t|\n",
      "|  [Callback]GradientAccumulationScheduler.on_test_start                                                                                                                                                 \t|  0.0            \t|  1              \t|  0.0            \t|  0.0            \t|\n",
      "|  [Callback]ModelCheckpoint{'monitor': 'val_loss', 'mode': 'min', 'every_n_train_steps': 0, 'every_n_epochs': 1, 'train_time_interval': None, 'save_on_train_epoch_end': True}.on_test_start            \t|  0.0            \t|  1              \t|  0.0            \t|  0.0            \t|\n",
      "|  [LightningModule]Model.on_test_start                                                                                                                                                                  \t|  0.0            \t|  1              \t|  0.0            \t|  0.0            \t|\n",
      "|  [Strategy]SingleDeviceStrategy.on_test_start                                                                                                                                                          \t|  0.0            \t|  1              \t|  0.0            \t|  0.0            \t|\n",
      "|  [Callback]EarlyStopping{'monitor': 'val_loss', 'mode': 'min'}.on_test_epoch_start                                                                                                                     \t|  0.0            \t|  1              \t|  0.0            \t|  0.0            \t|\n",
      "|  [Callback]TQDMProgressBar.on_test_epoch_start                                                                                                                                                         \t|  0.0            \t|  1              \t|  0.0            \t|  0.0            \t|\n",
      "|  [Callback]ModelSummary.on_test_epoch_start                                                                                                                                                            \t|  0.0            \t|  1              \t|  0.0            \t|  0.0            \t|\n",
      "|  [Callback]GradientAccumulationScheduler.on_test_epoch_start                                                                                                                                           \t|  0.0            \t|  1              \t|  0.0            \t|  0.0            \t|\n",
      "|  [Callback]ModelCheckpoint{'monitor': 'val_loss', 'mode': 'min', 'every_n_train_steps': 0, 'every_n_epochs': 1, 'train_time_interval': None, 'save_on_train_epoch_end': True}.on_test_epoch_start      \t|  0.0            \t|  1              \t|  0.0            \t|  0.0            \t|\n",
      "|  [LightningModule]Model.on_test_epoch_start                                                                                                                                                            \t|  0.0            \t|  1              \t|  0.0            \t|  0.0            \t|\n",
      "|  [Callback]EarlyStopping{'monitor': 'val_loss', 'mode': 'min'}.on_test_batch_start                                                                                                                     \t|  0.0            \t|  1719           \t|  0.0            \t|  0.0            \t|\n",
      "|  [Callback]TQDMProgressBar.on_test_batch_start                                                                                                                                                         \t|  0.0            \t|  1719           \t|  0.0            \t|  0.0            \t|\n",
      "|  [Callback]ModelSummary.on_test_batch_start                                                                                                                                                            \t|  0.0            \t|  1719           \t|  0.0            \t|  0.0            \t|\n",
      "|  [Callback]GradientAccumulationScheduler.on_test_batch_start                                                                                                                                           \t|  0.0            \t|  1719           \t|  0.0            \t|  0.0            \t|\n",
      "|  [Callback]ModelCheckpoint{'monitor': 'val_loss', 'mode': 'min', 'every_n_train_steps': 0, 'every_n_epochs': 1, 'train_time_interval': None, 'save_on_train_epoch_end': True}.on_test_batch_start      \t|  0.0            \t|  1719           \t|  0.0            \t|  0.0            \t|\n",
      "|  [LightningModule]Model.on_test_batch_start                                                                                                                                                            \t|  0.0            \t|  1719           \t|  0.0            \t|  0.0            \t|\n",
      "|  [Strategy]SingleDeviceStrategy.test_step_end                                                                                                                                                          \t|  0.0            \t|  1719           \t|  0.0            \t|  0.0            \t|\n",
      "|  [Callback]ModelSummary.on_test_batch_end                                                                                                                                                              \t|  0.0            \t|  1719           \t|  0.0            \t|  0.0            \t|\n",
      "|  [Callback]GradientAccumulationScheduler.on_test_batch_end                                                                                                                                             \t|  0.0            \t|  1719           \t|  0.0            \t|  0.0            \t|\n",
      "|  [Callback]ModelCheckpoint{'monitor': 'val_loss', 'mode': 'min', 'every_n_train_steps': 0, 'every_n_epochs': 1, 'train_time_interval': None, 'save_on_train_epoch_end': True}.on_test_batch_end        \t|  0.0            \t|  1719           \t|  0.0            \t|  0.0            \t|\n",
      "|  [LightningModule]Model.on_test_batch_end                                                                                                                                                              \t|  0.0            \t|  1719           \t|  0.0            \t|  0.0            \t|\n",
      "|  [LightningModule]Model.test_epoch_end                                                                                                                                                                 \t|  0.0            \t|  1              \t|  0.0            \t|  0.0            \t|\n",
      "|  [Callback]EarlyStopping{'monitor': 'val_loss', 'mode': 'min'}.on_test_epoch_end                                                                                                                       \t|  0.0            \t|  1              \t|  0.0            \t|  0.0            \t|\n",
      "|  [Callback]TQDMProgressBar.on_test_epoch_end                                                                                                                                                           \t|  0.0            \t|  1              \t|  0.0            \t|  0.0            \t|\n",
      "|  [Callback]ModelSummary.on_test_epoch_end                                                                                                                                                              \t|  0.0            \t|  1              \t|  0.0            \t|  0.0            \t|\n",
      "|  [Callback]GradientAccumulationScheduler.on_test_epoch_end                                                                                                                                             \t|  0.0            \t|  1              \t|  0.0            \t|  0.0            \t|\n",
      "|  [Callback]ModelCheckpoint{'monitor': 'val_loss', 'mode': 'min', 'every_n_train_steps': 0, 'every_n_epochs': 1, 'train_time_interval': None, 'save_on_train_epoch_end': True}.on_test_epoch_end        \t|  0.0            \t|  1              \t|  0.0            \t|  0.0            \t|\n",
      "|  [LightningModule]Model.on_test_epoch_end                                                                                                                                                              \t|  0.0            \t|  1              \t|  0.0            \t|  0.0            \t|\n",
      "|  [Callback]EarlyStopping{'monitor': 'val_loss', 'mode': 'min'}.on_test_end                                                                                                                             \t|  0.0            \t|  1              \t|  0.0            \t|  0.0            \t|\n",
      "|  [Callback]TQDMProgressBar.on_test_end                                                                                                                                                                 \t|  0.0            \t|  1              \t|  0.0            \t|  0.0            \t|\n",
      "|  [Callback]ModelSummary.on_test_end                                                                                                                                                                    \t|  0.0            \t|  1              \t|  0.0            \t|  0.0            \t|\n",
      "|  [Callback]GradientAccumulationScheduler.on_test_end                                                                                                                                                   \t|  0.0            \t|  1              \t|  0.0            \t|  0.0            \t|\n",
      "|  [Callback]ModelCheckpoint{'monitor': 'val_loss', 'mode': 'min', 'every_n_train_steps': 0, 'every_n_epochs': 1, 'train_time_interval': None, 'save_on_train_epoch_end': True}.on_test_end              \t|  0.0            \t|  1              \t|  0.0            \t|  0.0            \t|\n",
      "|  [LightningModule]Model.on_test_end                                                                                                                                                                    \t|  0.0            \t|  1              \t|  0.0            \t|  0.0            \t|\n",
      "|  [Strategy]SingleDeviceStrategy.on_test_end                                                                                                                                                            \t|  0.0            \t|  1              \t|  0.0            \t|  0.0            \t|\n",
      "|  [LightningModule]Model.on_test_model_train                                                                                                                                                            \t|  0.0            \t|  1              \t|  0.0            \t|  0.0            \t|\n",
      "-------------------------------------------------------------------------------------------------------------------------------------------------------------------------------------------------------------------------------------------------------------------------------------------------------------------\n",
      "\n"
     ]
    }
   ],
   "source": [
    "result = trainer.test(model,data_mnist.train_dataloader(),ckpt_path='best')"
   ]
  },
  {
   "cell_type": "markdown",
   "id": "997ac09a",
   "metadata": {},
   "source": [
    "```\n",
    "--------------------------------------------------------------------------------\n",
    "DATALOADER:0 TEST RESULTS\n",
    "{'test_acc': 0.9966545701026917, 'test_loss': 0.010617421939969063}\n",
    "--------------------------------------------------------------------------------\n",
    "```"
   ]
  },
  {
   "cell_type": "markdown",
   "id": "9360b9c3",
   "metadata": {},
   "source": []
  },
  {
   "cell_type": "code",
   "execution_count": 8,
   "id": "b14b47d5",
   "metadata": {},
   "outputs": [
    {
     "name": "stderr",
     "output_type": "stream",
     "text": [
      "Restoring states from the checkpoint path at D:\\GoogleDownLoads\\PythonAiRoad\\lightning_logs\\version_7\\checkpoints\\epoch=10-step=18909.ckpt\n",
      "Loaded model weights from checkpoint at D:\\GoogleDownLoads\\PythonAiRoad\\lightning_logs\\version_7\\checkpoints\\epoch=10-step=18909.ckpt\n"
     ]
    },
    {
     "data": {
      "application/vnd.jupyter.widget-view+json": {
       "model_id": "b615ce01e9934723ad154e2ac4aea2c2",
       "version_major": 2,
       "version_minor": 0
      },
      "text/plain": [
       "Testing: 0it [00:00, ?it/s]"
      ]
     },
     "metadata": {},
     "output_type": "display_data"
    },
    {
     "name": "stdout",
     "output_type": "stream",
     "text": [
      "─────────────────────────────────────────────────────────────────────────────────────────────────────────────────────────────────────────────────────\n",
      "       Test metric             DataLoader 0\n",
      "─────────────────────────────────────────────────────────────────────────────────────────────────────────────────────────────────────────────────────\n",
      "        test_acc            0.9456669092178345\n",
      "        test_loss          0.019475625827908516\n",
      "─────────────────────────────────────────────────────────────────────────────────────────────────────────────────────────────────────────────────────\n"
     ]
    },
    {
     "name": "stderr",
     "output_type": "stream",
     "text": [
      "TEST Profiler Report\n",
      "\n",
      "-------------------------------------------------------------------------------------------------------------------------------------------------------------------------------------------------------------------------------------------------------------------------------------------------------------------\n",
      "|  Action                                                                                                                                                                                                \t|  Mean duration (s)\t|  Num calls      \t|  Total time (s) \t|  Percentage %   \t|\n",
      "-------------------------------------------------------------------------------------------------------------------------------------------------------------------------------------------------------------------------------------------------------------------------------------------------------------------\n",
      "|  Total                                                                                                                                                                                                 \t|  -              \t|  1285649        \t|  550.17         \t|  100 %          \t|\n",
      "-------------------------------------------------------------------------------------------------------------------------------------------------------------------------------------------------------------------------------------------------------------------------------------------------------------------\n",
      "|  run_training_epoch                                                                                                                                                                                    \t|  37.398         \t|  14             \t|  523.57         \t|  95.164         \t|\n",
      "|  run_training_batch                                                                                                                                                                                    \t|  0.010611       \t|  24066          \t|  255.37         \t|  46.416         \t|\n",
      "|  [LightningModule]Model.optimizer_step                                                                                                                                                                 \t|  0.010356       \t|  24066          \t|  249.23         \t|  45.3           \t|\n",
      "|  [Strategy]SingleDeviceStrategy.backward                                                                                                                                                               \t|  0.0041782      \t|  24066          \t|  100.55         \t|  18.276         \t|\n",
      "|  [Strategy]SingleDeviceStrategy.training_step                                                                                                                                                          \t|  0.0030067      \t|  24066          \t|  72.36          \t|  13.152         \t|\n",
      "|  [EvaluationEpochLoop].val_dataloader_idx_0_next                                                                                                                                                       \t|  0.019829       \t|  2198           \t|  43.584         \t|  7.9219         \t|\n",
      "|  [Callback]TQDMProgressBar.on_train_batch_end                                                                                                                                                          \t|  0.0014863      \t|  24066          \t|  35.769         \t|  6.5014         \t|\n",
      "|  [LightningModule]Model.training_step_end                                                                                                                                                              \t|  0.00099938     \t|  24066          \t|  24.051         \t|  4.3715         \t|\n",
      "|  run_test_evaluation                                                                                                                                                                                   \t|  10.852         \t|  2              \t|  21.704         \t|  3.9449         \t|\n",
      "|  [LightningModule]Model.optimizer_zero_grad                                                                                                                                                            \t|  0.0004046      \t|  24066          \t|  9.737          \t|  1.7698         \t|\n",
      "|  [Strategy]SingleDeviceStrategy.validation_step                                                                                                                                                        \t|  0.0029741      \t|  2200           \t|  6.543          \t|  1.1893         \t|\n",
      "|  [Strategy]SingleDeviceStrategy.test_step                                                                                                                                                              \t|  0.0026956      \t|  1876           \t|  5.057          \t|  0.91917        \t|\n",
      "|  [TrainingEpochLoop].train_dataloader_next                                                                                                                                                             \t|  0.00020224     \t|  24066          \t|  4.867          \t|  0.88463        \t|\n",
      "|  [EvaluationEpochLoop].test_dataloader_idx_0_next                                                                                                                                                      \t|  0.0016381      \t|  1876           \t|  3.073          \t|  0.55855        \t|\n",
      "|  [Callback]TQDMProgressBar.on_validation_batch_end                                                                                                                                                     \t|  0.0013877      \t|  2200           \t|  3.053          \t|  0.55492        \t|\n",
      "|  [EvaluationEpochLoop].None_dataloader_idx_0_next                                                                                                                                                      \t|  1.242          \t|  2              \t|  2.484          \t|  0.4515         \t|\n",
      "|  [LightningModule]Model.validation_step_end                                                                                                                                                            \t|  0.0011282      \t|  2200           \t|  2.482          \t|  0.45113        \t|\n",
      "|  [Strategy]SingleDeviceStrategy.batch_to_device                                                                                                                                                        \t|  7.9738e-05     \t|  28142          \t|  2.244          \t|  0.40787        \t|\n",
      "|  [LightningModule]Model.test_step_end                                                                                                                                                                  \t|  0.00083156     \t|  1876           \t|  1.56           \t|  0.28355        \t|\n",
      "|  [Callback]TQDMProgressBar.on_test_batch_end                                                                                                                                                           \t|  0.00067058     \t|  1876           \t|  1.258          \t|  0.22866        \t|\n",
      "|  [LightningModule]Model.transfer_batch_to_device                                                                                                                                                       \t|  4.2888e-05     \t|  28143          \t|  1.207          \t|  0.21939        \t|\n",
      "|  [Callback]ModelCheckpoint{'monitor': 'val_loss', 'mode': 'min', 'every_n_train_steps': 0, 'every_n_epochs': 1, 'train_time_interval': None, 'save_on_train_epoch_end': True}.on_train_batch_end       \t|  3.2494e-05     \t|  24066          \t|  0.782          \t|  0.14214        \t|\n",
      "|  [LightningModule]Model.configure_gradient_clipping                                                                                                                                                    \t|  1.9987e-05     \t|  24066          \t|  0.481          \t|  0.087427       \t|\n",
      "|  [Callback]TQDMProgressBar.on_validation_start                                                                                                                                                         \t|  0.010467       \t|  15             \t|  0.157          \t|  0.028537       \t|\n",
      "|  [Callback]ModelSummary.on_train_batch_end                                                                                                                                                             \t|  5.2356e-06     \t|  24066          \t|  0.126          \t|  0.022902       \t|\n",
      "|  [Callback]ModelSummary.on_before_zero_grad                                                                                                                                                            \t|  4.5708e-06     \t|  24066          \t|  0.11           \t|  0.019994       \t|\n",
      "|  [Callback]EarlyStopping{'monitor': 'val_loss', 'mode': 'min'}.on_before_zero_grad                                                                                                                     \t|  4.5292e-06     \t|  24066          \t|  0.109          \t|  0.019812       \t|\n",
      "|  [LightningDataModule]MNISTDataModule.setup                                                                                                                                                            \t|  0.036333       \t|  3              \t|  0.109          \t|  0.019812       \t|\n",
      "|  [Callback]EarlyStopping{'monitor': 'val_loss', 'mode': 'min'}.on_after_backward                                                                                                                       \t|  4.5292e-06     \t|  24066          \t|  0.109          \t|  0.019812       \t|\n",
      "|  [Callback]EarlyStopping{'monitor': 'val_loss', 'mode': 'min'}.on_train_batch_end                                                                                                                      \t|  3.9059e-06     \t|  24066          \t|  0.094          \t|  0.017086       \t|\n",
      "|  [Callback]ModelCheckpoint{'monitor': 'val_loss', 'mode': 'min', 'every_n_train_steps': 0, 'every_n_epochs': 1, 'train_time_interval': None, 'save_on_train_epoch_end': True}.on_train_epoch_end       \t|  0.0054286      \t|  14             \t|  0.076          \t|  0.013814       \t|\n",
      "|  [Callback]EarlyStopping{'monitor': 'val_loss', 'mode': 'min'}.on_before_backward                                                                                                                      \t|  2.5762e-06     \t|  24066          \t|  0.062          \t|  0.011269       \t|\n",
      "|  [Strategy]SingleDeviceStrategy.on_train_batch_start                                                                                                                                                   \t|  1.9945e-06     \t|  24066          \t|  0.048          \t|  0.0087245      \t|\n",
      "|  [Callback]EarlyStopping{'monitor': 'val_loss', 'mode': 'min'}.on_train_batch_start                                                                                                                    \t|  1.953e-06      \t|  24066          \t|  0.047          \t|  0.0085428      \t|\n",
      "|  [Callback]GradientAccumulationScheduler.on_train_batch_end                                                                                                                                            \t|  1.9114e-06     \t|  24066          \t|  0.046          \t|  0.008361       \t|\n",
      "|  [LightningModule]Model.on_before_batch_transfer                                                                                                                                                       \t|  1.1371e-06     \t|  28143          \t|  0.032          \t|  0.0058164      \t|\n",
      "|  [Callback]TQDMProgressBar.on_after_backward                                                                                                                                                           \t|  1.3297e-06     \t|  24066          \t|  0.032          \t|  0.0058164      \t|\n",
      "|  [Callback]ModelCheckpoint{'monitor': 'val_loss', 'mode': 'min', 'every_n_train_steps': 0, 'every_n_epochs': 1, 'train_time_interval': None, 'save_on_train_epoch_end': True}.on_train_batch_start     \t|  1.3297e-06     \t|  24066          \t|  0.032          \t|  0.0058164      \t|\n",
      "|  [LightningModule]Model.on_train_batch_start                                                                                                                                                           \t|  1.3297e-06     \t|  24066          \t|  0.032          \t|  0.0058164      \t|\n",
      "|  [LightningModule]Model.on_before_backward                                                                                                                                                             \t|  1.3297e-06     \t|  24066          \t|  0.032          \t|  0.0058164      \t|\n",
      "|  [Callback]EarlyStopping{'monitor': 'val_loss', 'mode': 'min'}.on_test_batch_end                                                                                                                       \t|  1.7058e-05     \t|  1876           \t|  0.032          \t|  0.0058164      \t|\n",
      "|  [Callback]TQDMProgressBar.on_validation_batch_start                                                                                                                                                   \t|  1.4091e-05     \t|  2200           \t|  0.031          \t|  0.0056346      \t|\n",
      "|  [LightningModule]Model.on_after_batch_transfer                                                                                                                                                        \t|  1.1015e-06     \t|  28143          \t|  0.031          \t|  0.0056346      \t|\n",
      "|  [Callback]GradientAccumulationScheduler.on_before_zero_grad                                                                                                                                           \t|  1.2881e-06     \t|  24066          \t|  0.031          \t|  0.0056346      \t|\n",
      "|  [Callback]ModelCheckpoint{'monitor': 'val_loss', 'mode': 'min', 'every_n_train_steps': 0, 'every_n_epochs': 1, 'train_time_interval': None, 'save_on_train_epoch_end': True}.on_before_zero_grad      \t|  1.2881e-06     \t|  24066          \t|  0.031          \t|  0.0056346      \t|\n",
      "|  [Callback]TQDMProgressBar.on_before_backward                                                                                                                                                          \t|  1.2881e-06     \t|  24066          \t|  0.031          \t|  0.0056346      \t|\n",
      "|  [Callback]GradientAccumulationScheduler.on_before_backward                                                                                                                                            \t|  1.2881e-06     \t|  24066          \t|  0.031          \t|  0.0056346      \t|\n",
      "|  [Callback]ModelCheckpoint{'monitor': 'val_loss', 'mode': 'min', 'every_n_train_steps': 0, 'every_n_epochs': 1, 'train_time_interval': None, 'save_on_train_epoch_end': True}.on_after_backward        \t|  1.2881e-06     \t|  24066          \t|  0.031          \t|  0.0056346      \t|\n",
      "|  [Callback]ModelCheckpoint{'monitor': 'val_loss', 'mode': 'min', 'every_n_train_steps': 0, 'every_n_epochs': 1, 'train_time_interval': None, 'save_on_train_epoch_end': True}.on_before_backward       \t|  1.2466e-06     \t|  24066          \t|  0.03           \t|  0.0054528      \t|\n",
      "|  [Callback]ModelSummary.on_validation_batch_end                                                                                                                                                        \t|  7.2727e-06     \t|  2200           \t|  0.016          \t|  0.0029082      \t|\n",
      "|  [LightningModule]Model.on_before_zero_grad                                                                                                                                                            \t|  6.6484e-07     \t|  24066          \t|  0.016          \t|  0.0029082      \t|\n",
      "|  [LightningModule]Model.on_after_backward                                                                                                                                                              \t|  6.6484e-07     \t|  24066          \t|  0.016          \t|  0.0029082      \t|\n",
      "|  [Callback]ModelSummary.on_before_optimizer_step                                                                                                                                                       \t|  6.6484e-07     \t|  24066          \t|  0.016          \t|  0.0029082      \t|\n",
      "|  [Callback]EarlyStopping{'monitor': 'val_loss', 'mode': 'min'}.on_validation_batch_end                                                                                                                 \t|  7.2727e-06     \t|  2200           \t|  0.016          \t|  0.0029082      \t|\n",
      "|  [Callback]ModelSummary.on_before_backward                                                                                                                                                             \t|  6.6484e-07     \t|  24066          \t|  0.016          \t|  0.0029082      \t|\n",
      "|  [Callback]TQDMProgressBar.on_before_optimizer_step                                                                                                                                                    \t|  6.6484e-07     \t|  24066          \t|  0.016          \t|  0.0029082      \t|\n",
      "|  [Callback]ModelCheckpoint{'monitor': 'val_loss', 'mode': 'min', 'every_n_train_steps': 0, 'every_n_epochs': 1, 'train_time_interval': None, 'save_on_train_epoch_end': True}.on_before_optimizer_step \t|  6.6484e-07     \t|  24066          \t|  0.016          \t|  0.0029082      \t|\n",
      "|  [Callback]TQDMProgressBar.on_train_epoch_start                                                                                                                                                        \t|  0.0010714      \t|  14             \t|  0.015          \t|  0.0027264      \t|\n",
      "|  [Callback]ModelSummary.on_train_batch_start                                                                                                                                                           \t|  6.2329e-07     \t|  24066          \t|  0.015          \t|  0.0027264      \t|\n",
      "|  [Callback]GradientAccumulationScheduler.on_train_batch_start                                                                                                                                          \t|  6.2329e-07     \t|  24066          \t|  0.015          \t|  0.0027264      \t|\n",
      "|  [Strategy]SingleDeviceStrategy.training_step_end                                                                                                                                                      \t|  6.2329e-07     \t|  24066          \t|  0.015          \t|  0.0027264      \t|\n",
      "|  [Callback]TQDMProgressBar.on_before_zero_grad                                                                                                                                                         \t|  6.2329e-07     \t|  24066          \t|  0.015          \t|  0.0027264      \t|\n",
      "|  [Callback]EarlyStopping{'monitor': 'val_loss', 'mode': 'min'}.on_before_optimizer_step                                                                                                                \t|  6.2329e-07     \t|  24066          \t|  0.015          \t|  0.0027264      \t|\n",
      "|  [LightningModule]Model.configure_callbacks                                                                                                                                                            \t|  0.0            \t|  3              \t|  0.0            \t|  0.0            \t|\n",
      "|  [LightningDataModule]MNISTDataModule.prepare_data                                                                                                                                                     \t|  0.0            \t|  3              \t|  0.0            \t|  0.0            \t|\n",
      "|  [LightningModule]Model.prepare_data                                                                                                                                                                   \t|  0.0            \t|  3              \t|  0.0            \t|  0.0            \t|\n",
      "|  [Callback]EarlyStopping{'monitor': 'val_loss', 'mode': 'min'}.setup                                                                                                                                   \t|  0.0            \t|  3              \t|  0.0            \t|  0.0            \t|\n",
      "|  [Callback]TQDMProgressBar.setup                                                                                                                                                                       \t|  0.0            \t|  3              \t|  0.0            \t|  0.0            \t|\n",
      "|  [Callback]ModelSummary.setup                                                                                                                                                                          \t|  0.0            \t|  3              \t|  0.0            \t|  0.0            \t|\n",
      "|  [Callback]GradientAccumulationScheduler.setup                                                                                                                                                         \t|  0.0            \t|  3              \t|  0.0            \t|  0.0            \t|\n",
      "|  [Callback]ModelCheckpoint{'monitor': 'val_loss', 'mode': 'min', 'every_n_train_steps': 0, 'every_n_epochs': 1, 'train_time_interval': None, 'save_on_train_epoch_end': None}.setup                    \t|  0.0            \t|  1              \t|  0.0            \t|  0.0            \t|\n",
      "|  [LightningModule]Model.setup                                                                                                                                                                          \t|  0.0            \t|  3              \t|  0.0            \t|  0.0            \t|\n",
      "|  [LightningModule]Model.configure_sharded_model                                                                                                                                                        \t|  0.0            \t|  3              \t|  0.0            \t|  0.0            \t|\n",
      "|  [LightningModule]Model.configure_optimizers                                                                                                                                                           \t|  0.0            \t|  1              \t|  0.0            \t|  0.0            \t|\n",
      "|  [Callback]EarlyStopping{'monitor': 'val_loss', 'mode': 'min'}.on_fit_start                                                                                                                            \t|  0.0            \t|  1              \t|  0.0            \t|  0.0            \t|\n",
      "|  [Callback]TQDMProgressBar.on_fit_start                                                                                                                                                                \t|  0.0            \t|  1              \t|  0.0            \t|  0.0            \t|\n",
      "|  [Callback]ModelSummary.on_fit_start                                                                                                                                                                   \t|  0.0            \t|  1              \t|  0.0            \t|  0.0            \t|\n",
      "|  [Callback]GradientAccumulationScheduler.on_fit_start                                                                                                                                                  \t|  0.0            \t|  1              \t|  0.0            \t|  0.0            \t|\n",
      "|  [Callback]ModelCheckpoint{'monitor': 'val_loss', 'mode': 'min', 'every_n_train_steps': 0, 'every_n_epochs': 1, 'train_time_interval': None, 'save_on_train_epoch_end': True}.on_fit_start             \t|  0.0            \t|  1              \t|  0.0            \t|  0.0            \t|\n",
      "|  [LightningModule]Model.on_fit_start                                                                                                                                                                   \t|  0.0            \t|  1              \t|  0.0            \t|  0.0            \t|\n",
      "|  [Callback]EarlyStopping{'monitor': 'val_loss', 'mode': 'min'}.on_sanity_check_start                                                                                                                   \t|  0.0            \t|  1              \t|  0.0            \t|  0.0            \t|\n",
      "|  [Callback]TQDMProgressBar.on_sanity_check_start                                                                                                                                                       \t|  0.0            \t|  1              \t|  0.0            \t|  0.0            \t|\n",
      "|  [Callback]ModelSummary.on_sanity_check_start                                                                                                                                                          \t|  0.0            \t|  1              \t|  0.0            \t|  0.0            \t|\n",
      "|  [Callback]GradientAccumulationScheduler.on_sanity_check_start                                                                                                                                         \t|  0.0            \t|  1              \t|  0.0            \t|  0.0            \t|\n",
      "|  [Callback]ModelCheckpoint{'monitor': 'val_loss', 'mode': 'min', 'every_n_train_steps': 0, 'every_n_epochs': 1, 'train_time_interval': None, 'save_on_train_epoch_end': True}.on_sanity_check_start    \t|  0.0            \t|  1              \t|  0.0            \t|  0.0            \t|\n",
      "|  [LightningModule]Model.on_validation_model_eval                                                                                                                                                       \t|  0.0            \t|  15             \t|  0.0            \t|  0.0            \t|\n",
      "|  [Callback]EarlyStopping{'monitor': 'val_loss', 'mode': 'min'}.on_validation_start                                                                                                                     \t|  0.0            \t|  15             \t|  0.0            \t|  0.0            \t|\n",
      "|  [Callback]ModelSummary.on_validation_start                                                                                                                                                            \t|  0.0            \t|  15             \t|  0.0            \t|  0.0            \t|\n",
      "|  [Callback]GradientAccumulationScheduler.on_validation_start                                                                                                                                           \t|  0.0            \t|  15             \t|  0.0            \t|  0.0            \t|\n",
      "|  [Callback]ModelCheckpoint{'monitor': 'val_loss', 'mode': 'min', 'every_n_train_steps': 0, 'every_n_epochs': 1, 'train_time_interval': None, 'save_on_train_epoch_end': True}.on_validation_start      \t|  0.0            \t|  15             \t|  0.0            \t|  0.0            \t|\n",
      "|  [LightningModule]Model.on_validation_start                                                                                                                                                            \t|  0.0            \t|  15             \t|  0.0            \t|  0.0            \t|\n",
      "|  [Strategy]SingleDeviceStrategy.on_validation_start                                                                                                                                                    \t|  0.0            \t|  15             \t|  0.0            \t|  0.0            \t|\n",
      "|  [Callback]EarlyStopping{'monitor': 'val_loss', 'mode': 'min'}.on_validation_epoch_start                                                                                                               \t|  0.0            \t|  15             \t|  0.0            \t|  0.0            \t|\n",
      "|  [Callback]TQDMProgressBar.on_validation_epoch_start                                                                                                                                                   \t|  0.0            \t|  15             \t|  0.0            \t|  0.0            \t|\n",
      "|  [Callback]ModelSummary.on_validation_epoch_start                                                                                                                                                      \t|  0.0            \t|  15             \t|  0.0            \t|  0.0            \t|\n",
      "|  [Callback]GradientAccumulationScheduler.on_validation_epoch_start                                                                                                                                     \t|  0.0            \t|  15             \t|  0.0            \t|  0.0            \t|\n",
      "|  [Callback]ModelCheckpoint{'monitor': 'val_loss', 'mode': 'min', 'every_n_train_steps': 0, 'every_n_epochs': 1, 'train_time_interval': None, 'save_on_train_epoch_end': True}.on_validation_epoch_start\t|  0.0            \t|  15             \t|  0.0            \t|  0.0            \t|\n",
      "|  [LightningModule]Model.on_validation_epoch_start                                                                                                                                                      \t|  0.0            \t|  15             \t|  0.0            \t|  0.0            \t|\n",
      "|  [Callback]EarlyStopping{'monitor': 'val_loss', 'mode': 'min'}.on_validation_batch_start                                                                                                               \t|  0.0            \t|  2200           \t|  0.0            \t|  0.0            \t|\n",
      "|  [Callback]ModelSummary.on_validation_batch_start                                                                                                                                                      \t|  0.0            \t|  2200           \t|  0.0            \t|  0.0            \t|\n",
      "|  [Callback]GradientAccumulationScheduler.on_validation_batch_start                                                                                                                                     \t|  0.0            \t|  2200           \t|  0.0            \t|  0.0            \t|\n",
      "|  [Callback]ModelCheckpoint{'monitor': 'val_loss', 'mode': 'min', 'every_n_train_steps': 0, 'every_n_epochs': 1, 'train_time_interval': None, 'save_on_train_epoch_end': True}.on_validation_batch_start\t|  0.0            \t|  2200           \t|  0.0            \t|  0.0            \t|\n",
      "|  [LightningModule]Model.on_validation_batch_start                                                                                                                                                      \t|  0.0            \t|  2200           \t|  0.0            \t|  0.0            \t|\n",
      "|  [Strategy]SingleDeviceStrategy.validation_step_end                                                                                                                                                    \t|  0.0            \t|  2200           \t|  0.0            \t|  0.0            \t|\n",
      "|  [Callback]GradientAccumulationScheduler.on_validation_batch_end                                                                                                                                       \t|  0.0            \t|  2200           \t|  0.0            \t|  0.0            \t|\n",
      "|  [Callback]ModelCheckpoint{'monitor': 'val_loss', 'mode': 'min', 'every_n_train_steps': 0, 'every_n_epochs': 1, 'train_time_interval': None, 'save_on_train_epoch_end': True}.on_validation_batch_end  \t|  0.0            \t|  2200           \t|  0.0            \t|  0.0            \t|\n",
      "|  [LightningModule]Model.on_validation_batch_end                                                                                                                                                        \t|  0.0            \t|  2200           \t|  0.0            \t|  0.0            \t|\n",
      "|  [LightningModule]Model.validation_epoch_end                                                                                                                                                           \t|  0.0            \t|  15             \t|  0.0            \t|  0.0            \t|\n",
      "|  [Callback]EarlyStopping{'monitor': 'val_loss', 'mode': 'min'}.on_validation_epoch_end                                                                                                                 \t|  0.0            \t|  15             \t|  0.0            \t|  0.0            \t|\n",
      "|  [Callback]TQDMProgressBar.on_validation_epoch_end                                                                                                                                                     \t|  0.0            \t|  15             \t|  0.0            \t|  0.0            \t|\n",
      "|  [Callback]ModelSummary.on_validation_epoch_end                                                                                                                                                        \t|  0.0            \t|  15             \t|  0.0            \t|  0.0            \t|\n",
      "|  [Callback]GradientAccumulationScheduler.on_validation_epoch_end                                                                                                                                       \t|  0.0            \t|  15             \t|  0.0            \t|  0.0            \t|\n",
      "|  [Callback]ModelCheckpoint{'monitor': 'val_loss', 'mode': 'min', 'every_n_train_steps': 0, 'every_n_epochs': 1, 'train_time_interval': None, 'save_on_train_epoch_end': True}.on_validation_epoch_end  \t|  0.0            \t|  15             \t|  0.0            \t|  0.0            \t|\n",
      "|  [LightningModule]Model.on_validation_epoch_end                                                                                                                                                        \t|  0.0            \t|  15             \t|  0.0            \t|  0.0            \t|\n",
      "|  [Callback]EarlyStopping{'monitor': 'val_loss', 'mode': 'min'}.on_validation_end                                                                                                                       \t|  0.0            \t|  15             \t|  0.0            \t|  0.0            \t|\n",
      "|  [Callback]TQDMProgressBar.on_validation_end                                                                                                                                                           \t|  0.0            \t|  15             \t|  0.0            \t|  0.0            \t|\n",
      "|  [Callback]ModelSummary.on_validation_end                                                                                                                                                              \t|  0.0            \t|  15             \t|  0.0            \t|  0.0            \t|\n",
      "|  [Callback]GradientAccumulationScheduler.on_validation_end                                                                                                                                             \t|  0.0            \t|  15             \t|  0.0            \t|  0.0            \t|\n",
      "|  [Callback]ModelCheckpoint{'monitor': 'val_loss', 'mode': 'min', 'every_n_train_steps': 0, 'every_n_epochs': 1, 'train_time_interval': None, 'save_on_train_epoch_end': True}.on_validation_end        \t|  0.0            \t|  15             \t|  0.0            \t|  0.0            \t|\n",
      "|  [LightningModule]Model.on_validation_end                                                                                                                                                              \t|  0.0            \t|  15             \t|  0.0            \t|  0.0            \t|\n",
      "|  [Strategy]SingleDeviceStrategy.on_validation_end                                                                                                                                                      \t|  0.0            \t|  15             \t|  0.0            \t|  0.0            \t|\n",
      "|  [LightningModule]Model.on_validation_model_train                                                                                                                                                      \t|  0.0            \t|  15             \t|  0.0            \t|  0.0            \t|\n",
      "|  [Callback]EarlyStopping{'monitor': 'val_loss', 'mode': 'min'}.on_sanity_check_end                                                                                                                     \t|  0.0            \t|  1              \t|  0.0            \t|  0.0            \t|\n",
      "|  [Callback]TQDMProgressBar.on_sanity_check_end                                                                                                                                                         \t|  0.0            \t|  1              \t|  0.0            \t|  0.0            \t|\n",
      "|  [Callback]ModelSummary.on_sanity_check_end                                                                                                                                                            \t|  0.0            \t|  1              \t|  0.0            \t|  0.0            \t|\n",
      "|  [Callback]GradientAccumulationScheduler.on_sanity_check_end                                                                                                                                           \t|  0.0            \t|  1              \t|  0.0            \t|  0.0            \t|\n",
      "|  [Callback]ModelCheckpoint{'monitor': 'val_loss', 'mode': 'min', 'every_n_train_steps': 0, 'every_n_epochs': 1, 'train_time_interval': None, 'save_on_train_epoch_end': True}.on_sanity_check_end      \t|  0.0            \t|  1              \t|  0.0            \t|  0.0            \t|\n",
      "|  [Callback]EarlyStopping{'monitor': 'val_loss', 'mode': 'min'}.on_train_start                                                                                                                          \t|  0.0            \t|  1              \t|  0.0            \t|  0.0            \t|\n",
      "|  [Callback]TQDMProgressBar.on_train_start                                                                                                                                                              \t|  0.0            \t|  1              \t|  0.0            \t|  0.0            \t|\n",
      "|  [Callback]ModelSummary.on_train_start                                                                                                                                                                 \t|  0.0            \t|  1              \t|  0.0            \t|  0.0            \t|\n",
      "|  [Callback]GradientAccumulationScheduler.on_train_start                                                                                                                                                \t|  0.0            \t|  1              \t|  0.0            \t|  0.0            \t|\n",
      "|  [Callback]ModelCheckpoint{'monitor': 'val_loss', 'mode': 'min', 'every_n_train_steps': 0, 'every_n_epochs': 1, 'train_time_interval': None, 'save_on_train_epoch_end': True}.on_train_start           \t|  0.0            \t|  1              \t|  0.0            \t|  0.0            \t|\n",
      "|  [LightningModule]Model.on_train_start                                                                                                                                                                 \t|  0.0            \t|  1              \t|  0.0            \t|  0.0            \t|\n",
      "|  [Strategy]SingleDeviceStrategy.on_train_start                                                                                                                                                         \t|  0.0            \t|  1              \t|  0.0            \t|  0.0            \t|\n",
      "|  [Callback]EarlyStopping{'monitor': 'val_loss', 'mode': 'min'}.on_train_epoch_start                                                                                                                    \t|  0.0            \t|  14             \t|  0.0            \t|  0.0            \t|\n",
      "|  [Callback]ModelSummary.on_train_epoch_start                                                                                                                                                           \t|  0.0            \t|  14             \t|  0.0            \t|  0.0            \t|\n",
      "|  [Callback]GradientAccumulationScheduler.on_train_epoch_start                                                                                                                                          \t|  0.0            \t|  14             \t|  0.0            \t|  0.0            \t|\n",
      "|  [Callback]ModelCheckpoint{'monitor': 'val_loss', 'mode': 'min', 'every_n_train_steps': 0, 'every_n_epochs': 1, 'train_time_interval': None, 'save_on_train_epoch_end': True}.on_train_epoch_start     \t|  0.0            \t|  14             \t|  0.0            \t|  0.0            \t|\n",
      "|  [LightningModule]Model.on_train_epoch_start                                                                                                                                                           \t|  0.0            \t|  14             \t|  0.0            \t|  0.0            \t|\n",
      "|  [Callback]TQDMProgressBar.on_train_batch_start                                                                                                                                                        \t|  0.0            \t|  24066          \t|  0.0            \t|  0.0            \t|\n",
      "|  [Callback]ModelSummary.on_after_backward                                                                                                                                                              \t|  0.0            \t|  24066          \t|  0.0            \t|  0.0            \t|\n",
      "|  [Callback]GradientAccumulationScheduler.on_after_backward                                                                                                                                             \t|  0.0            \t|  24066          \t|  0.0            \t|  0.0            \t|\n",
      "|  [Callback]GradientAccumulationScheduler.on_before_optimizer_step                                                                                                                                      \t|  0.0            \t|  24066          \t|  0.0            \t|  0.0            \t|\n",
      "|  [LightningModule]Model.on_before_optimizer_step                                                                                                                                                       \t|  0.0            \t|  24066          \t|  0.0            \t|  0.0            \t|\n",
      "|  [LightningModule]Model.on_train_batch_end                                                                                                                                                             \t|  0.0            \t|  24066          \t|  0.0            \t|  0.0            \t|\n",
      "|  [Callback]EarlyStopping{'monitor': 'val_loss', 'mode': 'min'}.on_train_epoch_end                                                                                                                      \t|  0.0            \t|  14             \t|  0.0            \t|  0.0            \t|\n",
      "|  [Callback]TQDMProgressBar.on_train_epoch_end                                                                                                                                                          \t|  0.0            \t|  14             \t|  0.0            \t|  0.0            \t|\n",
      "|  [Callback]ModelSummary.on_train_epoch_end                                                                                                                                                             \t|  0.0            \t|  14             \t|  0.0            \t|  0.0            \t|\n",
      "|  [Callback]GradientAccumulationScheduler.on_train_epoch_end                                                                                                                                            \t|  0.0            \t|  14             \t|  0.0            \t|  0.0            \t|\n",
      "|  [LightningDataModule]MNISTDataModule.state_dict                                                                                                                                                       \t|  0.0            \t|  8              \t|  0.0            \t|  0.0            \t|\n",
      "|  [Callback]EarlyStopping{'monitor': 'val_loss', 'mode': 'min'}.on_save_checkpoint                                                                                                                      \t|  0.0            \t|  8              \t|  0.0            \t|  0.0            \t|\n",
      "|  [Callback]TQDMProgressBar.on_save_checkpoint                                                                                                                                                          \t|  0.0            \t|  8              \t|  0.0            \t|  0.0            \t|\n",
      "|  [Callback]ModelSummary.on_save_checkpoint                                                                                                                                                             \t|  0.0            \t|  8              \t|  0.0            \t|  0.0            \t|\n",
      "|  [Callback]GradientAccumulationScheduler.on_save_checkpoint                                                                                                                                            \t|  0.0            \t|  8              \t|  0.0            \t|  0.0            \t|\n",
      "|  [Callback]ModelCheckpoint{'monitor': 'val_loss', 'mode': 'min', 'every_n_train_steps': 0, 'every_n_epochs': 1, 'train_time_interval': None, 'save_on_train_epoch_end': True}.on_save_checkpoint       \t|  0.0            \t|  8              \t|  0.0            \t|  0.0            \t|\n",
      "|  [LightningModule]Model.on_save_checkpoint                                                                                                                                                             \t|  0.0            \t|  8              \t|  0.0            \t|  0.0            \t|\n",
      "|  [LightningModule]Model.on_train_epoch_end                                                                                                                                                             \t|  0.0            \t|  14             \t|  0.0            \t|  0.0            \t|\n",
      "|  [Callback]EarlyStopping{'monitor': 'val_loss', 'mode': 'min'}.on_train_end                                                                                                                            \t|  0.0            \t|  1              \t|  0.0            \t|  0.0            \t|\n",
      "|  [Callback]TQDMProgressBar.on_train_end                                                                                                                                                                \t|  0.0            \t|  1              \t|  0.0            \t|  0.0            \t|\n",
      "|  [Callback]ModelSummary.on_train_end                                                                                                                                                                   \t|  0.0            \t|  1              \t|  0.0            \t|  0.0            \t|\n",
      "|  [Callback]GradientAccumulationScheduler.on_train_end                                                                                                                                                  \t|  0.0            \t|  1              \t|  0.0            \t|  0.0            \t|\n",
      "|  [Callback]ModelCheckpoint{'monitor': 'val_loss', 'mode': 'min', 'every_n_train_steps': 0, 'every_n_epochs': 1, 'train_time_interval': None, 'save_on_train_epoch_end': True}.on_train_end             \t|  0.0            \t|  1              \t|  0.0            \t|  0.0            \t|\n",
      "|  [LightningModule]Model.on_train_end                                                                                                                                                                   \t|  0.0            \t|  1              \t|  0.0            \t|  0.0            \t|\n",
      "|  [Strategy]SingleDeviceStrategy.on_train_end                                                                                                                                                           \t|  0.0            \t|  1              \t|  0.0            \t|  0.0            \t|\n",
      "|  [Callback]EarlyStopping{'monitor': 'val_loss', 'mode': 'min'}.on_fit_end                                                                                                                              \t|  0.0            \t|  1              \t|  0.0            \t|  0.0            \t|\n",
      "|  [Callback]TQDMProgressBar.on_fit_end                                                                                                                                                                  \t|  0.0            \t|  1              \t|  0.0            \t|  0.0            \t|\n",
      "|  [Callback]ModelSummary.on_fit_end                                                                                                                                                                     \t|  0.0            \t|  1              \t|  0.0            \t|  0.0            \t|\n",
      "|  [Callback]GradientAccumulationScheduler.on_fit_end                                                                                                                                                    \t|  0.0            \t|  1              \t|  0.0            \t|  0.0            \t|\n",
      "|  [Callback]ModelCheckpoint{'monitor': 'val_loss', 'mode': 'min', 'every_n_train_steps': 0, 'every_n_epochs': 1, 'train_time_interval': None, 'save_on_train_epoch_end': True}.on_fit_end               \t|  0.0            \t|  1              \t|  0.0            \t|  0.0            \t|\n",
      "|  [LightningModule]Model.on_fit_end                                                                                                                                                                     \t|  0.0            \t|  1              \t|  0.0            \t|  0.0            \t|\n",
      "|  [LightningDataModule]MNISTDataModule.teardown                                                                                                                                                         \t|  0.0            \t|  3              \t|  0.0            \t|  0.0            \t|\n",
      "|  [Callback]EarlyStopping{'monitor': 'val_loss', 'mode': 'min'}.teardown                                                                                                                                \t|  0.0            \t|  3              \t|  0.0            \t|  0.0            \t|\n",
      "|  [Callback]TQDMProgressBar.teardown                                                                                                                                                                    \t|  0.0            \t|  3              \t|  0.0            \t|  0.0            \t|\n",
      "|  [Callback]ModelSummary.teardown                                                                                                                                                                       \t|  0.0            \t|  3              \t|  0.0            \t|  0.0            \t|\n",
      "|  [Callback]GradientAccumulationScheduler.teardown                                                                                                                                                      \t|  0.0            \t|  3              \t|  0.0            \t|  0.0            \t|\n",
      "|  [Callback]ModelCheckpoint{'monitor': 'val_loss', 'mode': 'min', 'every_n_train_steps': 0, 'every_n_epochs': 1, 'train_time_interval': None, 'save_on_train_epoch_end': True}.teardown                 \t|  0.0            \t|  3              \t|  0.0            \t|  0.0            \t|\n",
      "|  [LightningModule]Model.teardown                                                                                                                                                                       \t|  0.0            \t|  3              \t|  0.0            \t|  0.0            \t|\n",
      "|  [Callback]ModelCheckpoint{'monitor': 'val_loss', 'mode': 'min', 'every_n_train_steps': 0, 'every_n_epochs': 1, 'train_time_interval': None, 'save_on_train_epoch_end': True}.setup                    \t|  0.0            \t|  2              \t|  0.0            \t|  0.0            \t|\n",
      "|  [LightningModule]Model.on_load_checkpoint                                                                                                                                                             \t|  0.0            \t|  2              \t|  0.0            \t|  0.0            \t|\n",
      "|  [LightningModule]Model.on_test_model_eval                                                                                                                                                             \t|  0.0            \t|  2              \t|  0.0            \t|  0.0            \t|\n",
      "|  [Callback]EarlyStopping{'monitor': 'val_loss', 'mode': 'min'}.on_test_start                                                                                                                           \t|  0.0            \t|  2              \t|  0.0            \t|  0.0            \t|\n",
      "|  [Callback]TQDMProgressBar.on_test_start                                                                                                                                                               \t|  0.0            \t|  2              \t|  0.0            \t|  0.0            \t|\n",
      "|  [Callback]ModelSummary.on_test_start                                                                                                                                                                  \t|  0.0            \t|  2              \t|  0.0            \t|  0.0            \t|\n",
      "|  [Callback]GradientAccumulationScheduler.on_test_start                                                                                                                                                 \t|  0.0            \t|  2              \t|  0.0            \t|  0.0            \t|\n",
      "|  [Callback]ModelCheckpoint{'monitor': 'val_loss', 'mode': 'min', 'every_n_train_steps': 0, 'every_n_epochs': 1, 'train_time_interval': None, 'save_on_train_epoch_end': True}.on_test_start            \t|  0.0            \t|  2              \t|  0.0            \t|  0.0            \t|\n",
      "|  [LightningModule]Model.on_test_start                                                                                                                                                                  \t|  0.0            \t|  2              \t|  0.0            \t|  0.0            \t|\n",
      "|  [Strategy]SingleDeviceStrategy.on_test_start                                                                                                                                                          \t|  0.0            \t|  2              \t|  0.0            \t|  0.0            \t|\n",
      "|  [Callback]EarlyStopping{'monitor': 'val_loss', 'mode': 'min'}.on_test_epoch_start                                                                                                                     \t|  0.0            \t|  2              \t|  0.0            \t|  0.0            \t|\n",
      "|  [Callback]TQDMProgressBar.on_test_epoch_start                                                                                                                                                         \t|  0.0            \t|  2              \t|  0.0            \t|  0.0            \t|\n",
      "|  [Callback]ModelSummary.on_test_epoch_start                                                                                                                                                            \t|  0.0            \t|  2              \t|  0.0            \t|  0.0            \t|\n",
      "|  [Callback]GradientAccumulationScheduler.on_test_epoch_start                                                                                                                                           \t|  0.0            \t|  2              \t|  0.0            \t|  0.0            \t|\n",
      "|  [Callback]ModelCheckpoint{'monitor': 'val_loss', 'mode': 'min', 'every_n_train_steps': 0, 'every_n_epochs': 1, 'train_time_interval': None, 'save_on_train_epoch_end': True}.on_test_epoch_start      \t|  0.0            \t|  2              \t|  0.0            \t|  0.0            \t|\n",
      "|  [LightningModule]Model.on_test_epoch_start                                                                                                                                                            \t|  0.0            \t|  2              \t|  0.0            \t|  0.0            \t|\n",
      "|  [Callback]EarlyStopping{'monitor': 'val_loss', 'mode': 'min'}.on_test_batch_start                                                                                                                     \t|  0.0            \t|  1876           \t|  0.0            \t|  0.0            \t|\n",
      "|  [Callback]TQDMProgressBar.on_test_batch_start                                                                                                                                                         \t|  0.0            \t|  1876           \t|  0.0            \t|  0.0            \t|\n",
      "|  [Callback]ModelSummary.on_test_batch_start                                                                                                                                                            \t|  0.0            \t|  1876           \t|  0.0            \t|  0.0            \t|\n",
      "|  [Callback]GradientAccumulationScheduler.on_test_batch_start                                                                                                                                           \t|  0.0            \t|  1876           \t|  0.0            \t|  0.0            \t|\n",
      "|  [Callback]ModelCheckpoint{'monitor': 'val_loss', 'mode': 'min', 'every_n_train_steps': 0, 'every_n_epochs': 1, 'train_time_interval': None, 'save_on_train_epoch_end': True}.on_test_batch_start      \t|  0.0            \t|  1876           \t|  0.0            \t|  0.0            \t|\n",
      "|  [LightningModule]Model.on_test_batch_start                                                                                                                                                            \t|  0.0            \t|  1876           \t|  0.0            \t|  0.0            \t|\n",
      "|  [Strategy]SingleDeviceStrategy.test_step_end                                                                                                                                                          \t|  0.0            \t|  1876           \t|  0.0            \t|  0.0            \t|\n",
      "|  [Callback]ModelSummary.on_test_batch_end                                                                                                                                                              \t|  0.0            \t|  1876           \t|  0.0            \t|  0.0            \t|\n",
      "|  [Callback]GradientAccumulationScheduler.on_test_batch_end                                                                                                                                             \t|  0.0            \t|  1876           \t|  0.0            \t|  0.0            \t|\n",
      "|  [Callback]ModelCheckpoint{'monitor': 'val_loss', 'mode': 'min', 'every_n_train_steps': 0, 'every_n_epochs': 1, 'train_time_interval': None, 'save_on_train_epoch_end': True}.on_test_batch_end        \t|  0.0            \t|  1876           \t|  0.0            \t|  0.0            \t|\n",
      "|  [LightningModule]Model.on_test_batch_end                                                                                                                                                              \t|  0.0            \t|  1876           \t|  0.0            \t|  0.0            \t|\n",
      "|  [LightningModule]Model.test_epoch_end                                                                                                                                                                 \t|  0.0            \t|  2              \t|  0.0            \t|  0.0            \t|\n",
      "|  [Callback]EarlyStopping{'monitor': 'val_loss', 'mode': 'min'}.on_test_epoch_end                                                                                                                       \t|  0.0            \t|  2              \t|  0.0            \t|  0.0            \t|\n",
      "|  [Callback]TQDMProgressBar.on_test_epoch_end                                                                                                                                                           \t|  0.0            \t|  2              \t|  0.0            \t|  0.0            \t|\n",
      "|  [Callback]ModelSummary.on_test_epoch_end                                                                                                                                                              \t|  0.0            \t|  2              \t|  0.0            \t|  0.0            \t|\n",
      "|  [Callback]GradientAccumulationScheduler.on_test_epoch_end                                                                                                                                             \t|  0.0            \t|  2              \t|  0.0            \t|  0.0            \t|\n",
      "|  [Callback]ModelCheckpoint{'monitor': 'val_loss', 'mode': 'min', 'every_n_train_steps': 0, 'every_n_epochs': 1, 'train_time_interval': None, 'save_on_train_epoch_end': True}.on_test_epoch_end        \t|  0.0            \t|  2              \t|  0.0            \t|  0.0            \t|\n",
      "|  [LightningModule]Model.on_test_epoch_end                                                                                                                                                              \t|  0.0            \t|  2              \t|  0.0            \t|  0.0            \t|\n",
      "|  [Callback]EarlyStopping{'monitor': 'val_loss', 'mode': 'min'}.on_test_end                                                                                                                             \t|  0.0            \t|  2              \t|  0.0            \t|  0.0            \t|\n",
      "|  [Callback]TQDMProgressBar.on_test_end                                                                                                                                                                 \t|  0.0            \t|  2              \t|  0.0            \t|  0.0            \t|\n",
      "|  [Callback]ModelSummary.on_test_end                                                                                                                                                                    \t|  0.0            \t|  2              \t|  0.0            \t|  0.0            \t|\n",
      "|  [Callback]GradientAccumulationScheduler.on_test_end                                                                                                                                                   \t|  0.0            \t|  2              \t|  0.0            \t|  0.0            \t|\n",
      "|  [Callback]ModelCheckpoint{'monitor': 'val_loss', 'mode': 'min', 'every_n_train_steps': 0, 'every_n_epochs': 1, 'train_time_interval': None, 'save_on_train_epoch_end': True}.on_test_end              \t|  0.0            \t|  2              \t|  0.0            \t|  0.0            \t|\n",
      "|  [LightningModule]Model.on_test_end                                                                                                                                                                    \t|  0.0            \t|  2              \t|  0.0            \t|  0.0            \t|\n",
      "|  [Strategy]SingleDeviceStrategy.on_test_end                                                                                                                                                            \t|  0.0            \t|  2              \t|  0.0            \t|  0.0            \t|\n",
      "|  [LightningModule]Model.on_test_model_train                                                                                                                                                            \t|  0.0            \t|  2              \t|  0.0            \t|  0.0            \t|\n",
      "-------------------------------------------------------------------------------------------------------------------------------------------------------------------------------------------------------------------------------------------------------------------------------------------------------------------\n",
      "\n"
     ]
    }
   ],
   "source": [
    "result = trainer.test(model,data_mnist.val_dataloader(),ckpt_path='best')"
   ]
  },
  {
   "cell_type": "markdown",
   "id": "af974a6b",
   "metadata": {},
   "source": [
    "```\n",
    "--------------------------------------------------------------------------------\n",
    "DATALOADER:0 TEST RESULTS\n",
    "{'test_acc': 0.9865999817848206, 'test_loss': 0.042671505361795425}\n",
    "--------------------------------------------------------------------------------\n",
    "```"
   ]
  },
  {
   "cell_type": "code",
   "execution_count": 9,
   "id": "b30d7de3-91b5-465b-a266-b5fd1b532d8b",
   "metadata": {},
   "outputs": [
    {
     "name": "stderr",
     "output_type": "stream",
     "text": [
      "Restoring states from the checkpoint path at D:\\GoogleDownLoads\\PythonAiRoad\\lightning_logs\\version_7\\checkpoints\\epoch=10-step=18909.ckpt\n",
      "Loaded model weights from checkpoint at D:\\GoogleDownLoads\\PythonAiRoad\\lightning_logs\\version_7\\checkpoints\\epoch=10-step=18909.ckpt\n"
     ]
    },
    {
     "data": {
      "application/vnd.jupyter.widget-view+json": {
       "model_id": "8ded7484f75f4df39cd3e284fb0a9eae",
       "version_major": 2,
       "version_minor": 0
      },
      "text/plain": [
       "Testing: 0it [00:00, ?it/s]"
      ]
     },
     "metadata": {},
     "output_type": "display_data"
    },
    {
     "name": "stdout",
     "output_type": "stream",
     "text": [
      "─────────────────────────────────────────────────────────────────────────────────────────────────────────────────────────────────────────────────────\n",
      "       Test metric             DataLoader 0\n",
      "─────────────────────────────────────────────────────────────────────────────────────────────────────────────────────────────────────────────────────\n",
      "        test_acc            0.9593914151191711\n",
      "        test_loss           0.04799084737896919\n",
      "─────────────────────────────────────────────────────────────────────────────────────────────────────────────────────────────────────────────────────\n"
     ]
    },
    {
     "name": "stderr",
     "output_type": "stream",
     "text": [
      "TEST Profiler Report\n",
      "\n",
      "-------------------------------------------------------------------------------------------------------------------------------------------------------------------------------------------------------------------------------------------------------------------------------------------------------------------\n",
      "|  Action                                                                                                                                                                                                \t|  Mean duration (s)\t|  Num calls      \t|  Total time (s) \t|  Percentage %   \t|\n",
      "-------------------------------------------------------------------------------------------------------------------------------------------------------------------------------------------------------------------------------------------------------------------------------------------------------------------\n",
      "|  Total                                                                                                                                                                                                 \t|  -              \t|  1291958        \t|  555.02         \t|  100 %          \t|\n",
      "-------------------------------------------------------------------------------------------------------------------------------------------------------------------------------------------------------------------------------------------------------------------------------------------------------------------\n",
      "|  run_training_epoch                                                                                                                                                                                    \t|  37.398         \t|  14             \t|  523.57         \t|  94.333         \t|\n",
      "|  run_training_batch                                                                                                                                                                                    \t|  0.010611       \t|  24066          \t|  255.37         \t|  46.011         \t|\n",
      "|  [LightningModule]Model.optimizer_step                                                                                                                                                                 \t|  0.010356       \t|  24066          \t|  249.23         \t|  44.905         \t|\n",
      "|  [Strategy]SingleDeviceStrategy.backward                                                                                                                                                               \t|  0.0041782      \t|  24066          \t|  100.55         \t|  18.117         \t|\n",
      "|  [Strategy]SingleDeviceStrategy.training_step                                                                                                                                                          \t|  0.0030067      \t|  24066          \t|  72.36          \t|  13.037         \t|\n",
      "|  [EvaluationEpochLoop].val_dataloader_idx_0_next                                                                                                                                                       \t|  0.019829       \t|  2198           \t|  43.584         \t|  7.8527         \t|\n",
      "|  [Callback]TQDMProgressBar.on_train_batch_end                                                                                                                                                          \t|  0.0014863      \t|  24066          \t|  35.769         \t|  6.4447         \t|\n",
      "|  run_test_evaluation                                                                                                                                                                                   \t|  8.6983         \t|  3              \t|  26.095         \t|  4.7017         \t|\n",
      "|  [LightningModule]Model.training_step_end                                                                                                                                                              \t|  0.00099938     \t|  24066          \t|  24.051         \t|  4.3334         \t|\n",
      "|  [LightningModule]Model.optimizer_zero_grad                                                                                                                                                            \t|  0.0004046      \t|  24066          \t|  9.737          \t|  1.7544         \t|\n",
      "|  [Strategy]SingleDeviceStrategy.validation_step                                                                                                                                                        \t|  0.0029741      \t|  2200           \t|  6.543          \t|  1.1789         \t|\n",
      "|  [EvaluationEpochLoop].test_dataloader_idx_0_next                                                                                                                                                      \t|  0.0027812      \t|  2189           \t|  6.088          \t|  1.0969         \t|\n",
      "|  [Strategy]SingleDeviceStrategy.test_step                                                                                                                                                              \t|  0.0026259      \t|  2189           \t|  5.748          \t|  1.0356         \t|\n",
      "|  [TrainingEpochLoop].train_dataloader_next                                                                                                                                                             \t|  0.00020224     \t|  24066          \t|  4.867          \t|  0.87691        \t|\n",
      "|  [Callback]TQDMProgressBar.on_validation_batch_end                                                                                                                                                     \t|  0.0013877      \t|  2200           \t|  3.053          \t|  0.55007        \t|\n",
      "|  [EvaluationEpochLoop].None_dataloader_idx_0_next                                                                                                                                                      \t|  1.242          \t|  2              \t|  2.484          \t|  0.44755        \t|\n",
      "|  [LightningModule]Model.validation_step_end                                                                                                                                                            \t|  0.0011282      \t|  2200           \t|  2.482          \t|  0.44719        \t|\n",
      "|  [Strategy]SingleDeviceStrategy.batch_to_device                                                                                                                                                        \t|  8.0513e-05     \t|  28455          \t|  2.291          \t|  0.41278        \t|\n",
      "|  [LightningModule]Model.test_step_end                                                                                                                                                                  \t|  0.00080448     \t|  2189           \t|  1.761          \t|  0.31729        \t|\n",
      "|  [Callback]TQDMProgressBar.on_test_batch_end                                                                                                                                                           \t|  0.00065966     \t|  2189           \t|  1.444          \t|  0.26017        \t|\n",
      "|  [LightningModule]Model.transfer_batch_to_device                                                                                                                                                       \t|  4.2416e-05     \t|  28456          \t|  1.207          \t|  0.21747        \t|\n",
      "|  [Callback]ModelCheckpoint{'monitor': 'val_loss', 'mode': 'min', 'every_n_train_steps': 0, 'every_n_epochs': 1, 'train_time_interval': None, 'save_on_train_epoch_end': True}.on_train_batch_end       \t|  3.2494e-05     \t|  24066          \t|  0.782          \t|  0.1409         \t|\n",
      "|  [LightningModule]Model.configure_gradient_clipping                                                                                                                                                    \t|  1.9987e-05     \t|  24066          \t|  0.481          \t|  0.086664       \t|\n",
      "|  [Callback]TQDMProgressBar.on_validation_start                                                                                                                                                         \t|  0.010467       \t|  15             \t|  0.157          \t|  0.028287       \t|\n",
      "|  [LightningDataModule]MNISTDataModule.setup                                                                                                                                                            \t|  0.03525        \t|  4              \t|  0.141          \t|  0.025405       \t|\n",
      "|  [Callback]ModelSummary.on_train_batch_end                                                                                                                                                             \t|  5.2356e-06     \t|  24066          \t|  0.126          \t|  0.022702       \t|\n",
      "|  [Callback]ModelSummary.on_before_zero_grad                                                                                                                                                            \t|  4.5708e-06     \t|  24066          \t|  0.11           \t|  0.019819       \t|\n",
      "|  [Callback]EarlyStopping{'monitor': 'val_loss', 'mode': 'min'}.on_before_zero_grad                                                                                                                     \t|  4.5292e-06     \t|  24066          \t|  0.109          \t|  0.019639       \t|\n",
      "|  [Callback]EarlyStopping{'monitor': 'val_loss', 'mode': 'min'}.on_after_backward                                                                                                                       \t|  4.5292e-06     \t|  24066          \t|  0.109          \t|  0.019639       \t|\n",
      "|  [Callback]EarlyStopping{'monitor': 'val_loss', 'mode': 'min'}.on_train_batch_end                                                                                                                      \t|  3.9059e-06     \t|  24066          \t|  0.094          \t|  0.016936       \t|\n",
      "|  [Callback]ModelCheckpoint{'monitor': 'val_loss', 'mode': 'min', 'every_n_train_steps': 0, 'every_n_epochs': 1, 'train_time_interval': None, 'save_on_train_epoch_end': True}.on_train_epoch_end       \t|  0.0054286      \t|  14             \t|  0.076          \t|  0.013693       \t|\n",
      "|  [Callback]EarlyStopping{'monitor': 'val_loss', 'mode': 'min'}.on_before_backward                                                                                                                      \t|  2.5762e-06     \t|  24066          \t|  0.062          \t|  0.011171       \t|\n",
      "|  [Strategy]SingleDeviceStrategy.on_train_batch_start                                                                                                                                                   \t|  1.9945e-06     \t|  24066          \t|  0.048          \t|  0.0086484      \t|\n",
      "|  [Callback]EarlyStopping{'monitor': 'val_loss', 'mode': 'min'}.on_train_batch_start                                                                                                                    \t|  1.953e-06      \t|  24066          \t|  0.047          \t|  0.0084682      \t|\n",
      "|  [Callback]GradientAccumulationScheduler.on_train_batch_end                                                                                                                                            \t|  1.9114e-06     \t|  24066          \t|  0.046          \t|  0.008288       \t|\n",
      "|  [LightningModule]Model.on_before_batch_transfer                                                                                                                                                       \t|  1.1245e-06     \t|  28456          \t|  0.032          \t|  0.0057656      \t|\n",
      "|  [Callback]TQDMProgressBar.on_after_backward                                                                                                                                                           \t|  1.3297e-06     \t|  24066          \t|  0.032          \t|  0.0057656      \t|\n",
      "|  [Callback]ModelCheckpoint{'monitor': 'val_loss', 'mode': 'min', 'every_n_train_steps': 0, 'every_n_epochs': 1, 'train_time_interval': None, 'save_on_train_epoch_end': True}.on_train_batch_start     \t|  1.3297e-06     \t|  24066          \t|  0.032          \t|  0.0057656      \t|\n",
      "|  [LightningModule]Model.on_train_batch_start                                                                                                                                                           \t|  1.3297e-06     \t|  24066          \t|  0.032          \t|  0.0057656      \t|\n",
      "|  [LightningModule]Model.on_before_backward                                                                                                                                                             \t|  1.3297e-06     \t|  24066          \t|  0.032          \t|  0.0057656      \t|\n",
      "|  [Callback]EarlyStopping{'monitor': 'val_loss', 'mode': 'min'}.on_test_batch_end                                                                                                                       \t|  1.4619e-05     \t|  2189           \t|  0.032          \t|  0.0057656      \t|\n",
      "|  [Callback]TQDMProgressBar.on_validation_batch_start                                                                                                                                                   \t|  1.4091e-05     \t|  2200           \t|  0.031          \t|  0.0055854      \t|\n",
      "|  [LightningModule]Model.on_after_batch_transfer                                                                                                                                                        \t|  1.0894e-06     \t|  28456          \t|  0.031          \t|  0.0055854      \t|\n",
      "|  [Callback]GradientAccumulationScheduler.on_before_zero_grad                                                                                                                                           \t|  1.2881e-06     \t|  24066          \t|  0.031          \t|  0.0055854      \t|\n",
      "|  [Callback]ModelCheckpoint{'monitor': 'val_loss', 'mode': 'min', 'every_n_train_steps': 0, 'every_n_epochs': 1, 'train_time_interval': None, 'save_on_train_epoch_end': True}.on_before_zero_grad      \t|  1.2881e-06     \t|  24066          \t|  0.031          \t|  0.0055854      \t|\n",
      "|  [Callback]TQDMProgressBar.on_before_backward                                                                                                                                                          \t|  1.2881e-06     \t|  24066          \t|  0.031          \t|  0.0055854      \t|\n",
      "|  [Callback]GradientAccumulationScheduler.on_before_backward                                                                                                                                            \t|  1.2881e-06     \t|  24066          \t|  0.031          \t|  0.0055854      \t|\n",
      "|  [Callback]ModelCheckpoint{'monitor': 'val_loss', 'mode': 'min', 'every_n_train_steps': 0, 'every_n_epochs': 1, 'train_time_interval': None, 'save_on_train_epoch_end': True}.on_after_backward        \t|  1.2881e-06     \t|  24066          \t|  0.031          \t|  0.0055854      \t|\n",
      "|  [Callback]ModelCheckpoint{'monitor': 'val_loss', 'mode': 'min', 'every_n_train_steps': 0, 'every_n_epochs': 1, 'train_time_interval': None, 'save_on_train_epoch_end': True}.on_before_backward       \t|  1.2466e-06     \t|  24066          \t|  0.03           \t|  0.0054052      \t|\n",
      "|  [Callback]ModelSummary.on_validation_batch_end                                                                                                                                                        \t|  7.2727e-06     \t|  2200           \t|  0.016          \t|  0.0028828      \t|\n",
      "|  [LightningModule]Model.on_before_zero_grad                                                                                                                                                            \t|  6.6484e-07     \t|  24066          \t|  0.016          \t|  0.0028828      \t|\n",
      "|  [LightningModule]Model.on_after_backward                                                                                                                                                              \t|  6.6484e-07     \t|  24066          \t|  0.016          \t|  0.0028828      \t|\n",
      "|  [Callback]ModelSummary.on_before_optimizer_step                                                                                                                                                       \t|  6.6484e-07     \t|  24066          \t|  0.016          \t|  0.0028828      \t|\n",
      "|  [Callback]EarlyStopping{'monitor': 'val_loss', 'mode': 'min'}.on_validation_batch_end                                                                                                                 \t|  7.2727e-06     \t|  2200           \t|  0.016          \t|  0.0028828      \t|\n",
      "|  [Callback]ModelSummary.on_before_backward                                                                                                                                                             \t|  6.6484e-07     \t|  24066          \t|  0.016          \t|  0.0028828      \t|\n",
      "|  [Callback]TQDMProgressBar.on_before_optimizer_step                                                                                                                                                    \t|  6.6484e-07     \t|  24066          \t|  0.016          \t|  0.0028828      \t|\n",
      "|  [Callback]ModelCheckpoint{'monitor': 'val_loss', 'mode': 'min', 'every_n_train_steps': 0, 'every_n_epochs': 1, 'train_time_interval': None, 'save_on_train_epoch_end': True}.on_before_optimizer_step \t|  6.6484e-07     \t|  24066          \t|  0.016          \t|  0.0028828      \t|\n",
      "|  [Callback]TQDMProgressBar.on_train_epoch_start                                                                                                                                                        \t|  0.0010714      \t|  14             \t|  0.015          \t|  0.0027026      \t|\n",
      "|  [Callback]ModelSummary.on_train_batch_start                                                                                                                                                           \t|  6.2329e-07     \t|  24066          \t|  0.015          \t|  0.0027026      \t|\n",
      "|  [Callback]GradientAccumulationScheduler.on_train_batch_start                                                                                                                                          \t|  6.2329e-07     \t|  24066          \t|  0.015          \t|  0.0027026      \t|\n",
      "|  [Strategy]SingleDeviceStrategy.training_step_end                                                                                                                                                      \t|  6.2329e-07     \t|  24066          \t|  0.015          \t|  0.0027026      \t|\n",
      "|  [Callback]TQDMProgressBar.on_before_zero_grad                                                                                                                                                         \t|  6.2329e-07     \t|  24066          \t|  0.015          \t|  0.0027026      \t|\n",
      "|  [Callback]EarlyStopping{'monitor': 'val_loss', 'mode': 'min'}.on_before_optimizer_step                                                                                                                \t|  6.2329e-07     \t|  24066          \t|  0.015          \t|  0.0027026      \t|\n",
      "|  [Callback]TQDMProgressBar.on_test_batch_start                                                                                                                                                         \t|  6.8524e-06     \t|  2189           \t|  0.015          \t|  0.0027026      \t|\n",
      "|  [LightningModule]Model.configure_callbacks                                                                                                                                                            \t|  0.0            \t|  4              \t|  0.0            \t|  0.0            \t|\n",
      "|  [LightningDataModule]MNISTDataModule.prepare_data                                                                                                                                                     \t|  0.0            \t|  4              \t|  0.0            \t|  0.0            \t|\n",
      "|  [LightningModule]Model.prepare_data                                                                                                                                                                   \t|  0.0            \t|  4              \t|  0.0            \t|  0.0            \t|\n",
      "|  [Callback]EarlyStopping{'monitor': 'val_loss', 'mode': 'min'}.setup                                                                                                                                   \t|  0.0            \t|  4              \t|  0.0            \t|  0.0            \t|\n",
      "|  [Callback]TQDMProgressBar.setup                                                                                                                                                                       \t|  0.0            \t|  4              \t|  0.0            \t|  0.0            \t|\n",
      "|  [Callback]ModelSummary.setup                                                                                                                                                                          \t|  0.0            \t|  4              \t|  0.0            \t|  0.0            \t|\n",
      "|  [Callback]GradientAccumulationScheduler.setup                                                                                                                                                         \t|  0.0            \t|  4              \t|  0.0            \t|  0.0            \t|\n",
      "|  [Callback]ModelCheckpoint{'monitor': 'val_loss', 'mode': 'min', 'every_n_train_steps': 0, 'every_n_epochs': 1, 'train_time_interval': None, 'save_on_train_epoch_end': None}.setup                    \t|  0.0            \t|  1              \t|  0.0            \t|  0.0            \t|\n",
      "|  [LightningModule]Model.setup                                                                                                                                                                          \t|  0.0            \t|  4              \t|  0.0            \t|  0.0            \t|\n",
      "|  [LightningModule]Model.configure_sharded_model                                                                                                                                                        \t|  0.0            \t|  4              \t|  0.0            \t|  0.0            \t|\n",
      "|  [LightningModule]Model.configure_optimizers                                                                                                                                                           \t|  0.0            \t|  1              \t|  0.0            \t|  0.0            \t|\n",
      "|  [Callback]EarlyStopping{'monitor': 'val_loss', 'mode': 'min'}.on_fit_start                                                                                                                            \t|  0.0            \t|  1              \t|  0.0            \t|  0.0            \t|\n",
      "|  [Callback]TQDMProgressBar.on_fit_start                                                                                                                                                                \t|  0.0            \t|  1              \t|  0.0            \t|  0.0            \t|\n",
      "|  [Callback]ModelSummary.on_fit_start                                                                                                                                                                   \t|  0.0            \t|  1              \t|  0.0            \t|  0.0            \t|\n",
      "|  [Callback]GradientAccumulationScheduler.on_fit_start                                                                                                                                                  \t|  0.0            \t|  1              \t|  0.0            \t|  0.0            \t|\n",
      "|  [Callback]ModelCheckpoint{'monitor': 'val_loss', 'mode': 'min', 'every_n_train_steps': 0, 'every_n_epochs': 1, 'train_time_interval': None, 'save_on_train_epoch_end': True}.on_fit_start             \t|  0.0            \t|  1              \t|  0.0            \t|  0.0            \t|\n",
      "|  [LightningModule]Model.on_fit_start                                                                                                                                                                   \t|  0.0            \t|  1              \t|  0.0            \t|  0.0            \t|\n",
      "|  [Callback]EarlyStopping{'monitor': 'val_loss', 'mode': 'min'}.on_sanity_check_start                                                                                                                   \t|  0.0            \t|  1              \t|  0.0            \t|  0.0            \t|\n",
      "|  [Callback]TQDMProgressBar.on_sanity_check_start                                                                                                                                                       \t|  0.0            \t|  1              \t|  0.0            \t|  0.0            \t|\n",
      "|  [Callback]ModelSummary.on_sanity_check_start                                                                                                                                                          \t|  0.0            \t|  1              \t|  0.0            \t|  0.0            \t|\n",
      "|  [Callback]GradientAccumulationScheduler.on_sanity_check_start                                                                                                                                         \t|  0.0            \t|  1              \t|  0.0            \t|  0.0            \t|\n",
      "|  [Callback]ModelCheckpoint{'monitor': 'val_loss', 'mode': 'min', 'every_n_train_steps': 0, 'every_n_epochs': 1, 'train_time_interval': None, 'save_on_train_epoch_end': True}.on_sanity_check_start    \t|  0.0            \t|  1              \t|  0.0            \t|  0.0            \t|\n",
      "|  [LightningModule]Model.on_validation_model_eval                                                                                                                                                       \t|  0.0            \t|  15             \t|  0.0            \t|  0.0            \t|\n",
      "|  [Callback]EarlyStopping{'monitor': 'val_loss', 'mode': 'min'}.on_validation_start                                                                                                                     \t|  0.0            \t|  15             \t|  0.0            \t|  0.0            \t|\n",
      "|  [Callback]ModelSummary.on_validation_start                                                                                                                                                            \t|  0.0            \t|  15             \t|  0.0            \t|  0.0            \t|\n",
      "|  [Callback]GradientAccumulationScheduler.on_validation_start                                                                                                                                           \t|  0.0            \t|  15             \t|  0.0            \t|  0.0            \t|\n",
      "|  [Callback]ModelCheckpoint{'monitor': 'val_loss', 'mode': 'min', 'every_n_train_steps': 0, 'every_n_epochs': 1, 'train_time_interval': None, 'save_on_train_epoch_end': True}.on_validation_start      \t|  0.0            \t|  15             \t|  0.0            \t|  0.0            \t|\n",
      "|  [LightningModule]Model.on_validation_start                                                                                                                                                            \t|  0.0            \t|  15             \t|  0.0            \t|  0.0            \t|\n",
      "|  [Strategy]SingleDeviceStrategy.on_validation_start                                                                                                                                                    \t|  0.0            \t|  15             \t|  0.0            \t|  0.0            \t|\n",
      "|  [Callback]EarlyStopping{'monitor': 'val_loss', 'mode': 'min'}.on_validation_epoch_start                                                                                                               \t|  0.0            \t|  15             \t|  0.0            \t|  0.0            \t|\n",
      "|  [Callback]TQDMProgressBar.on_validation_epoch_start                                                                                                                                                   \t|  0.0            \t|  15             \t|  0.0            \t|  0.0            \t|\n",
      "|  [Callback]ModelSummary.on_validation_epoch_start                                                                                                                                                      \t|  0.0            \t|  15             \t|  0.0            \t|  0.0            \t|\n",
      "|  [Callback]GradientAccumulationScheduler.on_validation_epoch_start                                                                                                                                     \t|  0.0            \t|  15             \t|  0.0            \t|  0.0            \t|\n",
      "|  [Callback]ModelCheckpoint{'monitor': 'val_loss', 'mode': 'min', 'every_n_train_steps': 0, 'every_n_epochs': 1, 'train_time_interval': None, 'save_on_train_epoch_end': True}.on_validation_epoch_start\t|  0.0            \t|  15             \t|  0.0            \t|  0.0            \t|\n",
      "|  [LightningModule]Model.on_validation_epoch_start                                                                                                                                                      \t|  0.0            \t|  15             \t|  0.0            \t|  0.0            \t|\n",
      "|  [Callback]EarlyStopping{'monitor': 'val_loss', 'mode': 'min'}.on_validation_batch_start                                                                                                               \t|  0.0            \t|  2200           \t|  0.0            \t|  0.0            \t|\n",
      "|  [Callback]ModelSummary.on_validation_batch_start                                                                                                                                                      \t|  0.0            \t|  2200           \t|  0.0            \t|  0.0            \t|\n",
      "|  [Callback]GradientAccumulationScheduler.on_validation_batch_start                                                                                                                                     \t|  0.0            \t|  2200           \t|  0.0            \t|  0.0            \t|\n",
      "|  [Callback]ModelCheckpoint{'monitor': 'val_loss', 'mode': 'min', 'every_n_train_steps': 0, 'every_n_epochs': 1, 'train_time_interval': None, 'save_on_train_epoch_end': True}.on_validation_batch_start\t|  0.0            \t|  2200           \t|  0.0            \t|  0.0            \t|\n",
      "|  [LightningModule]Model.on_validation_batch_start                                                                                                                                                      \t|  0.0            \t|  2200           \t|  0.0            \t|  0.0            \t|\n",
      "|  [Strategy]SingleDeviceStrategy.validation_step_end                                                                                                                                                    \t|  0.0            \t|  2200           \t|  0.0            \t|  0.0            \t|\n",
      "|  [Callback]GradientAccumulationScheduler.on_validation_batch_end                                                                                                                                       \t|  0.0            \t|  2200           \t|  0.0            \t|  0.0            \t|\n",
      "|  [Callback]ModelCheckpoint{'monitor': 'val_loss', 'mode': 'min', 'every_n_train_steps': 0, 'every_n_epochs': 1, 'train_time_interval': None, 'save_on_train_epoch_end': True}.on_validation_batch_end  \t|  0.0            \t|  2200           \t|  0.0            \t|  0.0            \t|\n",
      "|  [LightningModule]Model.on_validation_batch_end                                                                                                                                                        \t|  0.0            \t|  2200           \t|  0.0            \t|  0.0            \t|\n",
      "|  [LightningModule]Model.validation_epoch_end                                                                                                                                                           \t|  0.0            \t|  15             \t|  0.0            \t|  0.0            \t|\n",
      "|  [Callback]EarlyStopping{'monitor': 'val_loss', 'mode': 'min'}.on_validation_epoch_end                                                                                                                 \t|  0.0            \t|  15             \t|  0.0            \t|  0.0            \t|\n",
      "|  [Callback]TQDMProgressBar.on_validation_epoch_end                                                                                                                                                     \t|  0.0            \t|  15             \t|  0.0            \t|  0.0            \t|\n",
      "|  [Callback]ModelSummary.on_validation_epoch_end                                                                                                                                                        \t|  0.0            \t|  15             \t|  0.0            \t|  0.0            \t|\n",
      "|  [Callback]GradientAccumulationScheduler.on_validation_epoch_end                                                                                                                                       \t|  0.0            \t|  15             \t|  0.0            \t|  0.0            \t|\n",
      "|  [Callback]ModelCheckpoint{'monitor': 'val_loss', 'mode': 'min', 'every_n_train_steps': 0, 'every_n_epochs': 1, 'train_time_interval': None, 'save_on_train_epoch_end': True}.on_validation_epoch_end  \t|  0.0            \t|  15             \t|  0.0            \t|  0.0            \t|\n",
      "|  [LightningModule]Model.on_validation_epoch_end                                                                                                                                                        \t|  0.0            \t|  15             \t|  0.0            \t|  0.0            \t|\n",
      "|  [Callback]EarlyStopping{'monitor': 'val_loss', 'mode': 'min'}.on_validation_end                                                                                                                       \t|  0.0            \t|  15             \t|  0.0            \t|  0.0            \t|\n",
      "|  [Callback]TQDMProgressBar.on_validation_end                                                                                                                                                           \t|  0.0            \t|  15             \t|  0.0            \t|  0.0            \t|\n",
      "|  [Callback]ModelSummary.on_validation_end                                                                                                                                                              \t|  0.0            \t|  15             \t|  0.0            \t|  0.0            \t|\n",
      "|  [Callback]GradientAccumulationScheduler.on_validation_end                                                                                                                                             \t|  0.0            \t|  15             \t|  0.0            \t|  0.0            \t|\n",
      "|  [Callback]ModelCheckpoint{'monitor': 'val_loss', 'mode': 'min', 'every_n_train_steps': 0, 'every_n_epochs': 1, 'train_time_interval': None, 'save_on_train_epoch_end': True}.on_validation_end        \t|  0.0            \t|  15             \t|  0.0            \t|  0.0            \t|\n",
      "|  [LightningModule]Model.on_validation_end                                                                                                                                                              \t|  0.0            \t|  15             \t|  0.0            \t|  0.0            \t|\n",
      "|  [Strategy]SingleDeviceStrategy.on_validation_end                                                                                                                                                      \t|  0.0            \t|  15             \t|  0.0            \t|  0.0            \t|\n",
      "|  [LightningModule]Model.on_validation_model_train                                                                                                                                                      \t|  0.0            \t|  15             \t|  0.0            \t|  0.0            \t|\n",
      "|  [Callback]EarlyStopping{'monitor': 'val_loss', 'mode': 'min'}.on_sanity_check_end                                                                                                                     \t|  0.0            \t|  1              \t|  0.0            \t|  0.0            \t|\n",
      "|  [Callback]TQDMProgressBar.on_sanity_check_end                                                                                                                                                         \t|  0.0            \t|  1              \t|  0.0            \t|  0.0            \t|\n",
      "|  [Callback]ModelSummary.on_sanity_check_end                                                                                                                                                            \t|  0.0            \t|  1              \t|  0.0            \t|  0.0            \t|\n",
      "|  [Callback]GradientAccumulationScheduler.on_sanity_check_end                                                                                                                                           \t|  0.0            \t|  1              \t|  0.0            \t|  0.0            \t|\n",
      "|  [Callback]ModelCheckpoint{'monitor': 'val_loss', 'mode': 'min', 'every_n_train_steps': 0, 'every_n_epochs': 1, 'train_time_interval': None, 'save_on_train_epoch_end': True}.on_sanity_check_end      \t|  0.0            \t|  1              \t|  0.0            \t|  0.0            \t|\n",
      "|  [Callback]EarlyStopping{'monitor': 'val_loss', 'mode': 'min'}.on_train_start                                                                                                                          \t|  0.0            \t|  1              \t|  0.0            \t|  0.0            \t|\n",
      "|  [Callback]TQDMProgressBar.on_train_start                                                                                                                                                              \t|  0.0            \t|  1              \t|  0.0            \t|  0.0            \t|\n",
      "|  [Callback]ModelSummary.on_train_start                                                                                                                                                                 \t|  0.0            \t|  1              \t|  0.0            \t|  0.0            \t|\n",
      "|  [Callback]GradientAccumulationScheduler.on_train_start                                                                                                                                                \t|  0.0            \t|  1              \t|  0.0            \t|  0.0            \t|\n",
      "|  [Callback]ModelCheckpoint{'monitor': 'val_loss', 'mode': 'min', 'every_n_train_steps': 0, 'every_n_epochs': 1, 'train_time_interval': None, 'save_on_train_epoch_end': True}.on_train_start           \t|  0.0            \t|  1              \t|  0.0            \t|  0.0            \t|\n",
      "|  [LightningModule]Model.on_train_start                                                                                                                                                                 \t|  0.0            \t|  1              \t|  0.0            \t|  0.0            \t|\n",
      "|  [Strategy]SingleDeviceStrategy.on_train_start                                                                                                                                                         \t|  0.0            \t|  1              \t|  0.0            \t|  0.0            \t|\n",
      "|  [Callback]EarlyStopping{'monitor': 'val_loss', 'mode': 'min'}.on_train_epoch_start                                                                                                                    \t|  0.0            \t|  14             \t|  0.0            \t|  0.0            \t|\n",
      "|  [Callback]ModelSummary.on_train_epoch_start                                                                                                                                                           \t|  0.0            \t|  14             \t|  0.0            \t|  0.0            \t|\n",
      "|  [Callback]GradientAccumulationScheduler.on_train_epoch_start                                                                                                                                          \t|  0.0            \t|  14             \t|  0.0            \t|  0.0            \t|\n",
      "|  [Callback]ModelCheckpoint{'monitor': 'val_loss', 'mode': 'min', 'every_n_train_steps': 0, 'every_n_epochs': 1, 'train_time_interval': None, 'save_on_train_epoch_end': True}.on_train_epoch_start     \t|  0.0            \t|  14             \t|  0.0            \t|  0.0            \t|\n",
      "|  [LightningModule]Model.on_train_epoch_start                                                                                                                                                           \t|  0.0            \t|  14             \t|  0.0            \t|  0.0            \t|\n",
      "|  [Callback]TQDMProgressBar.on_train_batch_start                                                                                                                                                        \t|  0.0            \t|  24066          \t|  0.0            \t|  0.0            \t|\n",
      "|  [Callback]ModelSummary.on_after_backward                                                                                                                                                              \t|  0.0            \t|  24066          \t|  0.0            \t|  0.0            \t|\n",
      "|  [Callback]GradientAccumulationScheduler.on_after_backward                                                                                                                                             \t|  0.0            \t|  24066          \t|  0.0            \t|  0.0            \t|\n",
      "|  [Callback]GradientAccumulationScheduler.on_before_optimizer_step                                                                                                                                      \t|  0.0            \t|  24066          \t|  0.0            \t|  0.0            \t|\n",
      "|  [LightningModule]Model.on_before_optimizer_step                                                                                                                                                       \t|  0.0            \t|  24066          \t|  0.0            \t|  0.0            \t|\n",
      "|  [LightningModule]Model.on_train_batch_end                                                                                                                                                             \t|  0.0            \t|  24066          \t|  0.0            \t|  0.0            \t|\n",
      "|  [Callback]EarlyStopping{'monitor': 'val_loss', 'mode': 'min'}.on_train_epoch_end                                                                                                                      \t|  0.0            \t|  14             \t|  0.0            \t|  0.0            \t|\n",
      "|  [Callback]TQDMProgressBar.on_train_epoch_end                                                                                                                                                          \t|  0.0            \t|  14             \t|  0.0            \t|  0.0            \t|\n",
      "|  [Callback]ModelSummary.on_train_epoch_end                                                                                                                                                             \t|  0.0            \t|  14             \t|  0.0            \t|  0.0            \t|\n",
      "|  [Callback]GradientAccumulationScheduler.on_train_epoch_end                                                                                                                                            \t|  0.0            \t|  14             \t|  0.0            \t|  0.0            \t|\n",
      "|  [LightningDataModule]MNISTDataModule.state_dict                                                                                                                                                       \t|  0.0            \t|  8              \t|  0.0            \t|  0.0            \t|\n",
      "|  [Callback]EarlyStopping{'monitor': 'val_loss', 'mode': 'min'}.on_save_checkpoint                                                                                                                      \t|  0.0            \t|  8              \t|  0.0            \t|  0.0            \t|\n",
      "|  [Callback]TQDMProgressBar.on_save_checkpoint                                                                                                                                                          \t|  0.0            \t|  8              \t|  0.0            \t|  0.0            \t|\n",
      "|  [Callback]ModelSummary.on_save_checkpoint                                                                                                                                                             \t|  0.0            \t|  8              \t|  0.0            \t|  0.0            \t|\n",
      "|  [Callback]GradientAccumulationScheduler.on_save_checkpoint                                                                                                                                            \t|  0.0            \t|  8              \t|  0.0            \t|  0.0            \t|\n",
      "|  [Callback]ModelCheckpoint{'monitor': 'val_loss', 'mode': 'min', 'every_n_train_steps': 0, 'every_n_epochs': 1, 'train_time_interval': None, 'save_on_train_epoch_end': True}.on_save_checkpoint       \t|  0.0            \t|  8              \t|  0.0            \t|  0.0            \t|\n",
      "|  [LightningModule]Model.on_save_checkpoint                                                                                                                                                             \t|  0.0            \t|  8              \t|  0.0            \t|  0.0            \t|\n",
      "|  [LightningModule]Model.on_train_epoch_end                                                                                                                                                             \t|  0.0            \t|  14             \t|  0.0            \t|  0.0            \t|\n",
      "|  [Callback]EarlyStopping{'monitor': 'val_loss', 'mode': 'min'}.on_train_end                                                                                                                            \t|  0.0            \t|  1              \t|  0.0            \t|  0.0            \t|\n",
      "|  [Callback]TQDMProgressBar.on_train_end                                                                                                                                                                \t|  0.0            \t|  1              \t|  0.0            \t|  0.0            \t|\n",
      "|  [Callback]ModelSummary.on_train_end                                                                                                                                                                   \t|  0.0            \t|  1              \t|  0.0            \t|  0.0            \t|\n",
      "|  [Callback]GradientAccumulationScheduler.on_train_end                                                                                                                                                  \t|  0.0            \t|  1              \t|  0.0            \t|  0.0            \t|\n",
      "|  [Callback]ModelCheckpoint{'monitor': 'val_loss', 'mode': 'min', 'every_n_train_steps': 0, 'every_n_epochs': 1, 'train_time_interval': None, 'save_on_train_epoch_end': True}.on_train_end             \t|  0.0            \t|  1              \t|  0.0            \t|  0.0            \t|\n",
      "|  [LightningModule]Model.on_train_end                                                                                                                                                                   \t|  0.0            \t|  1              \t|  0.0            \t|  0.0            \t|\n",
      "|  [Strategy]SingleDeviceStrategy.on_train_end                                                                                                                                                           \t|  0.0            \t|  1              \t|  0.0            \t|  0.0            \t|\n",
      "|  [Callback]EarlyStopping{'monitor': 'val_loss', 'mode': 'min'}.on_fit_end                                                                                                                              \t|  0.0            \t|  1              \t|  0.0            \t|  0.0            \t|\n",
      "|  [Callback]TQDMProgressBar.on_fit_end                                                                                                                                                                  \t|  0.0            \t|  1              \t|  0.0            \t|  0.0            \t|\n",
      "|  [Callback]ModelSummary.on_fit_end                                                                                                                                                                     \t|  0.0            \t|  1              \t|  0.0            \t|  0.0            \t|\n",
      "|  [Callback]GradientAccumulationScheduler.on_fit_end                                                                                                                                                    \t|  0.0            \t|  1              \t|  0.0            \t|  0.0            \t|\n",
      "|  [Callback]ModelCheckpoint{'monitor': 'val_loss', 'mode': 'min', 'every_n_train_steps': 0, 'every_n_epochs': 1, 'train_time_interval': None, 'save_on_train_epoch_end': True}.on_fit_end               \t|  0.0            \t|  1              \t|  0.0            \t|  0.0            \t|\n",
      "|  [LightningModule]Model.on_fit_end                                                                                                                                                                     \t|  0.0            \t|  1              \t|  0.0            \t|  0.0            \t|\n",
      "|  [LightningDataModule]MNISTDataModule.teardown                                                                                                                                                         \t|  0.0            \t|  4              \t|  0.0            \t|  0.0            \t|\n",
      "|  [Callback]EarlyStopping{'monitor': 'val_loss', 'mode': 'min'}.teardown                                                                                                                                \t|  0.0            \t|  4              \t|  0.0            \t|  0.0            \t|\n",
      "|  [Callback]TQDMProgressBar.teardown                                                                                                                                                                    \t|  0.0            \t|  4              \t|  0.0            \t|  0.0            \t|\n",
      "|  [Callback]ModelSummary.teardown                                                                                                                                                                       \t|  0.0            \t|  4              \t|  0.0            \t|  0.0            \t|\n",
      "|  [Callback]GradientAccumulationScheduler.teardown                                                                                                                                                      \t|  0.0            \t|  4              \t|  0.0            \t|  0.0            \t|\n",
      "|  [Callback]ModelCheckpoint{'monitor': 'val_loss', 'mode': 'min', 'every_n_train_steps': 0, 'every_n_epochs': 1, 'train_time_interval': None, 'save_on_train_epoch_end': True}.teardown                 \t|  0.0            \t|  4              \t|  0.0            \t|  0.0            \t|\n",
      "|  [LightningModule]Model.teardown                                                                                                                                                                       \t|  0.0            \t|  4              \t|  0.0            \t|  0.0            \t|\n",
      "|  [Callback]ModelCheckpoint{'monitor': 'val_loss', 'mode': 'min', 'every_n_train_steps': 0, 'every_n_epochs': 1, 'train_time_interval': None, 'save_on_train_epoch_end': True}.setup                    \t|  0.0            \t|  3              \t|  0.0            \t|  0.0            \t|\n",
      "|  [LightningModule]Model.on_load_checkpoint                                                                                                                                                             \t|  0.0            \t|  3              \t|  0.0            \t|  0.0            \t|\n",
      "|  [LightningModule]Model.on_test_model_eval                                                                                                                                                             \t|  0.0            \t|  3              \t|  0.0            \t|  0.0            \t|\n",
      "|  [Callback]EarlyStopping{'monitor': 'val_loss', 'mode': 'min'}.on_test_start                                                                                                                           \t|  0.0            \t|  3              \t|  0.0            \t|  0.0            \t|\n",
      "|  [Callback]TQDMProgressBar.on_test_start                                                                                                                                                               \t|  0.0            \t|  3              \t|  0.0            \t|  0.0            \t|\n",
      "|  [Callback]ModelSummary.on_test_start                                                                                                                                                                  \t|  0.0            \t|  3              \t|  0.0            \t|  0.0            \t|\n",
      "|  [Callback]GradientAccumulationScheduler.on_test_start                                                                                                                                                 \t|  0.0            \t|  3              \t|  0.0            \t|  0.0            \t|\n",
      "|  [Callback]ModelCheckpoint{'monitor': 'val_loss', 'mode': 'min', 'every_n_train_steps': 0, 'every_n_epochs': 1, 'train_time_interval': None, 'save_on_train_epoch_end': True}.on_test_start            \t|  0.0            \t|  3              \t|  0.0            \t|  0.0            \t|\n",
      "|  [LightningModule]Model.on_test_start                                                                                                                                                                  \t|  0.0            \t|  3              \t|  0.0            \t|  0.0            \t|\n",
      "|  [Strategy]SingleDeviceStrategy.on_test_start                                                                                                                                                          \t|  0.0            \t|  3              \t|  0.0            \t|  0.0            \t|\n",
      "|  [Callback]EarlyStopping{'monitor': 'val_loss', 'mode': 'min'}.on_test_epoch_start                                                                                                                     \t|  0.0            \t|  3              \t|  0.0            \t|  0.0            \t|\n",
      "|  [Callback]TQDMProgressBar.on_test_epoch_start                                                                                                                                                         \t|  0.0            \t|  3              \t|  0.0            \t|  0.0            \t|\n",
      "|  [Callback]ModelSummary.on_test_epoch_start                                                                                                                                                            \t|  0.0            \t|  3              \t|  0.0            \t|  0.0            \t|\n",
      "|  [Callback]GradientAccumulationScheduler.on_test_epoch_start                                                                                                                                           \t|  0.0            \t|  3              \t|  0.0            \t|  0.0            \t|\n",
      "|  [Callback]ModelCheckpoint{'monitor': 'val_loss', 'mode': 'min', 'every_n_train_steps': 0, 'every_n_epochs': 1, 'train_time_interval': None, 'save_on_train_epoch_end': True}.on_test_epoch_start      \t|  0.0            \t|  3              \t|  0.0            \t|  0.0            \t|\n",
      "|  [LightningModule]Model.on_test_epoch_start                                                                                                                                                            \t|  0.0            \t|  3              \t|  0.0            \t|  0.0            \t|\n",
      "|  [Callback]EarlyStopping{'monitor': 'val_loss', 'mode': 'min'}.on_test_batch_start                                                                                                                     \t|  0.0            \t|  2189           \t|  0.0            \t|  0.0            \t|\n",
      "|  [Callback]ModelSummary.on_test_batch_start                                                                                                                                                            \t|  0.0            \t|  2189           \t|  0.0            \t|  0.0            \t|\n",
      "|  [Callback]GradientAccumulationScheduler.on_test_batch_start                                                                                                                                           \t|  0.0            \t|  2189           \t|  0.0            \t|  0.0            \t|\n",
      "|  [Callback]ModelCheckpoint{'monitor': 'val_loss', 'mode': 'min', 'every_n_train_steps': 0, 'every_n_epochs': 1, 'train_time_interval': None, 'save_on_train_epoch_end': True}.on_test_batch_start      \t|  0.0            \t|  2189           \t|  0.0            \t|  0.0            \t|\n",
      "|  [LightningModule]Model.on_test_batch_start                                                                                                                                                            \t|  0.0            \t|  2189           \t|  0.0            \t|  0.0            \t|\n",
      "|  [Strategy]SingleDeviceStrategy.test_step_end                                                                                                                                                          \t|  0.0            \t|  2189           \t|  0.0            \t|  0.0            \t|\n",
      "|  [Callback]ModelSummary.on_test_batch_end                                                                                                                                                              \t|  0.0            \t|  2189           \t|  0.0            \t|  0.0            \t|\n",
      "|  [Callback]GradientAccumulationScheduler.on_test_batch_end                                                                                                                                             \t|  0.0            \t|  2189           \t|  0.0            \t|  0.0            \t|\n",
      "|  [Callback]ModelCheckpoint{'monitor': 'val_loss', 'mode': 'min', 'every_n_train_steps': 0, 'every_n_epochs': 1, 'train_time_interval': None, 'save_on_train_epoch_end': True}.on_test_batch_end        \t|  0.0            \t|  2189           \t|  0.0            \t|  0.0            \t|\n",
      "|  [LightningModule]Model.on_test_batch_end                                                                                                                                                              \t|  0.0            \t|  2189           \t|  0.0            \t|  0.0            \t|\n",
      "|  [LightningModule]Model.test_epoch_end                                                                                                                                                                 \t|  0.0            \t|  3              \t|  0.0            \t|  0.0            \t|\n",
      "|  [Callback]EarlyStopping{'monitor': 'val_loss', 'mode': 'min'}.on_test_epoch_end                                                                                                                       \t|  0.0            \t|  3              \t|  0.0            \t|  0.0            \t|\n",
      "|  [Callback]TQDMProgressBar.on_test_epoch_end                                                                                                                                                           \t|  0.0            \t|  3              \t|  0.0            \t|  0.0            \t|\n",
      "|  [Callback]ModelSummary.on_test_epoch_end                                                                                                                                                              \t|  0.0            \t|  3              \t|  0.0            \t|  0.0            \t|\n",
      "|  [Callback]GradientAccumulationScheduler.on_test_epoch_end                                                                                                                                             \t|  0.0            \t|  3              \t|  0.0            \t|  0.0            \t|\n",
      "|  [Callback]ModelCheckpoint{'monitor': 'val_loss', 'mode': 'min', 'every_n_train_steps': 0, 'every_n_epochs': 1, 'train_time_interval': None, 'save_on_train_epoch_end': True}.on_test_epoch_end        \t|  0.0            \t|  3              \t|  0.0            \t|  0.0            \t|\n",
      "|  [LightningModule]Model.on_test_epoch_end                                                                                                                                                              \t|  0.0            \t|  3              \t|  0.0            \t|  0.0            \t|\n",
      "|  [Callback]EarlyStopping{'monitor': 'val_loss', 'mode': 'min'}.on_test_end                                                                                                                             \t|  0.0            \t|  3              \t|  0.0            \t|  0.0            \t|\n",
      "|  [Callback]TQDMProgressBar.on_test_end                                                                                                                                                                 \t|  0.0            \t|  3              \t|  0.0            \t|  0.0            \t|\n",
      "|  [Callback]ModelSummary.on_test_end                                                                                                                                                                    \t|  0.0            \t|  3              \t|  0.0            \t|  0.0            \t|\n",
      "|  [Callback]GradientAccumulationScheduler.on_test_end                                                                                                                                                   \t|  0.0            \t|  3              \t|  0.0            \t|  0.0            \t|\n",
      "|  [Callback]ModelCheckpoint{'monitor': 'val_loss', 'mode': 'min', 'every_n_train_steps': 0, 'every_n_epochs': 1, 'train_time_interval': None, 'save_on_train_epoch_end': True}.on_test_end              \t|  0.0            \t|  3              \t|  0.0            \t|  0.0            \t|\n",
      "|  [LightningModule]Model.on_test_end                                                                                                                                                                    \t|  0.0            \t|  3              \t|  0.0            \t|  0.0            \t|\n",
      "|  [Strategy]SingleDeviceStrategy.on_test_end                                                                                                                                                            \t|  0.0            \t|  3              \t|  0.0            \t|  0.0            \t|\n",
      "|  [LightningModule]Model.on_test_model_train                                                                                                                                                            \t|  0.0            \t|  3              \t|  0.0            \t|  0.0            \t|\n",
      "-------------------------------------------------------------------------------------------------------------------------------------------------------------------------------------------------------------------------------------------------------------------------------------------------------------------\n",
      "\n"
     ]
    }
   ],
   "source": [
    "result = trainer.test(model,data_mnist.test_dataloader(),ckpt_path='best')"
   ]
  },
  {
   "cell_type": "markdown",
   "id": "c48b956b",
   "metadata": {},
   "source": [
    "```\n",
    "--------------------------------------------------------------------------------\n",
    "DATALOADER:0 TEST RESULTS\n",
    "{'test_acc': 0.987500011920929, 'test_loss': 0.047178059816360474}\n",
    "--------------------------------------------------------------------------------\n",
    "```"
   ]
  },
  {
   "cell_type": "markdown",
   "id": "33518228",
   "metadata": {},
   "source": [
    "### 5，使用模型"
   ]
  },
  {
   "cell_type": "code",
   "execution_count": 12,
   "id": "41390bb6",
   "metadata": {},
   "outputs": [
    {
     "name": "stdout",
     "output_type": "stream",
     "text": [
      "tensor([[-1.1066e+01, -3.2088e+00, -6.1750e+00, -5.3203e+00, -8.5969e+00,\n",
      "         -5.3200e+00, -1.6409e+01,  1.3731e+01, -1.1502e+01, -2.1864e+00],\n",
      "        [-6.4938e+00, -3.7286e+00,  1.4160e+01, -7.1174e+00, -1.0602e+01,\n",
      "         -7.6998e+00, -6.4576e+00, -3.9680e+00, -4.7356e+00, -7.3519e+00],\n",
      "        [-6.0765e+00,  9.1102e+00, -6.9824e+00, -1.5205e+01, -8.8641e+00,\n",
      "         -7.4166e+00, -9.2333e+00, -4.2780e+00, -6.7124e+00, -9.2595e+00],\n",
      "        [ 1.5829e+01, -8.6077e+00,  9.8918e-01, -1.5197e+01, -9.5013e+00,\n",
      "         -4.3609e+00,  2.6296e+00, -1.6961e+01, -2.5135e+00, -4.7849e+00],\n",
      "        [-5.8064e+00, -1.9845e+00, -6.2248e+00, -1.0611e+01,  1.2601e+01,\n",
      "         -6.0645e+00, -6.0212e+00, -3.7268e-01, -3.8580e+00,  4.8751e+00],\n",
      "        [-5.6626e+00,  1.0782e+01, -8.6945e+00, -1.8170e+01, -8.3498e+00,\n",
      "         -8.8121e+00, -1.1713e+01, -3.5915e+00, -5.6880e+00, -9.2314e+00],\n",
      "        [-7.1541e+00, -3.5198e+00, -9.0426e+00, -5.4341e+00,  1.1888e+01,\n",
      "         -1.9795e+00, -6.9760e+00, -3.5577e+00, -2.8514e-01,  5.1099e+00],\n",
      "        [-3.2884e+00, -7.3601e+00, -4.2707e+00,  4.6947e-02, -4.4225e+00,\n",
      "          2.8051e+00, -8.6753e+00, -4.3871e+00,  2.5204e-01,  7.4351e+00],\n",
      "        [-3.5807e+00, -9.6270e+00, -5.3324e+00, -8.0337e+00, -3.9705e+00,\n",
      "          5.8306e+00,  2.9060e+00, -9.4670e+00,  7.3959e-01, -3.4565e+00],\n",
      "        [-6.6710e+00, -7.4779e+00, -9.3188e+00, -7.2496e+00,  3.1405e+00,\n",
      "         -4.5794e+00, -1.5407e+01,  2.5428e+00,  1.3880e+00,  1.6165e+01],\n",
      "        [ 1.4001e+01, -9.8775e+00, -9.6772e-01, -1.4622e+01, -8.8058e+00,\n",
      "         -1.6182e+00,  1.1686e+00, -1.3814e+01, -6.6471e-02, -4.4906e+00],\n",
      "        [ 1.8796e+00, -1.6923e+01, -3.2758e+00, -1.6376e+01, -1.0363e+01,\n",
      "         -3.9932e+00,  1.7617e+01, -2.4406e+01,  9.0246e-01, -5.8554e+00],\n",
      "        [-9.5117e+00, -1.0363e+01, -7.3519e+00, -7.2599e+00,  3.8197e+00,\n",
      "         -2.8473e+00, -1.4660e+01,  1.0394e+00,  1.1129e+00,  1.5435e+01],\n",
      "        [ 1.5828e+01, -6.9380e+00, -3.2376e+00, -1.1578e+01, -7.8925e+00,\n",
      "         -4.1246e+00, -4.2834e+00, -1.0792e+01, -2.0332e+00, -1.0231e-01],\n",
      "        [-6.4305e+00,  8.1158e+00, -6.3490e+00, -6.1264e+00, -9.8812e+00,\n",
      "         -4.7460e+00, -8.5300e+00, -3.8569e+00, -6.0408e+00, -1.0382e+01],\n",
      "        [-7.8818e+00, -3.2724e+00, -7.5162e+00, -1.4374e+00, -1.6395e+01,\n",
      "          1.2394e+01, -4.8414e+00, -5.1123e+00, -6.1683e+00, -7.4571e+00],\n",
      "        [-2.9544e+00, -6.2645e+00, -9.7377e+00, -8.4074e+00,  2.7031e+00,\n",
      "         -5.6494e+00, -1.5259e+01,  2.6105e+00, -3.8289e-01,  1.6720e+01],\n",
      "        [-9.7049e+00, -4.7100e+00, -5.2966e+00, -4.6015e+00, -9.9815e+00,\n",
      "         -6.3023e+00, -1.5171e+01,  1.1177e+01, -1.5085e+01, -4.9476e+00],\n",
      "        [-6.7812e+00, -8.9144e+00, -3.4697e+00,  5.4302e+00, -1.3372e+01,\n",
      "         -2.0632e+00, -4.5294e+00, -7.8365e+00,  1.7214e+00, -3.7730e+00],\n",
      "        [-1.0526e+01,  1.3925e+00, -5.6978e+00, -8.7953e+00,  1.5156e+01,\n",
      "         -3.9443e+00, -6.4858e+00, -3.4556e+00, -4.2585e+00, -9.0864e-03],\n",
      "        [-1.0805e+01, -4.5079e+00, -1.0891e+00, -2.2930e+00, -1.8728e+00,\n",
      "         -2.7981e+00, -2.0852e+01,  5.6809e+00, -3.6863e+00,  1.0314e+01],\n",
      "        [-2.9192e+00, -1.1436e+01, -5.2267e+00, -1.2835e+01, -1.1619e+01,\n",
      "          1.8339e+00,  1.4747e+01, -1.8897e+01,  2.3127e+00, -8.0264e+00],\n",
      "        [ 1.2175e+00, -1.0582e+01, -4.6263e+00, -1.6318e+01, -1.8774e+00,\n",
      "         -8.7682e+00,  1.1566e+01, -1.1833e+01, -6.9296e+00, -2.2708e+00],\n",
      "        [-1.2727e+01, -8.0346e+00, -9.6130e+00, -1.6329e+00, -1.8234e+01,\n",
      "          1.5494e+01, -5.9752e+00, -1.1690e+01, -2.2702e+00, -4.2563e+00],\n",
      "        [-3.8254e+00, -1.8876e+00, -5.2012e+00, -1.0901e+01,  1.0715e+01,\n",
      "         -5.6109e+00, -3.2911e+00,  4.5947e-01, -3.6081e+00,  3.3848e+00],\n",
      "        [ 1.6514e+01, -1.1562e+01, -4.4087e+00, -1.9001e+01, -6.5641e+00,\n",
      "         -1.2782e+01,  2.4676e+00, -1.4011e+01, -3.9764e+00, -1.6934e+00],\n",
      "        [-9.0706e+00, -4.7751e+00, -2.8463e+00, -1.5198e+00, -1.1911e+01,\n",
      "         -1.1143e+00, -1.5415e+01,  1.0364e+01, -1.3220e+01, -2.9332e+00],\n",
      "        [-7.2751e+00, -1.8469e+00, -6.0537e+00, -1.0843e+01,  1.3805e+01,\n",
      "         -5.0396e+00, -7.7743e+00,  1.6662e+00, -5.1662e+00,  3.3532e+00],\n",
      "        [ 1.6062e+01, -3.9689e+00, -2.8331e+00, -6.9013e+00, -8.3370e+00,\n",
      "         -4.0500e+00, -1.8217e+00, -1.7793e+01, -5.3968e-01, -6.9068e+00],\n",
      "        [-7.9428e+00,  8.0647e+00, -6.4770e+00, -8.9062e+00, -4.9654e+00,\n",
      "         -7.6195e+00, -1.1068e+01, -2.4666e+00, -3.4192e+00, -5.9420e+00],\n",
      "        [-2.1624e+01, -1.0311e+01, -4.0385e+00,  1.6462e+01, -1.5307e+01,\n",
      "         -4.7409e+00, -1.8748e+01, -4.4482e+00, -3.5237e+00, -4.6351e+00],\n",
      "        [-7.5551e+00,  8.6563e+00, -1.1005e+01, -1.2455e+01, -7.1700e+00,\n",
      "         -8.1024e+00, -1.4458e+01, -1.8229e+00, -3.7466e+00, -3.1876e+00]],\n",
      "       grad_fn=<AddmmBackward0>)\n"
     ]
    }
   ],
   "source": [
    "data,label = next(iter(data_mnist.test_dataloader()))\n",
    "model.eval()\n",
    "prediction = model(data)\n",
    "print(prediction)\n"
   ]
  },
  {
   "cell_type": "markdown",
   "id": "763bbd77",
   "metadata": {},
   "source": [
    "```\n",
    "tensor([[-13.0112,  -2.8257,  -1.8588,  -3.6137,  -0.3307,  -5.4953, -19.7282,\n",
    "          15.9651,  -8.0379,  -2.2925],\n",
    "        [ -6.0261,  -2.5480,  13.4140,  -5.5701, -10.2049,  -6.4469,  -3.7119,\n",
    "          -6.0732,  -6.0826,  -7.7339],\n",
    "          ...\n",
    "        [-16.7028,  -4.9060,   0.4400,  24.4337, -12.8793,   1.5085, -17.9232,\n",
    "          -3.0839,   0.5491,   1.9846],\n",
    "        [ -5.0909,  10.1805,  -8.2528,  -9.2240,  -1.8044,  -4.0296,  -8.2297,\n",
    "          -3.1828,  -5.9361,  -4.8410]], grad_fn=<AddmmBackward0>)\n",
    "```"
   ]
  },
  {
   "cell_type": "markdown",
   "id": "baf56e5d",
   "metadata": {},
   "source": [
    "### 6，保存模型"
   ]
  },
  {
   "cell_type": "markdown",
   "id": "4b28f47d",
   "metadata": {},
   "source": [
    "最优模型默认保存在 trainer.checkpoint_callback.best_model_path 的目录下，可以直接加载。"
   ]
  },
  {
   "cell_type": "code",
   "execution_count": 13,
   "id": "9530ca81",
   "metadata": {},
   "outputs": [
    {
     "name": "stdout",
     "output_type": "stream",
     "text": [
      "D:\\GoogleDownLoads\\PythonAiRoad\\lightning_logs\\version_7\\checkpoints\\epoch=10-step=18909.ckpt\n",
      "tensor(0.0457)\n"
     ]
    }
   ],
   "source": [
    "print(trainer.checkpoint_callback.best_model_path)\n",
    "print(trainer.checkpoint_callback.best_model_score)"
   ]
  },
  {
   "cell_type": "markdown",
   "id": "453dfb18",
   "metadata": {},
   "source": [
    "```\n",
    "lightning_logs/version_10/checkpoints/epoch=8-step=15470.ckpt\n",
    "tensor(0.0376, device='cuda:0')\n",
    "```"
   ]
  },
  {
   "cell_type": "code",
   "execution_count": 15,
   "id": "ac0969d6",
   "metadata": {},
   "outputs": [
    {
     "name": "stderr",
     "output_type": "stream",
     "text": [
      "GPU available: True (cuda), used: True\n",
      "TPU available: False, using: 0 TPU cores\n",
      "IPU available: False, using: 0 IPUs\n",
      "HPU available: False, using: 0 HPUs\n",
      "LOCAL_RANK: 0 - CUDA_VISIBLE_DEVICES: [0]\n"
     ]
    },
    {
     "data": {
      "application/vnd.jupyter.widget-view+json": {
       "model_id": "dcb6de17de7e478fae3da4747d9844ba",
       "version_major": 2,
       "version_minor": 0
      },
      "text/plain": [
       "Testing: 0it [00:00, ?it/s]"
      ]
     },
     "metadata": {},
     "output_type": "display_data"
    },
    {
     "name": "stdout",
     "output_type": "stream",
     "text": [
      "─────────────────────────────────────────────────────────────────────────────────────────────────────────────────────────────────────────────────────\n",
      "       Test metric             DataLoader 0\n",
      "─────────────────────────────────────────────────────────────────────────────────────────────────────────────────────────────────────────────────────\n",
      "        test_acc            0.9593914151191711\n",
      "        test_loss           0.04799170419573784\n",
      "─────────────────────────────────────────────────────────────────────────────────────────────────────────────────────────────────────────────────────\n",
      "[{'test_acc': 0.9593914151191711, 'test_loss': 0.04799170419573784}]\n"
     ]
    }
   ],
   "source": [
    "model_clone = Model.load_from_checkpoint(trainer.checkpoint_callback.best_model_path)\n",
    "trainer_clone = pl.Trainer(max_epochs=3,gpus=1) \n",
    "result = trainer_clone.test(model_clone,data_mnist.test_dataloader())\n",
    "print(result)\n"
   ]
  },
  {
   "cell_type": "markdown",
   "id": "b47eff3d",
   "metadata": {},
   "source": [
    "```\n",
    "--------------------------------------------------------------------------------\n",
    "DATALOADER:0 TEST RESULTS\n",
    "{'test_acc': 0.9887999892234802, 'test_loss': 0.03627564385533333}\n",
    "--------------------------------------------------------------------------------\n",
    "[{'test_acc': 0.9887999892234802, 'test_loss': 0.03627564385533333}]\n",
    "```"
   ]
  },
  {
   "cell_type": "code",
   "execution_count": null,
   "id": "5fb65bc3",
   "metadata": {},
   "outputs": [],
   "source": []
  },
  {
   "cell_type": "markdown",
   "id": "fb6e1ead",
   "metadata": {},
   "source": [
    "## 三，训练加速技巧"
   ]
  },
  {
   "cell_type": "markdown",
   "id": "20affb65",
   "metadata": {},
   "source": [
    "下面重点介绍pytorch_lightning 模型训练加速的一些技巧。\n",
    "\n",
    "* 1，使用多进程读取数据(num_workers=4)\n",
    "\n",
    "* 2，使用锁业内存(pin_memory=True)\n",
    "\n",
    "* 3，使用加速器(gpus=4,strategy=\"ddp_find_unused_parameters_false\")\n",
    "\n",
    "* 4，使用梯度累加(accumulate_grad_batches=6)\n",
    "\n",
    "* 5，使用半精度(precision=16,batch_size=`2*batch_size`)\n",
    "\n",
    "* 6，自动搜索最大batch_size(auto_scale_batch_size='binsearch') \n",
    "\n",
    "（注：过大的batch_size对模型学习是有害的。）\n",
    "\n",
    "详细原理，可以参考：\n",
    "\n",
    "https://pytorch-lightning.readthedocs.io/en/latest/common/trainer.html\n",
    "\n",
    "我们将训练代码封装成如下脚本形式，方便后面测试使用。\n"
   ]
  },
  {
   "cell_type": "code",
   "execution_count": 16,
   "id": "3921bcbe",
   "metadata": {},
   "outputs": [
    {
     "name": "stdout",
     "output_type": "stream",
     "text": [
      "Overwriting mnist_cnn.py\n"
     ]
    }
   ],
   "source": [
    "%%writefile mnist_cnn.py\n",
    "import torch \n",
    "from torch import nn \n",
    "from argparse import ArgumentParser\n",
    "\n",
    "import torchvision \n",
    "from torchvision import transforms as T\n",
    "from torchvision.datasets import MNIST\n",
    "from torch.utils.data import DataLoader,random_split\n",
    "import pytorch_lightning as pl\n",
    "from torchmetrics import Accuracy\n",
    "\n",
    "#================================================================================\n",
    "# 一，准备数据\n",
    "#================================================================================\n",
    "\n",
    "class MNISTDataModule(pl.LightningDataModule):\n",
    "    def __init__(self, data_dir: str = \"./minist/\", \n",
    "                 batch_size: int = 32,\n",
    "                 num_workers: int =4,\n",
    "                 pin_memory:bool =True):\n",
    "        super().__init__()\n",
    "        self.data_dir = data_dir\n",
    "        self.batch_size = batch_size\n",
    "        self.num_workers = num_workers\n",
    "        self.pin_memory = pin_memory\n",
    "\n",
    "    def setup(self, stage = None):\n",
    "        transform = T.Compose([T.ToTensor()])\n",
    "        self.ds_test = MNIST(self.data_dir, download=True,train=False,transform=transform)\n",
    "        self.ds_predict = MNIST(self.data_dir, download=True, train=False,transform=transform)\n",
    "        ds_full = MNIST(self.data_dir, download=True, train=True,transform=transform)\n",
    "        self.ds_train, self.ds_val = random_split(ds_full, [55000, 5000])\n",
    "\n",
    "    def train_dataloader(self):\n",
    "        return DataLoader(self.ds_train, batch_size=self.batch_size,\n",
    "                          shuffle=True, num_workers=self.num_workers,\n",
    "                          pin_memory=self.pin_memory)\n",
    "\n",
    "    def val_dataloader(self):\n",
    "        return DataLoader(self.ds_val, batch_size=self.batch_size,\n",
    "                          shuffle=False, num_workers=self.num_workers,\n",
    "                          pin_memory=self.pin_memory)\n",
    "\n",
    "    def test_dataloader(self):\n",
    "        return DataLoader(self.ds_test, batch_size=self.batch_size,\n",
    "                          shuffle=False, num_workers=self.num_workers,\n",
    "                          pin_memory=self.pin_memory)\n",
    "\n",
    "    def predict_dataloader(self):\n",
    "        return DataLoader(self.ds_predict, batch_size=self.batch_size,\n",
    "                          shuffle=False, num_workers=self.num_workers,\n",
    "                          pin_memory=self.pin_memory)\n",
    "    \n",
    "    @staticmethod\n",
    "    def add_dataset_args(parent_parser):\n",
    "        parser = ArgumentParser(parents=[parent_parser], add_help=False)\n",
    "        parser.add_argument('--batch_size', type=int, default=32)\n",
    "        parser.add_argument('--num_workers', type=int, default=4)\n",
    "        parser.add_argument('--pin_memory', type=bool, default=True)\n",
    "        return parser\n",
    "\n",
    "#================================================================================\n",
    "# 二，定义模型\n",
    "#================================================================================\n",
    "\n",
    "net = nn.Sequential(\n",
    "    nn.Conv2d(in_channels=1,out_channels=32,kernel_size = 3),\n",
    "    nn.MaxPool2d(kernel_size = 2,stride = 2),\n",
    "    nn.Conv2d(in_channels=32,out_channels=64,kernel_size = 5),\n",
    "    nn.MaxPool2d(kernel_size = 2,stride = 2),\n",
    "    nn.Dropout2d(p = 0.1),\n",
    "    nn.AdaptiveMaxPool2d((1,1)),\n",
    "    nn.Flatten(),\n",
    "    nn.Linear(64,32),\n",
    "    nn.ReLU(),\n",
    "    nn.Linear(32,10)\n",
    ")\n",
    "\n",
    "class Model(pl.LightningModule):\n",
    "    \n",
    "    def __init__(self,net,learning_rate=1e-3):\n",
    "        super().__init__()\n",
    "        self.save_hyperparameters()\n",
    "        self.net = net\n",
    "        self.train_acc = Accuracy()\n",
    "        self.val_acc = Accuracy()\n",
    "        self.test_acc = Accuracy() \n",
    "        \n",
    "        \n",
    "    def forward(self,x):\n",
    "        x = self.net(x)\n",
    "        return x\n",
    "    \n",
    "    \n",
    "    #定义loss\n",
    "    def training_step(self, batch, batch_idx):\n",
    "        x, y = batch\n",
    "        preds = self(x)\n",
    "        loss = nn.CrossEntropyLoss()(preds,y)\n",
    "        return {\"loss\":loss,\"preds\":preds.detach(),\"y\":y.detach()}\n",
    "    \n",
    "    #定义各种metrics\n",
    "    def training_step_end(self,outputs):\n",
    "        train_acc = self.train_acc(outputs['preds'], outputs['y']).item()    \n",
    "        self.log(\"train_acc\",train_acc,prog_bar=True)\n",
    "        return {\"loss\":outputs[\"loss\"].mean()}\n",
    "    \n",
    "    #定义optimizer,以及可选的lr_scheduler\n",
    "    def configure_optimizers(self):\n",
    "        return torch.optim.Adam(self.parameters(), lr=self.hparams.learning_rate)\n",
    "    \n",
    "    def validation_step(self, batch, batch_idx):\n",
    "        x, y = batch\n",
    "        preds = self(x)\n",
    "        loss = nn.CrossEntropyLoss()(preds,y)\n",
    "        return {\"loss\":loss,\"preds\":preds.detach(),\"y\":y.detach()}\n",
    "\n",
    "    def validation_step_end(self,outputs):\n",
    "        val_acc = self.val_acc(outputs['preds'], outputs['y']).item()    \n",
    "        self.log(\"val_loss\",outputs[\"loss\"].mean(),on_epoch=True,on_step=False)\n",
    "        self.log(\"val_acc\",val_acc,prog_bar=True,on_epoch=True,on_step=False)\n",
    "    \n",
    "    def test_step(self, batch, batch_idx):\n",
    "        x, y = batch\n",
    "        preds = self(x)\n",
    "        loss = nn.CrossEntropyLoss()(preds,y)\n",
    "        return {\"loss\":loss,\"preds\":preds.detach(),\"y\":y.detach()}\n",
    "    \n",
    "    def test_step_end(self,outputs):\n",
    "        test_acc = self.test_acc(outputs['preds'], outputs['y']).item()    \n",
    "        self.log(\"test_acc\",test_acc,on_epoch=True,on_step=False)\n",
    "        self.log(\"test_loss\",outputs[\"loss\"].mean(),on_epoch=True,on_step=False)\n",
    "    \n",
    "    @staticmethod\n",
    "    def add_model_args(parent_parser):\n",
    "        parser = ArgumentParser(parents=[parent_parser], add_help=False)\n",
    "        parser.add_argument('--learning_rate', type=float, default=1e-3)\n",
    "        return parser\n",
    "    \n",
    "\n",
    "#================================================================================\n",
    "# 三，训练模型\n",
    "#================================================================================\n",
    "    \n",
    "def main(hparams):\n",
    "    pl.seed_everything(1234)\n",
    "    \n",
    "    data_mnist = MNISTDataModule(batch_size=hparams.batch_size,\n",
    "                                 num_workers=hparams.num_workers)\n",
    "    \n",
    "    model = Model(net,learning_rate=hparams.learning_rate)\n",
    "    \n",
    "    ckpt_callback = pl.callbacks.ModelCheckpoint(\n",
    "        monitor='val_loss',\n",
    "        save_top_k=1,\n",
    "        mode='min'\n",
    "    )\n",
    "    early_stopping = pl.callbacks.EarlyStopping(monitor = 'val_loss',\n",
    "                   patience=3,\n",
    "                   mode = 'min')\n",
    "    \n",
    "    trainer = pl.Trainer.from_argparse_args( \n",
    "        hparams,\n",
    "        max_epochs=10,\n",
    "        \n",
    "        callbacks = [ckpt_callback,early_stopping]\n",
    "    ) \n",
    "\n",
    "    \n",
    "    \n",
    "    if hparams.auto_scale_batch_size is not None:\n",
    "        #搜索不发生OOM的最大batch_size\n",
    "        max_batch_size = trainer.tuner.scale_batch_size(model,data_mnist,\n",
    "                        mode=hparams.auto_scale_batch_size)\n",
    "        data_mnist.batch_size = max_batch_size\n",
    "        \n",
    "        #等价于\n",
    "        #trainer.tune(model,data_mnist)\n",
    "        \n",
    "    \n",
    "    #gpus=0, #单CPU模式\n",
    "    #gpus=1, #单GPU模式\n",
    "    #num_processes=4,strategy=\"ddp_find_unused_parameters_false\", #多CPU(进程)模式\n",
    "    #gpus=4,strategy=\"dp\", #多GPU(dp速度提升效果一般)\n",
    "    #gpus=4,strategy=“ddp_find_unused_parameters_false\" #多GPU(ddp速度提升效果好)\n",
    "\n",
    "    trainer.fit(model,data_mnist)\n",
    "    result = trainer.test(model,data_mnist,ckpt_path='best')\n",
    "\n",
    "if __name__ == \"__main__\":\n",
    "    parser = ArgumentParser()\n",
    "    parser = MNISTDataModule.add_dataset_args(parser)\n",
    "    parser = Model.add_model_args(parser)\n",
    "    parser = pl.Trainer.add_argparse_args(parser)\n",
    "    hparams = parser.parse_args()\n",
    "    main(hparams)\n"
   ]
  },
  {
   "cell_type": "code",
   "execution_count": null,
   "id": "842109db-14fe-4d31-bd88-eb8cf463309e",
   "metadata": {},
   "outputs": [],
   "source": []
  },
  {
   "cell_type": "markdown",
   "id": "f9ff1897",
   "metadata": {},
   "source": [
    "### 1，使用多进程读取数据(num_workers=4)\n",
    "\n",
    "使用多进程读取数据，可以避免数据加载过程成为性能瓶颈。"
   ]
  },
  {
   "cell_type": "markdown",
   "id": "4c192aa5",
   "metadata": {},
   "source": [
    "* 单进程读取数据(num_workers=0, gpus=1): 1min 18s\n",
    "\n",
    "* 多进程读取数据(num_workers=4, gpus=1): 59.7s"
   ]
  },
  {
   "cell_type": "code",
   "execution_count": 17,
   "id": "fa6d4362",
   "metadata": {},
   "outputs": [
    {
     "name": "stdout",
     "output_type": "stream",
     "text": [
      "CPU times: total: 15.6 ms\n",
      "Wall time: 345 ms\n"
     ]
    },
    {
     "name": "stderr",
     "output_type": "stream",
     "text": [
      "Traceback (most recent call last):\n",
      "  File \"mnist_cnn.py\", line 1, in <module>\n",
      "    import torch \n",
      "ModuleNotFoundError: No module named 'torch'\n"
     ]
    }
   ],
   "source": [
    "%%time\n",
    "#单进程读取数据(num_workers=0)\n",
    "!python3 mnist_cnn.py --num_workers=0 --gpus=1 "
   ]
  },
  {
   "cell_type": "markdown",
   "id": "ecda78f5",
   "metadata": {},
   "source": [
    "```\n",
    "------------------------------------------------------------------\n",
    "DATALOADER:0 TEST RESULTS\n",
    "{'test_acc': 0.9857000112533569, 'test_loss': 0.04885349050164223}\n",
    "--------------------------------------------------------------------------------\n",
    "\n",
    "CPU times: user 4.67 s, sys: 2.14 s, total: 6.81 s\n",
    "Wall time: 2min 50s\n",
    "```"
   ]
  },
  {
   "cell_type": "code",
   "execution_count": null,
   "id": "23025ad8",
   "metadata": {},
   "outputs": [],
   "source": []
  },
  {
   "cell_type": "code",
   "execution_count": null,
   "id": "f6597ed3",
   "metadata": {},
   "outputs": [],
   "source": [
    "%%time\n",
    "#多进程读取数据(num_workers=4)\n",
    "!python3 mnist_cnn.py --num_workers=4 --gpus=1 "
   ]
  },
  {
   "cell_type": "markdown",
   "id": "50f7f6df",
   "metadata": {},
   "source": [
    "```\n",
    "---------------------------------------------------------------\n",
    "DATALOADER:0 TEST RESULTS\n",
    "{'test_acc': 0.9764000177383423, 'test_loss': 0.0820135846734047}\n",
    "--------------------------------------------------------------------------------\n",
    "Testing: 100%|███████████████████████████████| 313/313 [00:01<00:00, 163.40it/s]\n",
    "CPU times: user 1.56 s, sys: 647 ms, total: 2.21 s\n",
    "Wall time: 59.7 s\n",
    "```"
   ]
  },
  {
   "cell_type": "code",
   "execution_count": null,
   "id": "1c8a8774",
   "metadata": {},
   "outputs": [],
   "source": []
  },
  {
   "cell_type": "code",
   "execution_count": null,
   "id": "9efdbe3f",
   "metadata": {},
   "outputs": [],
   "source": []
  },
  {
   "cell_type": "markdown",
   "id": "e1670e6f",
   "metadata": {},
   "source": [
    "### 2，使用锁业内存(pin_memory=True)"
   ]
  },
  {
   "cell_type": "markdown",
   "id": "253ada52",
   "metadata": {},
   "source": [
    "锁页内存存放的内容在任何情况下都不会与主机的虚拟内存进行交换（注：虚拟内存就是硬盘）\n",
    "\n",
    "因此锁业内存比非锁业内存读写效率更高，copy到GPU上也更快速。\n",
    "\n",
    "当计算机的内存充足的时候，可以设置pin_memory=True。当系统卡住，或者交换内存使用过多的时候，设置pin_memory=False。\n",
    "\n",
    "因为pin_memory与电脑硬件性能有关，pytorch开发者不能确保每一个炼丹玩家都有高端设备，因此pin_memory默认为False。\n"
   ]
  },
  {
   "cell_type": "markdown",
   "id": "4b135184",
   "metadata": {},
   "source": [
    "* 非锁业内存存储数据(pin_memory=False, gpus=1): 1min\n",
    "\n",
    "* 锁业内存存储数据(pin_memory=True, gpus=1): 59.5s\n"
   ]
  },
  {
   "cell_type": "code",
   "execution_count": null,
   "id": "2a2e9929",
   "metadata": {},
   "outputs": [],
   "source": [
    "%%time\n",
    "#非锁业内存存储数据(pin_memory=False)\n",
    "!python3 mnist_cnn.py --pin_memory=False --gpus=1 "
   ]
  },
  {
   "cell_type": "markdown",
   "id": "77ee73c7",
   "metadata": {},
   "source": [
    "```\n",
    "----------------------------------------------------------------\n",
    "DATALOADER:0 TEST RESULTS\n",
    "{'test_acc': 0.9812999963760376, 'test_loss': 0.06231774762272835}\n",
    "--------------------------------------------------------------------------------\n",
    "Testing: 100%|███████████████████████████████| 313/313 [00:01<00:00, 171.69it/s]\n",
    "CPU times: user 1.59 s, sys: 619 ms, total: 2.21 s\n",
    "Wall time: 1min\n",
    "```"
   ]
  },
  {
   "cell_type": "code",
   "execution_count": null,
   "id": "749215e2",
   "metadata": {},
   "outputs": [],
   "source": [
    "%%time\n",
    "#锁业内存存储数据(pin_memory=True)\n",
    "!python3 mnist_cnn.py --pin_memory=True --gpus=1 "
   ]
  },
  {
   "cell_type": "markdown",
   "id": "c5d9dd32",
   "metadata": {},
   "source": [
    "```\n",
    "---------------------------------------------------------------\n",
    "DATALOADER:0 TEST RESULTS\n",
    "{'test_acc': 0.9757999777793884, 'test_loss': 0.08017424494028091}\n",
    "--------------------------------------------------------------------------------\n",
    "Testing: 100%|███████████████████████████████| 313/313 [00:01<00:00, 174.58it/s]\n",
    "CPU times: user 1.54 s, sys: 677 ms, total: 2.22 s\n",
    "Wall time: 59.5 s\n",
    "```"
   ]
  },
  {
   "cell_type": "markdown",
   "id": "26455e53",
   "metadata": {},
   "source": [
    "### 3，使用加速器(gpus=4,strategy=\"ddp_find_unused_parameters_false\")\n",
    "\n",
    "pl 可以很方便地应用单CPU、多CPU、单GPU、多GPU乃至多TPU上训练模型。\n",
    "\n",
    "以下几种情况训练耗时统计如下：\n",
    "\n",
    "* 单CPU: 2min 17s\n",
    "\n",
    "* 单GPU:  59.4 s\n",
    "\n",
    "* 4个GPU(dp模式): 1min\n",
    "\n",
    "* 4个GPU(ddp模式): 38.9 s\n",
    "\n",
    "一般情况下，如果是单机多卡，建议使用 ddp模式，因为dp模式需要非常多的data和model传输，非常耗时。\n",
    "\n"
   ]
  },
  {
   "cell_type": "code",
   "execution_count": null,
   "id": "bd7728f9",
   "metadata": {},
   "outputs": [],
   "source": [
    "%%time\n",
    "#单CPU\n",
    "!python3 mnist_cnn.py --gpus=0 "
   ]
  },
  {
   "cell_type": "markdown",
   "id": "dd62c23c",
   "metadata": {},
   "source": [
    "```\n",
    "-----------------------------------------------------------------\n",
    "DATALOADER:0 TEST RESULTS\n",
    "{'test_acc': 0.9790999889373779, 'test_loss': 0.07223792374134064}\n",
    "--------------------------------------------------------------------------------\n",
    "Testing: 100%|████████████████████████████████| 313/313 [00:05<00:00, 55.95it/s]\n",
    "CPU times: user 2.67 s, sys: 740 ms, total: 3.41 s\n",
    "Wall time: 2min 17s\n",
    "```"
   ]
  },
  {
   "cell_type": "code",
   "execution_count": null,
   "id": "8a2ff9ce",
   "metadata": {},
   "outputs": [],
   "source": [
    "%%time\n",
    "#单GPU\n",
    "!python3 mnist_cnn.py --gpus=1"
   ]
  },
  {
   "cell_type": "markdown",
   "id": "d6875397",
   "metadata": {},
   "source": [
    "```\n",
    "---------------------------------------------------------------\n",
    "DATALOADER:0 TEST RESULTS\n",
    "{'test_acc': 0.9778000116348267, 'test_loss': 0.06929327547550201}\n",
    "--------------------------------------------------------------------------------\n",
    "Testing: 100%|███████████████████████████████| 313/313 [00:01<00:00, 171.04it/s]\n",
    "CPU times: user 1.83 s, sys: 488 ms, total: 2.32 s\n",
    "Wall time: 1min 3s\n",
    "```"
   ]
  },
  {
   "cell_type": "code",
   "execution_count": null,
   "id": "a987bc2a",
   "metadata": {},
   "outputs": [],
   "source": [
    "%%time\n",
    "#多GPU，dp模式（为公平比较，batch_size=32*4）\n",
    "!python3 mnist_cnn.py --gpus=4 --strategy=\"dp\" --batch_size=128"
   ]
  },
  {
   "cell_type": "markdown",
   "id": "77073b7a",
   "metadata": {},
   "source": [
    "```\n",
    "------------------------------------------------------------------\n",
    "DATALOADER:0 TEST RESULTS\n",
    "{'test_acc': 0.9790999889373779, 'test_loss': 0.06855566054582596}\n",
    "--------------------------------------------------------------------------------\n",
    "Testing: 100%|██████████████████████████████████| 79/79 [00:02<00:00, 38.55it/s]\n",
    "CPU times: user 1.2 s, sys: 553 ms, total: 1.75 s\n",
    "Wall time: 1min\n",
    "```"
   ]
  },
  {
   "cell_type": "code",
   "execution_count": null,
   "id": "43018329",
   "metadata": {},
   "outputs": [],
   "source": []
  },
  {
   "cell_type": "code",
   "execution_count": null,
   "id": "6fa1f488",
   "metadata": {},
   "outputs": [],
   "source": [
    "%%time\n",
    "#多GPU，ddp模式\n",
    "!python3 mnist_cnn.py --gpus=4 --strategy=\"ddp_find_unused_parameters_false\""
   ]
  },
  {
   "cell_type": "markdown",
   "id": "e9e96fe6",
   "metadata": {},
   "source": [
    "```\n",
    "---------------------------------------------------------------\n",
    "DATALOADER:0 TEST RESULTS\n",
    "{'test_acc': 0.9732000231742859, 'test_loss': 0.08606339246034622}\n",
    "--------------------------------------------------------------------------------\n",
    "Testing: 100%|██████████████████████████████████| 79/79 [00:00<00:00, 85.79it/s]\n",
    "CPU times: user 784 ms, sys: 387 ms, total: 1.17 s\n",
    "Wall time: 38.9 s\n",
    "```\n"
   ]
  },
  {
   "cell_type": "code",
   "execution_count": null,
   "id": "dacaa85b",
   "metadata": {},
   "outputs": [],
   "source": []
  },
  {
   "cell_type": "code",
   "execution_count": null,
   "id": "090dbf1f",
   "metadata": {},
   "outputs": [],
   "source": []
  },
  {
   "cell_type": "markdown",
   "id": "37f89470",
   "metadata": {},
   "source": [
    "### 4，使用梯度累加(accumulate_grad_batches=6)"
   ]
  },
  {
   "cell_type": "markdown",
   "id": "e7dbb726",
   "metadata": {},
   "source": [
    "梯度累加就是累加多个batch的梯度，然后用累加的梯度更新一次参数，使用梯度累加相当于增大batch_size.\n",
    "\n",
    "由于更新参数的计算量略大于简单梯度求和的计算量（对于大部分优化器而言），使用梯度累加会让速度略有提升。\n",
    "\n",
    "* 4个GPU(ddp模式): 38.9 s\n",
    "\n",
    "* 4个GPU(ddp模式)+梯度累加: 36.9 s"
   ]
  },
  {
   "cell_type": "code",
   "execution_count": null,
   "id": "872bfc35",
   "metadata": {
    "lines_to_next_cell": 0
   },
   "outputs": [],
   "source": [
    "%%time\n",
    "#多GPU，ddp模式, 考虑梯度累加\n",
    "!python3 mnist_cnn.py --accumulate_grad_batches=6 --gpus=4 --strategy=\"ddp_find_unused_parameters_false\" "
   ]
  },
  {
   "cell_type": "markdown",
   "id": "23e1271f",
   "metadata": {},
   "source": [
    "```\n",
    "----------------------------------------------------------------\n",
    "DATALOADER:0 TEST RESULTS\n",
    "{'test_acc': 0.9603000283241272, 'test_loss': 0.1400066614151001}\n",
    "--------------------------------------------------------------------------------\n",
    "Testing: 100%|██████████████████████████████████| 79/79 [00:00<00:00, 89.10it/s]\n",
    "CPU times: user 749 ms, sys: 402 ms, total: 1.15 s\n",
    "Wall time: 36.9 s\n",
    "```"
   ]
  },
  {
   "cell_type": "markdown",
   "id": "58afdb0d",
   "metadata": {},
   "source": [
    "\n"
   ]
  },
  {
   "cell_type": "markdown",
   "id": "86aeb0bc",
   "metadata": {},
   "source": [
    "### 5，使用半精度(precision=16) "
   ]
  },
  {
   "cell_type": "markdown",
   "id": "e1d1cc94",
   "metadata": {},
   "source": [
    "通过precision可以设置 double (64), float (32), bfloat16 (\"bf16\"), half (16) 精度的训练。\n",
    "\n",
    "默认是float(32) 标准精度，bfloat16 (\"bf16\")是混合精度。\n",
    "\n",
    "如果选择 half(16) 半精度，并同时增大batch_size为原来2倍, 通常训练速度会提升3倍左右。\n"
   ]
  },
  {
   "cell_type": "code",
   "execution_count": null,
   "id": "626a4433",
   "metadata": {},
   "outputs": [],
   "source": [
    "%%time \n",
    "#半精度\n",
    "!python3 mnist_cnn.py --precision=16 --batch_size=64 --gpus=1"
   ]
  },
  {
   "cell_type": "code",
   "execution_count": null,
   "id": "e44efe53",
   "metadata": {},
   "outputs": [],
   "source": []
  },
  {
   "cell_type": "markdown",
   "id": "02b5844a",
   "metadata": {},
   "source": [
    "### 6，自动搜索最大batch_size(auto_scale_batch_size=\"power\") "
   ]
  },
  {
   "cell_type": "code",
   "execution_count": null,
   "id": "dfac369f",
   "metadata": {},
   "outputs": [],
   "source": [
    "!python3 mnist_cnn.py --auto_scale_batch_size=\"power\"  --gpus=1"
   ]
  },
  {
   "cell_type": "code",
   "execution_count": null,
   "id": "faeda7a7",
   "metadata": {},
   "outputs": [],
   "source": []
  },
  {
   "cell_type": "markdown",
   "id": "9508c293",
   "metadata": {},
   "source": [
    "## 四，训练涨分技巧"
   ]
  },
  {
   "cell_type": "markdown",
   "id": "61841977",
   "metadata": {},
   "source": [
    "pytorch_lightning 可以非常容易地支持以下训练涨分技巧: \n",
    "\n",
    "* SWA(随机参数平均): 调用pl.callbacks.stochastic_weight_avg.StochasticWeightAveraging实现。\n",
    "\n",
    "* CyclicLR(学习率周期性调度策略): 设置 lr_scheduler 为 torch.optim.lr_scheduler.CyclicLR实现。\n",
    "\n",
    "* auto_lr_find最优学习率发现: 设置 pl.Trainer(auto_lr_find = True)实现。\n",
    "\n",
    "\n",
    "参考论文:\n",
    "\n",
    "* Cyclical Learning Rates for Training Neural Networks 【https://arxiv.org/pdf/1506.01186.pdf】\n",
    "\n",
    "* Averaging Weights Leads to Wider Optima and Better Generalization【https://arxiv.org/abs/1803.05407】"
   ]
  },
  {
   "cell_type": "markdown",
   "id": "fb9d5477-59cb-4fc6-880c-d61b5b7ac72d",
   "metadata": {},
   "source": [
    "我们将代码整理成如下形式，以便后续测试使用。"
   ]
  },
  {
   "cell_type": "code",
   "execution_count": null,
   "id": "2be95dc9-63bd-4f27-9473-f6762bc600d1",
   "metadata": {},
   "outputs": [],
   "source": []
  },
  {
   "cell_type": "code",
   "execution_count": null,
   "id": "439eeec3-a229-4164-934f-bec6215187f1",
   "metadata": {},
   "outputs": [],
   "source": [
    "%%writefile mnist_cnn.py\n",
    "import torch \n",
    "from torch import nn \n",
    "from argparse import ArgumentParser\n",
    "import numpy as np \n",
    "\n",
    "import torchvision \n",
    "from torchvision import transforms as T\n",
    "from torchvision.datasets import MNIST\n",
    "from torch.utils.data import DataLoader,random_split\n",
    "import pytorch_lightning as pl\n",
    "from torchmetrics import Accuracy\n",
    "\n",
    "#================================================================================\n",
    "# 一，准备数据\n",
    "#================================================================================\n",
    "\n",
    "class MNISTDataModule(pl.LightningDataModule):\n",
    "    def __init__(self, data_dir: str = \"./minist/\", \n",
    "                 batch_size: int = 32,\n",
    "                 num_workers: int =4,\n",
    "                 pin_memory:bool =True):\n",
    "        super().__init__()\n",
    "        self.data_dir = data_dir\n",
    "        self.batch_size = batch_size\n",
    "        self.num_workers = num_workers\n",
    "        self.pin_memory = pin_memory\n",
    "\n",
    "    def setup(self, stage = None):\n",
    "        transform = T.Compose([T.ToTensor()])\n",
    "        self.ds_test = MNIST(self.data_dir, download=True,train=False,transform=transform)\n",
    "        self.ds_predict = MNIST(self.data_dir, download=True, train=False,transform=transform)\n",
    "        ds_full = MNIST(self.data_dir, download=True, train=True,transform=transform)\n",
    "        ds_train, self.ds_val = random_split(ds_full, [59000, 1000])\n",
    "        #为加速训练，随机取10000个\n",
    "        indices = np.arange(59000)\n",
    "        np.random.shuffle(indices)\n",
    "        self.ds_train = torch.utils.data.dataset.Subset(\n",
    "            ds_train,indices = indices[:3000]) \n",
    "\n",
    "    def train_dataloader(self):\n",
    "        return DataLoader(self.ds_train, batch_size=self.batch_size,\n",
    "                          shuffle=True, num_workers=self.num_workers,\n",
    "                          pin_memory=self.pin_memory)\n",
    "\n",
    "    def val_dataloader(self):\n",
    "        return DataLoader(self.ds_val, batch_size=self.batch_size,\n",
    "                          shuffle=False, num_workers=self.num_workers,\n",
    "                          pin_memory=self.pin_memory)\n",
    "\n",
    "    def test_dataloader(self):\n",
    "        return DataLoader(self.ds_test, batch_size=self.batch_size,\n",
    "                          shuffle=False, num_workers=self.num_workers,\n",
    "                          pin_memory=self.pin_memory)\n",
    "\n",
    "    def predict_dataloader(self):\n",
    "        return DataLoader(self.ds_predict, batch_size=self.batch_size,\n",
    "                          shuffle=False, num_workers=self.num_workers,\n",
    "                          pin_memory=self.pin_memory)\n",
    "    \n",
    "    @staticmethod\n",
    "    def add_dataset_args(parent_parser):\n",
    "        parser = ArgumentParser(parents=[parent_parser], add_help=False)\n",
    "        parser.add_argument('--batch_size', type=int, default=32)\n",
    "        parser.add_argument('--num_workers', type=int, default=8)\n",
    "        parser.add_argument('--pin_memory', type=bool, default=True)\n",
    "        return parser\n",
    "\n",
    "#================================================================================\n",
    "# 二，定义模型\n",
    "#================================================================================\n",
    "\n",
    "net = nn.Sequential(\n",
    "    nn.Conv2d(in_channels=1,out_channels=32,kernel_size = 3),\n",
    "    nn.MaxPool2d(kernel_size = 2,stride = 2),\n",
    "    nn.Conv2d(in_channels=32,out_channels=64,kernel_size = 5),\n",
    "    nn.MaxPool2d(kernel_size = 2,stride = 2),\n",
    "    nn.Dropout2d(p = 0.1),\n",
    "    nn.AdaptiveMaxPool2d((1,1)),\n",
    "    nn.Flatten(),\n",
    "    nn.Linear(64,32),\n",
    "    nn.ReLU(),\n",
    "    nn.Linear(32,10)\n",
    ")\n",
    "\n",
    "class Model(pl.LightningModule):\n",
    "    \n",
    "    def __init__(self,net,\n",
    "                 learning_rate=1e-3,\n",
    "                 use_CyclicLR = False,\n",
    "                 epoch_size=500):\n",
    "        super().__init__()\n",
    "        self.save_hyperparameters() #自动创建self.hparams\n",
    "        self.net = net\n",
    "        self.train_acc = Accuracy()\n",
    "        self.val_acc = Accuracy()\n",
    "        self.test_acc = Accuracy() \n",
    "        \n",
    "        \n",
    "    def forward(self,x):\n",
    "        x = self.net(x)\n",
    "        return x\n",
    "    \n",
    "    \n",
    "    #定义loss\n",
    "    def training_step(self, batch, batch_idx):\n",
    "        x, y = batch\n",
    "        preds = self(x)\n",
    "        loss = nn.CrossEntropyLoss()(preds,y)\n",
    "        return {\"loss\":loss,\"preds\":preds.detach(),\"y\":y.detach()}\n",
    "    \n",
    "    #定义各种metrics\n",
    "    def training_step_end(self,outputs):\n",
    "        train_acc = self.train_acc(outputs['preds'], outputs['y']).item()    \n",
    "        self.log(\"train_acc\",train_acc,prog_bar=True)\n",
    "        return {\"loss\":outputs[\"loss\"].mean()}\n",
    "    \n",
    "    #定义optimizer,以及可选的lr_scheduler\n",
    "    def configure_optimizers(self):\n",
    "        optimizer = torch.optim.RMSprop(self.parameters(), lr=self.hparams.learning_rate)\n",
    "        if not self.hparams.use_CyclicLR:\n",
    "            return optimizer \n",
    "\n",
    "        max_lr = self.hparams.learning_rate\n",
    "        base_lr = max_lr/4.0\n",
    "        scheduler = torch.optim.lr_scheduler.CyclicLR(optimizer,\n",
    "            base_lr=base_lr,max_lr=max_lr,\n",
    "            step_size_up=5*self.hparams.epoch_size,cycle_momentum=False)\n",
    "        self.print(\"set lr = \"+str(max_lr))\n",
    "        \n",
    "        return ([optimizer],[scheduler])\n",
    "    \n",
    "    def validation_step(self, batch, batch_idx):\n",
    "        x, y = batch\n",
    "        preds = self(x)\n",
    "        loss = nn.CrossEntropyLoss()(preds,y)\n",
    "        return {\"loss\":loss,\"preds\":preds.detach(),\"y\":y.detach()}\n",
    "\n",
    "    def validation_step_end(self,outputs):\n",
    "        val_acc = self.val_acc(outputs['preds'], outputs['y']).item()    \n",
    "        self.log(\"val_loss\",outputs[\"loss\"].mean(),on_epoch=True,on_step=False)\n",
    "        self.log(\"val_acc\",val_acc,prog_bar=True,on_epoch=True,on_step=False)\n",
    "    \n",
    "    def test_step(self, batch, batch_idx):\n",
    "        x, y = batch\n",
    "        preds = self(x)\n",
    "        loss = nn.CrossEntropyLoss()(preds,y)\n",
    "        return {\"loss\":loss,\"preds\":preds.detach(),\"y\":y.detach()}\n",
    "    \n",
    "    def test_step_end(self,outputs):\n",
    "        test_acc = self.test_acc(outputs['preds'], outputs['y']).item()    \n",
    "        self.log(\"test_acc\",test_acc,on_epoch=True,on_step=False)\n",
    "        self.log(\"test_loss\",outputs[\"loss\"].mean(),on_epoch=True,on_step=False)\n",
    "    \n",
    "    @staticmethod\n",
    "    def add_model_args(parent_parser):\n",
    "        parser = ArgumentParser(parents=[parent_parser], add_help=False)\n",
    "        parser.add_argument('--learning_rate', type=float, default=7e-3)\n",
    "        parser.add_argument('--use_CyclicLR', type=bool, default=False)\n",
    "        return parser\n",
    "    \n",
    "\n",
    "#================================================================================\n",
    "# 三，训练模型\n",
    "#================================================================================\n",
    "    \n",
    "def main(hparams):\n",
    "    pl.seed_everything(1234)\n",
    "    \n",
    "    data_mnist = MNISTDataModule(batch_size=hparams.batch_size,\n",
    "                                 num_workers=hparams.num_workers)\n",
    "    data_mnist.setup()\n",
    "    epoch_size = len(data_mnist.ds_train)//data_mnist.batch_size\n",
    "    \n",
    "    model = Model(net,learning_rate=hparams.learning_rate,\n",
    "                  use_CyclicLR = hparams.use_CyclicLR,\n",
    "                  epoch_size=epoch_size)\n",
    "    \n",
    "    ckpt_callback = pl.callbacks.ModelCheckpoint(\n",
    "        monitor='val_acc',\n",
    "        save_top_k=3,\n",
    "        mode='max'\n",
    "    )\n",
    "    \n",
    "    early_stopping = pl.callbacks.EarlyStopping(monitor = 'val_acc',\n",
    "                   patience=16,\n",
    "                   mode = 'max')\n",
    "    callbacks = [ckpt_callback,early_stopping]\n",
    "    if hparams.use_swa:\n",
    "        callbacks.append(pl.callbacks.StochasticWeightAveraging())\n",
    "        \n",
    "    trainer = pl.Trainer.from_argparse_args( \n",
    "        hparams,\n",
    "        max_epochs=1000,\n",
    "        callbacks = callbacks) \n",
    "\n",
    "    \n",
    "    print(\"hparams.auto_lr_find=\",hparams.auto_lr_find)\n",
    "    if hparams.auto_lr_find:\n",
    "        \n",
    "        #搜索学习率范围\n",
    "        lr_finder = trainer.tuner.lr_find(model,\n",
    "          datamodule = data_mnist,\n",
    "          min_lr=1e-08,\n",
    "          max_lr=1,\n",
    "          num_training=100,\n",
    "          mode='exponential',\n",
    "          early_stop_threshold=4.0\n",
    "          )\n",
    "        lr_finder.plot() \n",
    "        lr = lr_finder.suggestion()\n",
    "        model.hparams.learning_rate = lr \n",
    "        print(\"suggest lr=\",lr)\n",
    "        \n",
    "        del model \n",
    "        \n",
    "        hparams.learning_rate = lr\n",
    "        model = Model(net,learning_rate=hparams.learning_rate,\n",
    "                  use_CyclicLR = hparams.use_CyclicLR,\n",
    "                  epoch_size=epoch_size)\n",
    "        \n",
    "        #等价于\n",
    "        #trainer.tune(model,data_mnist)\n",
    "        \n",
    "\n",
    "    trainer.fit(model,data_mnist)\n",
    "    train_result = trainer.test(model,data_mnist.train_dataloader(),ckpt_path='best')\n",
    "    val_result = trainer.test(model,data_mnist.val_dataloader(),ckpt_path='best')\n",
    "    test_result = trainer.test(model,data_mnist.test_dataloader(),ckpt_path='best')\n",
    "    \n",
    "    print(\"train_result:\\n\")\n",
    "    print(train_result)\n",
    "    print(\"val_result:\\n\")\n",
    "    print(val_result)\n",
    "    print(\"test_result:\\n\")\n",
    "    print(test_result)\n",
    "    \n",
    "    \n",
    "\n",
    "if __name__ == \"__main__\":\n",
    "    parser = ArgumentParser()\n",
    "    parser.add_argument('--use_swa', default=False, type=bool)\n",
    "    parser = MNISTDataModule.add_dataset_args(parser)\n",
    "    parser = Model.add_model_args(parser)\n",
    "    parser = pl.Trainer.add_argparse_args(parser)\n",
    "    hparams = parser.parse_args()\n",
    "    main(hparams)\n"
   ]
  },
  {
   "cell_type": "code",
   "execution_count": null,
   "id": "f71c326c",
   "metadata": {},
   "outputs": [],
   "source": []
  },
  {
   "cell_type": "markdown",
   "id": "bc72745f",
   "metadata": {
    "tags": []
   },
   "source": [
    "### 1，SWA 随机权重平均 (pl.callbacks.stochastic_weight_avg.StochasticWeightAveraging)"
   ]
  },
  {
   "cell_type": "markdown",
   "id": "e19ae84d-4838-4cc0-9fc6-2043d18b3cfc",
   "metadata": {},
   "source": [
    "* 平凡方式训练：test_acc = 0.9581000208854675\n",
    "\n",
    "* SWA随机权重： test_acc = 0.963100016117096"
   ]
  },
  {
   "cell_type": "code",
   "execution_count": null,
   "id": "49138e06-555d-4c44-9f05-7720d179cc0f",
   "metadata": {},
   "outputs": [],
   "source": [
    "#平凡方式训练\n",
    "!python3 mnist_cnn.py --gpus=2 --strategy=\"ddp_find_unused_parameters_false\""
   ]
  },
  {
   "cell_type": "markdown",
   "id": "04fd2e75",
   "metadata": {},
   "source": [
    "```\n",
    "------------------------------------------------------------------\n",
    "DATALOADER:0 TEST RESULTS\n",
    "{'test_acc': 0.9581000208854675, 'test_loss': 0.14859822392463684}\n",
    "--------------------------------------------------------------------------------\n",
    "```"
   ]
  },
  {
   "cell_type": "code",
   "execution_count": null,
   "id": "eeee80a6-5e08-4f70-a255-87f17a6a8cf0",
   "metadata": {},
   "outputs": [],
   "source": []
  },
  {
   "cell_type": "code",
   "execution_count": null,
   "id": "4623555b-ca77-4cbe-83d5-f6b0e28cd303",
   "metadata": {},
   "outputs": [],
   "source": []
  },
  {
   "cell_type": "code",
   "execution_count": null,
   "id": "46a5f55b",
   "metadata": {},
   "outputs": [],
   "source": [
    "#使用SWA随机权重\n",
    "!python3 mnist_cnn.py --gpus=2 --strategy=\"ddp_find_unused_parameters_false\" --use_swa=True"
   ]
  },
  {
   "cell_type": "markdown",
   "id": "682b75fe",
   "metadata": {},
   "source": [
    "```\n",
    "-----------------------------------------------------------------\n",
    "DATALOADER:0 TEST RESULTS\n",
    "{'test_acc': 0.963100016117096, 'test_loss': 0.18146753311157227}\n",
    "--------------------------------------------------------------------------------\n",
    "```"
   ]
  },
  {
   "cell_type": "code",
   "execution_count": null,
   "id": "71d115f7",
   "metadata": {},
   "outputs": [],
   "source": []
  },
  {
   "cell_type": "markdown",
   "id": "b9f16e11-6035-4f57-9576-619ca41939a3",
   "metadata": {
    "tags": []
   },
   "source": [
    "### 2，CyclicLR学习率调度策略（torch.optim.lr_scheduler.CyclicLR）"
   ]
  },
  {
   "cell_type": "markdown",
   "id": "58a2c037-e15a-4631-b5b5-9af87a51f82e",
   "metadata": {},
   "source": [
    "* 平凡方式训练：test_acc = 0.9581000208854675\n",
    "\n",
    "* SWA随机权重： test_acc = 0.963100016117096\n",
    "\n",
    "* SWA随机权重 + CyClicLR学习率调度策略: test_acc = 0.9688000082969666"
   ]
  },
  {
   "cell_type": "code",
   "execution_count": null,
   "id": "9a90ef18-abed-4d6e-b388-e20b7d3630e3",
   "metadata": {},
   "outputs": [],
   "source": []
  },
  {
   "cell_type": "code",
   "execution_count": null,
   "id": "c39a6a28-9c38-4a61-940f-314b7611737c",
   "metadata": {},
   "outputs": [],
   "source": [
    "!python3 mnist_cnn.py --gpus=2 --strategy=\"ddp_find_unused_parameters_false\" --use_swa=True --use_CyclicLR=True "
   ]
  },
  {
   "cell_type": "markdown",
   "id": "456becb1",
   "metadata": {},
   "source": [
    "```\n",
    "------------------------------------------------------------------\n",
    "DATALOADER:0 TEST RESULTS\n",
    "{'test_acc': 0.9688000082969666, 'test_loss': 0.11470437049865723}\n",
    "--------------------------------------------------------------------------------\n",
    "```"
   ]
  },
  {
   "cell_type": "code",
   "execution_count": null,
   "id": "3fd4d835",
   "metadata": {},
   "outputs": [],
   "source": []
  },
  {
   "cell_type": "markdown",
   "id": "57d4bbcc",
   "metadata": {},
   "source": []
  },
  {
   "cell_type": "markdown",
   "id": "a7e9b3d4-739a-44b0-9576-5198712d7b90",
   "metadata": {},
   "source": [
    "### 3, 最优学习率搜索(auto_lr_find=True)"
   ]
  },
  {
   "cell_type": "markdown",
   "id": "821ac510-96f2-49b6-97a9-679303d1b844",
   "metadata": {},
   "source": [
    "* 平凡方式训练：test_acc = 0.9581000208854675\n",
    "\n",
    "* SWA随机权重： test_acc = 0.963100016117096\n",
    "\n",
    "* SWA随机权重 + CyClicLR学习率调度策略: test_acc = 0.9688000082969666\n",
    "\n",
    "* SWA随机权重 + CyClicLR学习率调度策略 + 最优学习率搜索： test_acc = 0.9693999886512756"
   ]
  },
  {
   "cell_type": "code",
   "execution_count": null,
   "id": "6777c89a-e83e-4242-8a4f-9f572bacb899",
   "metadata": {},
   "outputs": [],
   "source": [
    "!python3 mnist_cnn.py --gpus=1  --auto_lr_find=True --use_swa=True --use_CyclicLR=True \n"
   ]
  },
  {
   "cell_type": "markdown",
   "id": "bd8f4a2a",
   "metadata": {},
   "source": [
    "```\n",
    "---------------------------------------------------------------\n",
    "DATALOADER:0 TEST RESULTS\n",
    "{'test_acc': 0.9693999886512756, 'test_loss': 0.11024412512779236}\n",
    "--------------------------------------------------------------------------------\n",
    "Testing: 100%|███████████████████████████████| 313/313 [00:02<00:00, 137.85it/s]\n",
    "```"
   ]
  }
 ],
 "metadata": {
  "jupytext": {
   "cell_metadata_filter": "-all",
   "formats": "ipynb,md",
   "main_language": "python",
   "notebook_metadata_filter": "-all"
  },
  "kernelspec": {
   "display_name": "Python 3 (ipykernel)",
   "language": "python",
   "name": "python3"
  },
  "language_info": {
   "codemirror_mode": {
    "name": "ipython",
    "version": 3
   },
   "file_extension": ".py",
   "mimetype": "text/x-python",
   "name": "python",
   "nbconvert_exporter": "python",
   "pygments_lexer": "ipython3",
   "version": "3.8.19"
  }
 },
 "nbformat": 4,
 "nbformat_minor": 5
}
